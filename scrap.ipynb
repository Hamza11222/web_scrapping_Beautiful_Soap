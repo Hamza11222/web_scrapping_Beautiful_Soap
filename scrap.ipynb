{
  "nbformat": 4,
  "nbformat_minor": 0,
  "metadata": {
    "colab": {
      "name": "scrap.ipynb",
      "provenance": [],
      "collapsed_sections": [],
      "authorship_tag": "ABX9TyNsp+j1WfO8prWOwGBtJuIa",
      "include_colab_link": true
    },
    "kernelspec": {
      "name": "python3",
      "display_name": "Python 3"
    },
    "language_info": {
      "name": "python"
    }
  },
  "cells": [
    {
      "cell_type": "markdown",
      "metadata": {
        "id": "view-in-github",
        "colab_type": "text"
      },
      "source": [
        "<a href=\"https://colab.research.google.com/github/Hamza11222/web_scrapping_Beautiful_Soap/blob/main/scrap.ipynb\" target=\"_parent\"><img src=\"https://colab.research.google.com/assets/colab-badge.svg\" alt=\"Open In Colab\"/></a>"
      ]
    },
    {
      "cell_type": "code",
      "execution_count": null,
      "metadata": {
        "id": "WWk9i_k-J7ga"
      },
      "outputs": [],
      "source": [
        "import requests\n",
        "import re\n",
        "from bs4 import BeautifulSoup"
      ]
    },
    {
      "cell_type": "code",
      "source": [
        "URL = \"https://en.wikipedia.org/w/index.php?title=Family_tree_of_British_monarchs&oldid=1043575587\" \n",
        " # Url of Ford in Make\n",
        "page = requests.get(URL)\n"
      ],
      "metadata": {
        "id": "SsEyqLnJLcDb"
      },
      "execution_count": null,
      "outputs": []
    },
    {
      "cell_type": "code",
      "source": [
        "soup = BeautifulSoup(page.content, \"html.parser\")"
      ],
      "metadata": {
        "id": "tKMM1FxYLuV0"
      },
      "execution_count": null,
      "outputs": []
    },
    {
      "cell_type": "code",
      "source": [
        "title_wikipedia = soup.find('table')\n",
        "print(title_wikipedia)"
      ],
      "metadata": {
        "colab": {
          "base_uri": "https://localhost:8080/"
        },
        "id": "oI5cXVZoLxBl",
        "outputId": "f0ac7ba5-1e70-41e1-cfcf-fdb5b2cc9257"
      },
      "execution_count": null,
      "outputs": [
        {
          "output_type": "stream",
          "name": "stdout",
          "text": [
            "<table style=\"border-spacing: 0px; border-collapse: separate; margin: 0 auto;\">\n",
            "<tbody><tr style=\"height:1px;text-align:center\"><td colspan=\"2\" rowspan=\"2\" style=\"height:2em;width:2em\"></td><td colspan=\"2\" rowspan=\"2\" style=\"height:2em;width:2em\"></td><td colspan=\"2\" rowspan=\"2\" style=\"height:2em;width:2em\"></td><td colspan=\"2\" rowspan=\"2\" style=\"height:2em;width:2em\"></td><td colspan=\"2\" rowspan=\"2\" style=\"height:2em;width:2em\"></td><td colspan=\"2\" rowspan=\"2\" style=\"height:2em;width:2em\"></td><td colspan=\"2\" rowspan=\"2\" style=\"height:2em;width:2em\"></td><td colspan=\"2\" rowspan=\"2\" style=\"height:2em;width:2em\"></td><td colspan=\"2\" rowspan=\"2\" style=\"height:2em;width:2em\"></td><td colspan=\"2\" rowspan=\"2\" style=\"height:2em;width:2em\"></td><td colspan=\"2\" rowspan=\"2\" style=\"height:2em;width:2em\"></td><td colspan=\"6\" rowspan=\"2\" style=\"border:1px solid black;padding:0.2em;border-width:0px\"><a href=\"/wiki/House_of_Wessex\" title=\"House of Wessex\">House of Wessex</a></td></tr><tr style=\"height:1px;text-align:center\"></tr>\n",
            "<tr style=\"height:1px;text-align:center\"><td colspan=\"2\" rowspan=\"2\" style=\"height:2em;width:2em\"></td><td colspan=\"2\" rowspan=\"2\" style=\"height:2em;width:2em\"></td><td colspan=\"2\" rowspan=\"2\" style=\"height:2em;width:2em\"></td><td colspan=\"2\" rowspan=\"2\" style=\"height:2em;width:2em\"></td><td colspan=\"2\" rowspan=\"2\" style=\"height:2em;width:2em\"></td><td colspan=\"2\" rowspan=\"2\" style=\"height:2em;width:2em\"></td><td colspan=\"2\" rowspan=\"2\" style=\"height:2em;width:2em\"></td><td colspan=\"2\" rowspan=\"2\" style=\"height:2em;width:2em\"></td><td colspan=\"2\" rowspan=\"2\" style=\"height:2em;width:2em\"></td><td colspan=\"2\" rowspan=\"2\" style=\"height:2em;width:2em\"></td><td colspan=\"2\" rowspan=\"2\" style=\"height:2em;width:2em\"></td><td colspan=\"6\" rowspan=\"2\" style=\"border:1px solid black;padding:0.2em;border-width:2px\"><a href=\"/wiki/Alfred_the_Great\" title=\"Alfred the Great\">Alfred<br/><span style=\"font-size:85%;\">the Great</span></a><br/><span style=\"font-size:85%;\">King of Wessex<br/>(849–899)<br/><b>r. 871–899</b></span></td></tr><tr style=\"height:1px;text-align:center\"></tr>\n",
            "<tr style=\"height:1px;text-align:center\"><td colspan=\"2\" rowspan=\"2\" style=\"height:2em;width:2em\"></td><td colspan=\"2\" rowspan=\"2\" style=\"height:2em;width:2em\"></td><td colspan=\"2\" rowspan=\"2\" style=\"height:2em;width:2em\"></td><td colspan=\"2\" rowspan=\"2\" style=\"height:2em;width:2em\"></td><td colspan=\"2\" rowspan=\"2\" style=\"height:2em;width:2em\"></td><td colspan=\"2\" rowspan=\"2\" style=\"height:2em;width:2em\"></td><td colspan=\"2\" rowspan=\"2\" style=\"height:2em;width:2em\"></td><td colspan=\"2\" rowspan=\"2\" style=\"height:2em;width:2em\"></td><td colspan=\"2\" rowspan=\"2\" style=\"height:2em;width:2em\"></td><td colspan=\"2\" rowspan=\"2\" style=\"height:2em;width:2em\"></td><td colspan=\"2\" rowspan=\"2\" style=\"height:2em;width:2em\"></td><td colspan=\"2\" rowspan=\"2\" style=\"height:2em;width:2em\"></td><td rowspan=\"2\" style=\"border-right:1px solid black;height:2em;width:1em\"></td><td rowspan=\"2\" style=\"height:2em;width:1em\"></td><td colspan=\"2\" rowspan=\"2\" style=\"height:2em;width:2em\"></td></tr><tr style=\"height:1px;text-align:center\"></tr>\n",
            "<tr style=\"height:1px;text-align:center\"><td colspan=\"2\" rowspan=\"2\" style=\"height:2em;width:2em\"></td><td colspan=\"2\" rowspan=\"2\" style=\"height:2em;width:2em\"></td><td colspan=\"2\" rowspan=\"2\" style=\"height:2em;width:2em\"></td><td colspan=\"2\" rowspan=\"2\" style=\"height:2em;width:2em\"></td><td colspan=\"2\" rowspan=\"2\" style=\"height:2em;width:2em\"></td><td colspan=\"2\" rowspan=\"2\" style=\"height:2em;width:2em\"></td><td colspan=\"2\" rowspan=\"2\" style=\"height:2em;width:2em\"></td><td colspan=\"2\" rowspan=\"2\" style=\"height:2em;width:2em\"></td><td colspan=\"2\" rowspan=\"2\" style=\"height:2em;width:2em\"></td><td colspan=\"2\" rowspan=\"2\" style=\"height:2em;width:2em\"></td><td colspan=\"2\" rowspan=\"2\" style=\"height:2em;width:2em\"></td><td colspan=\"6\" rowspan=\"2\" style=\"border:1px solid black;padding:0.2em;border-width:2px\"><a href=\"/wiki/Edward_the_Elder\" title=\"Edward the Elder\">Edward<br/><span style=\"font-size:85%;\">the Elder</span></a><br/><span style=\"font-size:85%;\">(<abbr title=\"circa\">c.</abbr><span style=\"white-space:nowrap;\"> 874/877</span>–924)<br/><b>r. 899–924</b></span></td></tr><tr style=\"height:1px;text-align:center\"></tr>\n",
            "<tr style=\"height:1px;text-align:center\"><td colspan=\"2\" rowspan=\"2\" style=\"height:2em;width:2em\"></td><td colspan=\"2\" rowspan=\"2\" style=\"height:2em;width:2em\"></td><td colspan=\"2\" rowspan=\"2\" style=\"height:2em;width:2em\"></td><td colspan=\"2\" rowspan=\"2\" style=\"height:2em;width:2em\"></td><td colspan=\"2\" rowspan=\"2\" style=\"height:2em;width:2em\"></td><td colspan=\"2\" rowspan=\"2\" style=\"height:2em;width:2em\"></td><td colspan=\"2\" rowspan=\"2\" style=\"height:2em;width:2em\"></td><td colspan=\"2\" rowspan=\"2\" style=\"height:2em;width:2em\"></td><td style=\"height:1em;width:1em\"></td><td style=\"height:1em;border-bottom:1px solid black;width:1em\"></td><td colspan=\"2\" style=\"height:1em;border-bottom:1px solid black;width:2em\"></td><td colspan=\"2\" style=\"height:1em;border-bottom:1px solid black;width:2em\"></td><td colspan=\"2\" style=\"height:1em;border-bottom:1px solid black;width:2em\"></td><td style=\"border-right:1px solid black;border-bottom:1px solid black;height:1em;width:1em\"></td><td style=\"height:1em;border-bottom:1px solid black;width:1em\"></td><td colspan=\"2\" style=\"height:1em;border-bottom:1px solid black;width:2em\"></td><td colspan=\"2\" style=\"height:1em;border-bottom:1px solid black;width:2em\"></td><td colspan=\"2\" style=\"height:1em;border-bottom:1px solid black;width:2em\"></td><td style=\"height:1em;border-bottom:1px solid black;width:1em\"></td><td rowspan=\"2\" style=\"height:2em;width:1em\"></td><td colspan=\"2\" rowspan=\"2\" style=\"height:2em;width:2em\"></td></tr><tr style=\"height:1px;text-align:center\"><td style=\"border-right:1px solid black;height:1em;width:1em\"></td><td style=\"height:1em;width:1em\"></td><td colspan=\"2\" style=\"height:1em;width:2em\"></td><td colspan=\"2\" style=\"height:1em;width:2em\"></td><td colspan=\"2\" style=\"height:1em;width:2em\"></td><td style=\"border-right:1px solid black;height:1em;width:1em\"></td><td style=\"height:1em;width:1em\"></td><td colspan=\"2\" style=\"height:1em;width:2em\"></td><td colspan=\"2\" style=\"height:1em;width:2em\"></td><td colspan=\"2\" style=\"height:1em;width:2em\"></td><td style=\"border-right:1px solid black;height:1em;width:1em\"></td></tr>\n",
            "<tr style=\"height:1px;text-align:center\"><td colspan=\"2\" rowspan=\"2\" style=\"height:2em;width:2em\"></td><td colspan=\"2\" rowspan=\"2\" style=\"height:2em;width:2em\"></td><td colspan=\"2\" rowspan=\"2\" style=\"height:2em;width:2em\"></td><td colspan=\"2\" rowspan=\"2\" style=\"height:2em;width:2em\"></td><td colspan=\"2\" rowspan=\"2\" style=\"height:2em;width:2em\"></td><td colspan=\"2\" rowspan=\"2\" style=\"height:2em;width:2em\"></td><td colspan=\"2\" rowspan=\"2\" style=\"height:2em;width:2em\"></td><td colspan=\"6\" rowspan=\"2\" style=\"border:1px solid black;padding:0.2em;border-width:2px\"><a href=\"/wiki/%C3%86thelstan\" title=\"Æthelstan\">Æthelstan</a><br/><span style=\"font-size:85%;\">King of the English<br/>(<abbr title=\"circa\">c.</abbr><span style=\"white-space:nowrap;\"> 894</span>–939)<br/><b>r. 924–939</b></span></td><td colspan=\"2\" rowspan=\"2\" style=\"height:2em;width:2em\"></td><td colspan=\"6\" rowspan=\"2\" style=\"border:1px solid black;padding:0.2em;border-width:2px\"><a href=\"/wiki/Edmund_I\" title=\"Edmund I\">Edmund I</a><br/><span style=\"font-size:85%;\">King of the English<br/>(921–946)<br/><b>r. 939–946</b></span></td><td colspan=\"2\" rowspan=\"2\" style=\"height:2em;width:2em\"></td><td colspan=\"6\" rowspan=\"2\" style=\"border:1px solid black;padding:0.2em;border-width:2px\"><a href=\"/wiki/Eadred\" title=\"Eadred\">Eadred</a><br/><span style=\"font-size:85%;\">King of the English<br/>(923–955)<br/><b>r. 946–955</b></span></td></tr><tr style=\"height:1px;text-align:center\"></tr>\n",
            "<tr style=\"height:1px;text-align:center\"><td colspan=\"2\" rowspan=\"2\" style=\"height:2em;width:2em\"></td><td colspan=\"2\" rowspan=\"2\" style=\"height:2em;width:2em\"></td><td colspan=\"2\" rowspan=\"2\" style=\"height:2em;width:2em\"></td><td colspan=\"2\" rowspan=\"2\" style=\"height:2em;width:2em\"></td><td colspan=\"2\" rowspan=\"2\" style=\"height:2em;width:2em\"></td><td colspan=\"2\" rowspan=\"2\" style=\"height:2em;width:2em\"></td><td colspan=\"2\" rowspan=\"2\" style=\"height:2em;width:2em\"></td><td colspan=\"2\" rowspan=\"2\" style=\"height:2em;width:2em\"></td><td style=\"height:1em;width:1em\"></td><td style=\"height:1em;border-bottom:1px solid black;width:1em\"></td><td colspan=\"2\" style=\"height:1em;border-bottom:1px solid black;width:2em\"></td><td colspan=\"2\" style=\"height:1em;border-bottom:1px solid black;width:2em\"></td><td colspan=\"2\" style=\"height:1em;border-bottom:1px solid black;width:2em\"></td><td style=\"border-right:1px solid black;border-bottom:1px solid black;height:1em;width:1em\"></td><td rowspan=\"2\" style=\"height:2em;width:1em\"></td><td colspan=\"2\" rowspan=\"2\" style=\"height:2em;width:2em\"></td><td colspan=\"2\" rowspan=\"2\" style=\"height:2em;width:2em\"></td><td colspan=\"2\" rowspan=\"2\" style=\"height:2em;width:2em\"></td><td colspan=\"2\" rowspan=\"2\" style=\"height:2em;width:2em\"></td><td colspan=\"2\" rowspan=\"2\" style=\"height:2em;width:2em\"></td><td colspan=\"2\" rowspan=\"2\" style=\"height:2em;width:2em\"></td><td colspan=\"6\" rowspan=\"2\" style=\"border:1px solid black;padding:0.2em;border-width:0px\"><a href=\"/wiki/House_of_Kn%C3%BDtlinga\" title=\"House of Knýtlinga\">House of Knýtlinga</a></td></tr><tr style=\"height:1px;text-align:center\"><td style=\"border-right:1px solid black;height:1em;width:1em\"></td><td style=\"height:1em;width:1em\"></td><td colspan=\"2\" style=\"height:1em;width:2em\"></td><td colspan=\"2\" style=\"height:1em;width:2em\"></td><td colspan=\"2\" style=\"height:1em;width:2em\"></td><td style=\"border-right:1px solid black;height:1em;width:1em\"></td></tr>\n",
            "<tr style=\"height:1px;text-align:center\"><td colspan=\"2\" rowspan=\"2\" style=\"height:2em;width:2em\"></td><td colspan=\"2\" rowspan=\"2\" style=\"height:2em;width:2em\"></td><td colspan=\"2\" rowspan=\"2\" style=\"height:2em;width:2em\"></td><td colspan=\"2\" rowspan=\"2\" style=\"height:2em;width:2em\"></td><td colspan=\"2\" rowspan=\"2\" style=\"height:2em;width:2em\"></td><td colspan=\"2\" rowspan=\"2\" style=\"height:2em;width:2em\"></td><td colspan=\"2\" rowspan=\"2\" style=\"height:2em;width:2em\"></td><td colspan=\"6\" rowspan=\"2\" style=\"border:1px solid black;padding:0.2em;border-width:2px\"><a href=\"/wiki/Eadwig\" title=\"Eadwig\">Eadwig</a><br/><span style=\"font-size:85%;\">All-Fair<br/>King of England<br/>(?–959)<br/><b>r. 955–959</b></span></td><td colspan=\"2\" rowspan=\"2\" style=\"height:2em;width:2em\"></td><td colspan=\"6\" rowspan=\"2\" style=\"border:1px solid black;padding:0.2em;border-width:2px\"><a href=\"/wiki/Edgar_the_Peaceful\" title=\"Edgar the Peaceful\">Edgar I<br/><span style=\"font-size:85%;\">the Peaceful</span></a><br/><span style=\"font-size:85%;\">King of England<br/>(<abbr title=\"circa\">c.</abbr><span style=\"white-space:nowrap;\"> 943</span>–975)<br/><b>r. 959–975</b></span></td><td colspan=\"2\" rowspan=\"2\" style=\"height:2em;width:2em\"></td><td colspan=\"2\" rowspan=\"2\" style=\"height:2em;width:2em\"></td><td colspan=\"2\" rowspan=\"2\" style=\"height:2em;width:2em\"></td><td colspan=\"2\" rowspan=\"2\" style=\"height:2em;width:2em\"></td><td colspan=\"2\" rowspan=\"2\" style=\"height:2em;width:2em\"></td><td colspan=\"6\" rowspan=\"2\" style=\"border:1px solid black;padding:0.2em;border-width:2px\"><a href=\"/wiki/Sweyn_Forkbeard\" title=\"Sweyn Forkbeard\">Sweyn<br/><span style=\"font-size:85%;\">Forkbeard</span></a><br/><span style=\"font-size:85%;\">King of the English<br/>(960–1014)<br/><b>r. 1013–1014</b></span></td><td colspan=\"2\" rowspan=\"2\" style=\"height:2em;width:2em\"></td><td colspan=\"2\" rowspan=\"2\" style=\"height:2em;width:2em\"></td><td colspan=\"2\" rowspan=\"2\" style=\"height:2em;width:2em\"></td><td colspan=\"6\" rowspan=\"2\" style=\"border:1px solid black;padding:0.2em\"><a href=\"/wiki/Richard_I_of_Normandy\" title=\"Richard I of Normandy\">Richard I</a><br/><span style=\"font-size:85%;\">Duke of Normandy<br/>(933–996)<br/><b>r. 942–996</b></span></td></tr><tr style=\"height:1px;text-align:center\"></tr>\n",
            "<tr style=\"height:1px;text-align:center\"><td colspan=\"2\" rowspan=\"2\" style=\"height:2em;width:2em\"></td><td colspan=\"2\" rowspan=\"2\" style=\"height:2em;width:2em\"></td><td colspan=\"2\" rowspan=\"2\" style=\"height:2em;width:2em\"></td><td colspan=\"2\" rowspan=\"2\" style=\"height:2em;width:2em\"></td><td colspan=\"2\" rowspan=\"2\" style=\"height:2em;width:2em\"></td><td colspan=\"2\" rowspan=\"2\" style=\"height:2em;width:2em\"></td><td colspan=\"2\" rowspan=\"2\" style=\"height:2em;width:2em\"></td><td colspan=\"2\" rowspan=\"2\" style=\"height:2em;width:2em\"></td><td style=\"height:1em;width:1em\"></td><td style=\"height:1em;border-bottom:1px solid black;width:1em\"></td><td colspan=\"2\" style=\"height:1em;border-bottom:1px solid black;width:2em\"></td><td colspan=\"2\" style=\"height:1em;border-bottom:1px solid black;width:2em\"></td><td colspan=\"2\" style=\"height:1em;border-bottom:1px solid black;width:2em\"></td><td style=\"border-right:1px solid black;border-bottom:1px solid black;height:1em;width:1em\"></td><td rowspan=\"2\" style=\"height:2em;width:1em\"></td><td colspan=\"2\" rowspan=\"2\" style=\"height:2em;width:2em\"></td><td colspan=\"2\" rowspan=\"2\" style=\"height:2em;width:2em\"></td><td colspan=\"2\" rowspan=\"2\" style=\"height:2em;width:2em\"></td><td style=\"height:1em;width:1em\"></td><td style=\"height:1em;border-bottom:1px solid black;width:1em\"></td><td colspan=\"2\" style=\"height:1em;border-bottom:1px solid black;width:2em\"></td><td colspan=\"2\" style=\"height:1em;border-bottom:1px solid black;width:2em\"></td><td colspan=\"2\" style=\"height:1em;border-bottom:1px solid black;width:2em\"></td><td style=\"border-right:1px solid black;border-bottom:1px dotted black;height:1em;width:1em\"></td><td style=\"height:1em;border-bottom:1px dotted black;width:1em\"></td><td colspan=\"2\" style=\"height:1em;border-bottom:1px solid black;width:2em\"></td><td colspan=\"2\" style=\"height:1em;border-bottom:1px solid black;width:2em\"></td><td colspan=\"2\" style=\"height:1em;border-bottom:1px solid black;width:2em\"></td><td colspan=\"2\" style=\"height:1em;border-bottom:1px solid black;width:2em\"></td><td colspan=\"2\" style=\"height:1em;border-bottom:1px solid black;width:2em\"></td><td style=\"border-right:1px solid black;border-bottom:1px solid black;height:1em;width:1em\"></td><td rowspan=\"2\" style=\"height:2em;width:1em\"></td><td colspan=\"2\" rowspan=\"2\" style=\"height:2em;width:2em\"></td></tr><tr style=\"height:1px;text-align:center\"><td style=\"border-right:1px solid black;height:1em;width:1em\"></td><td style=\"height:1em;width:1em\"></td><td colspan=\"2\" style=\"height:1em;width:2em\"></td><td colspan=\"2\" style=\"height:1em;width:2em\"></td><td colspan=\"2\" style=\"height:1em;width:2em\"></td><td style=\"border-right:1px solid black;height:1em;width:1em\"></td><td style=\"border-right:1px solid black;height:1em;width:1em\"></td><td style=\"height:1em;width:1em\"></td><td colspan=\"2\" style=\"height:1em;width:2em\"></td><td colspan=\"2\" style=\"height:1em;width:2em\"></td><td colspan=\"2\" style=\"height:1em;width:2em\"></td><td style=\"border-right:1px solid black;height:1em;width:1em\"></td><td style=\"height:1em;width:1em\"></td><td colspan=\"2\" style=\"height:1em;width:2em\"></td><td colspan=\"2\" style=\"height:1em;width:2em\"></td><td colspan=\"2\" style=\"height:1em;width:2em\"></td><td colspan=\"2\" style=\"height:1em;width:2em\"></td><td colspan=\"2\" style=\"height:1em;width:2em\"></td><td style=\"border-right:1px solid black;height:1em;width:1em\"></td></tr>\n",
            "<tr style=\"height:1px;text-align:center\"><td colspan=\"6\" rowspan=\"2\" style=\"border:1px solid black;padding:0.2em\"><a href=\"/wiki/Godwin,_Earl_of_Wessex\" title=\"Godwin, Earl of Wessex\">Godwin</a><br/><span style=\"font-size:85%;\">Earl of Wessex<br/>(1001–1053)</span></td><td colspan=\"2\" rowspan=\"2\" style=\"height:2em;width:2em\"></td><td colspan=\"2\" rowspan=\"2\" style=\"height:2em;width:2em\"></td><td colspan=\"2\" rowspan=\"2\" style=\"height:2em;width:2em\"></td><td colspan=\"2\" rowspan=\"2\" style=\"height:2em;width:2em\"></td><td colspan=\"6\" rowspan=\"2\" style=\"border:1px solid black;padding:0.2em;border-width:2px\"><a href=\"/wiki/Edward_the_Martyr\" title=\"Edward the Martyr\">Edward<br/><span style=\"font-size:85%;\">the Martyr</span></a><br/><span style=\"font-size:85%;\">King of England<br/>(<abbr title=\"circa\">c.</abbr><span style=\"white-space:nowrap;\"> 962</span>–978)<br/><b>r. 975–978</b></span></td><td colspan=\"2\" rowspan=\"2\" style=\"height:2em;width:2em\"></td><td colspan=\"6\" rowspan=\"2\" style=\"border:1px solid black;padding:0.2em;border-width:2px\"><a href=\"/wiki/%C3%86thelred_the_Unready\" title=\"Æthelred the Unready\">Æthelred<br/><span style=\"font-size:85%;\">the Unready</span></a><br/><span style=\"font-size:85%;\">King of the English<br/>(<abbr title=\"circa\">c.</abbr><span style=\"white-space:nowrap;\"> 968</span>–1016)<br/><b>r. 978–1013<br/>/1014–1016</b></span></td><td colspan=\"2\" style=\"height:1em;border-bottom:1px dashed black;width:2em\"></td><td colspan=\"6\" rowspan=\"2\" style=\"border:1px solid black;padding:0.2em\"><a href=\"/wiki/Emma_of_Normandy\" title=\"Emma of Normandy\">Emma</a><br/><span style=\"font-size:85%;\">of Normandy<br/>(<abbr title=\"circa\">c.</abbr><span style=\"white-space:nowrap;\"> 985</span>–1052)</span></td><td colspan=\"2\" style=\"height:1em;border-bottom:1px dashed black;width:2em\"></td><td colspan=\"6\" rowspan=\"2\" style=\"border:1px solid black;padding:0.2em;border-width:2px\"><a class=\"mw-redirect\" href=\"/wiki/Cnut_the_Great\" title=\"Cnut the Great\">Cnut<br/><span style=\"font-size:85%;\">the Great</span></a><br/><span style=\"font-size:85%;\">King of England<br/>(<abbr title=\"circa\">c.</abbr><span style=\"white-space:nowrap;\"> 985/995</span>–1035)<br/><b>r. 1016–1035</b></span></td><td colspan=\"2\" rowspan=\"2\" style=\"height:2em;width:2em\"></td><td colspan=\"2\" rowspan=\"2\" style=\"height:2em;width:2em\"></td><td colspan=\"2\" rowspan=\"2\" style=\"height:2em;width:2em\"></td><td colspan=\"6\" rowspan=\"2\" style=\"border:1px solid black;padding:0.2em\"><a href=\"/wiki/Richard_II,_Duke_of_Normandy\" title=\"Richard II, Duke of Normandy\">Richard II</a><br/><span style=\"font-size:85%;\">Duke of Normandy<br/>(963–1026)<br/><b>r. 996–1026</b></span></td></tr><tr style=\"height:1px;text-align:center\"><td style=\"border-right:1px solid black;height:1em;width:1em\"></td><td style=\"height:1em;width:1em\"></td><td style=\"border-right:1px solid black;height:1em;width:1em\"></td><td style=\"height:1em;width:1em\"></td></tr>\n",
            "<tr style=\"height:1px;text-align:center\"><td colspan=\"2\" rowspan=\"2\" style=\"height:2em;width:2em\"></td><td rowspan=\"2\" style=\"border-right:1px solid black;height:2em;width:1em\"></td><td rowspan=\"2\" style=\"height:2em;width:1em\"></td><td colspan=\"2\" rowspan=\"2\" style=\"height:2em;width:2em\"></td><td colspan=\"2\" rowspan=\"2\" style=\"height:2em;width:2em\"></td><td colspan=\"2\" rowspan=\"2\" style=\"height:2em;width:2em\"></td><td colspan=\"2\" rowspan=\"2\" style=\"height:2em;width:2em\"></td><td style=\"height:1em;width:1em\"></td><td style=\"height:1em;border-bottom:1px solid black;width:1em\"></td><td colspan=\"2\" style=\"height:1em;border-bottom:1px solid black;width:2em\"></td><td colspan=\"2\" style=\"height:1em;border-bottom:1px solid black;width:2em\"></td><td colspan=\"2\" style=\"height:1em;border-bottom:1px solid black;width:2em\"></td><td colspan=\"2\" style=\"height:1em;border-bottom:1px solid black;width:2em\"></td><td colspan=\"2\" style=\"height:1em;border-bottom:1px solid black;width:2em\"></td><td style=\"border-right:1px solid black;border-bottom:1px solid black;height:1em;width:1em\"></td><td rowspan=\"2\" style=\"height:2em;width:1em\"></td><td colspan=\"2\" rowspan=\"2\" style=\"height:2em;width:2em\"></td><td rowspan=\"2\" style=\"border-right:1px solid black;height:2em;width:1em\"></td><td rowspan=\"2\" style=\"height:2em;width:1em\"></td><td colspan=\"2\" rowspan=\"2\" style=\"height:2em;width:2em\"></td><td colspan=\"2\" rowspan=\"2\" style=\"height:2em;width:2em\"></td><td colspan=\"2\" rowspan=\"2\" style=\"height:2em;width:2em\"></td><td rowspan=\"2\" style=\"border-right:1px solid black;height:2em;width:1em\"></td><td rowspan=\"2\" style=\"height:2em;width:1em\"></td><td colspan=\"2\" rowspan=\"2\" style=\"height:2em;width:2em\"></td><td style=\"border-right:1px solid black;height:1em;width:1em\"></td><td style=\"height:1em;border-bottom:1px solid black;width:1em\"></td><td colspan=\"2\" style=\"height:1em;border-bottom:1px solid black;width:2em\"></td><td style=\"height:1em;border-bottom:1px solid black;width:1em\"></td><td rowspan=\"2\" style=\"height:2em;width:1em\"></td><td colspan=\"2\" rowspan=\"2\" style=\"height:2em;width:2em\"></td><td colspan=\"2\" rowspan=\"2\" style=\"height:2em;width:2em\"></td><td colspan=\"2\" rowspan=\"2\" style=\"height:2em;width:2em\"></td><td rowspan=\"2\" style=\"border-right:1px solid black;height:2em;width:1em\"></td><td rowspan=\"2\" style=\"height:2em;width:1em\"></td><td colspan=\"2\" rowspan=\"2\" style=\"height:2em;width:2em\"></td></tr><tr style=\"height:1px;text-align:center\"><td style=\"border-right:1px solid black;height:1em;width:1em\"></td><td style=\"height:1em;width:1em\"></td><td colspan=\"2\" style=\"height:1em;width:2em\"></td><td colspan=\"2\" style=\"height:1em;width:2em\"></td><td colspan=\"2\" style=\"height:1em;width:2em\"></td><td colspan=\"2\" style=\"height:1em;width:2em\"></td><td colspan=\"2\" style=\"height:1em;width:2em\"></td><td style=\"height:1em;width:1em\"></td><td colspan=\"2\" style=\"height:1em;width:2em\"></td><td colspan=\"2\" style=\"height:1em;width:2em\"></td><td style=\"border-right:1px solid black;height:1em;width:1em\"></td></tr>\n",
            "<tr style=\"height:1px;text-align:center\"><td colspan=\"2\" rowspan=\"2\" style=\"height:2em;width:2em\"></td><td rowspan=\"2\" style=\"border-right:1px solid black;height:2em;width:1em\"></td><td style=\"height:1em;border-bottom:1px solid black;width:1em\"></td><td colspan=\"2\" style=\"height:1em;border-bottom:1px solid black;width:2em\"></td><td colspan=\"2\" style=\"height:1em;border-bottom:1px solid black;width:2em\"></td><td colspan=\"2\" style=\"height:1em;border-bottom:1px solid black;width:2em\"></td><td colspan=\"2\" style=\"height:1em;border-bottom:1px solid black;width:2em\"></td><td style=\"border-right:1px solid black;border-bottom:1px dotted black;height:1em;width:1em\"></td><td style=\"height:1em;border-bottom:1px dotted black;width:1em\"></td><td colspan=\"2\" style=\"height:1em;border-bottom:1px solid black;width:2em\"></td><td colspan=\"2\" style=\"height:1em;border-bottom:1px solid black;width:2em\"></td><td colspan=\"2\" style=\"height:1em;border-bottom:1px solid black;width:2em\"></td><td style=\"height:1em;border-bottom:1px solid black;width:1em\"></td><td rowspan=\"2\" style=\"height:2em;width:1em\"></td><td colspan=\"2\" rowspan=\"2\" style=\"height:2em;width:2em\"></td><td colspan=\"2\" rowspan=\"2\" style=\"height:2em;width:2em\"></td><td colspan=\"2\" rowspan=\"2\" style=\"height:2em;width:2em\"></td><td rowspan=\"2\" style=\"border-right:1px solid black;height:2em;width:1em\"></td><td rowspan=\"2\" style=\"height:2em;width:1em\"></td><td colspan=\"2\" rowspan=\"2\" style=\"height:2em;width:2em\"></td><td colspan=\"2\" rowspan=\"2\" style=\"height:2em;width:2em\"></td><td colspan=\"2\" rowspan=\"2\" style=\"height:2em;width:2em\"></td><td rowspan=\"2\" style=\"border-right:1px solid black;height:2em;width:1em\"></td><td rowspan=\"2\" style=\"height:2em;width:1em\"></td><td colspan=\"2\" rowspan=\"2\" style=\"height:2em;width:2em\"></td><td colspan=\"2\" rowspan=\"2\" style=\"height:2em;width:2em\"></td><td colspan=\"2\" rowspan=\"2\" style=\"height:2em;width:2em\"></td><td rowspan=\"2\" style=\"border-right:1px solid black;height:2em;width:1em\"></td><td rowspan=\"2\" style=\"height:2em;width:1em\"></td><td colspan=\"2\" rowspan=\"2\" style=\"height:2em;width:2em\"></td><td colspan=\"2\" rowspan=\"2\" style=\"height:2em;width:2em\"></td><td colspan=\"2\" rowspan=\"2\" style=\"height:2em;width:2em\"></td><td rowspan=\"2\" style=\"border-right:1px solid black;height:2em;width:1em\"></td><td rowspan=\"2\" style=\"height:2em;width:1em\"></td><td colspan=\"2\" rowspan=\"2\" style=\"height:2em;width:2em\"></td></tr><tr style=\"height:1px;text-align:center\"><td style=\"height:1em;width:1em\"></td><td colspan=\"2\" style=\"height:1em;width:2em\"></td><td colspan=\"2\" style=\"height:1em;width:2em\"></td><td colspan=\"2\" style=\"height:1em;width:2em\"></td><td colspan=\"2\" style=\"height:1em;width:2em\"></td><td style=\"border-right:1px solid black;height:1em;width:1em\"></td><td style=\"height:1em;width:1em\"></td><td colspan=\"2\" style=\"height:1em;width:2em\"></td><td colspan=\"2\" style=\"height:1em;width:2em\"></td><td colspan=\"2\" style=\"height:1em;width:2em\"></td><td style=\"border-right:1px solid black;height:1em;width:1em\"></td></tr>\n",
            "<tr style=\"height:1px;text-align:center\"><td colspan=\"6\" rowspan=\"2\" style=\"border:1px solid black;padding:0.2em;border-width:2px\"><a href=\"/wiki/Harold_Godwinson\" title=\"Harold Godwinson\">Harold<br/><span style=\"font-size:85%;\">Godwinson</span></a><br/><span style=\"font-size:85%;\">King of the English<br/>(<abbr title=\"circa\">c.</abbr><span style=\"white-space:nowrap;\"> 1022</span>–1066)<br/><b>r. 1066</b></span></td><td colspan=\"2\" rowspan=\"2\" style=\"height:2em;width:2em\"></td><td colspan=\"2\" rowspan=\"2\" style=\"height:2em;width:2em\"></td><td colspan=\"6\" rowspan=\"2\" style=\"border:1px solid black;padding:0.2em;border-width:2px\"><a href=\"/wiki/Edmund_Ironside\" title=\"Edmund Ironside\">Edmund II<br/><span style=\"font-size:85%;\">Ironside</span></a><br/><span style=\"font-size:85%;\">King of the English<br/>(?–1016)<br/><b>r. 1016</b></span></td><td colspan=\"2\" rowspan=\"2\" style=\"height:2em;width:2em\"></td><td colspan=\"6\" rowspan=\"2\" style=\"border:1px solid black;padding:0.2em\"><a href=\"/wiki/Edith_of_Wessex\" title=\"Edith of Wessex\">Edith</a><br/><span style=\"font-size:85%;\">of Wessex<br/>(<abbr title=\"circa\">c.</abbr><span style=\"white-space:nowrap;\"> 1025</span>–1075)</span></td><td colspan=\"2\" style=\"height:1em;border-bottom:1px dashed black;width:2em\"></td><td colspan=\"6\" rowspan=\"2\" style=\"border:1px solid black;padding:0.2em;border-width:2px\"><a href=\"/wiki/Edward_the_Confessor\" title=\"Edward the Confessor\">Edward<br/><span style=\"font-size:85%;\">the Confessor</span></a><br/><span style=\"font-size:85%;\">King of the English<br/>(1003/1005–1066)<br/><b>r. 1042–1066</b></span></td><td colspan=\"2\" rowspan=\"2\" style=\"height:2em;width:2em\"></td><td colspan=\"6\" rowspan=\"2\" style=\"border:1px solid black;padding:0.2em;border-width:2px\"><a href=\"/wiki/Harthacnut\" title=\"Harthacnut\">Harthacnut</a><br/><span style=\"font-size:85%;\">Canute III<br/>King of England<br/>(<abbr title=\"circa\">c.</abbr><span style=\"white-space:nowrap;\"> 1018</span>–1042)<br/><b>r. 1040–1042</b></span></td><td colspan=\"2\" rowspan=\"2\" style=\"height:2em;width:2em\"></td><td colspan=\"6\" rowspan=\"2\" style=\"border:1px solid black;padding:0.2em;border-width:2px\"><a href=\"/wiki/Harold_Harefoot\" title=\"Harold Harefoot\">Harold I<br/><span style=\"font-size:85%;\">Harefoot</span></a><br/><span style=\"font-size:85%;\">King of England<br/>(<abbr title=\"circa\">c.</abbr><span style=\"white-space:nowrap;\"> 1015</span>–1040)<br/><b>r. 1035–1040</b></span></td><td colspan=\"2\" rowspan=\"2\" style=\"height:2em;width:2em\"></td><td colspan=\"2\" rowspan=\"2\" style=\"height:2em;width:2em\"></td><td rowspan=\"2\" style=\"border-right:1px solid black;height:2em;width:1em\"></td><td rowspan=\"2\" style=\"height:2em;width:1em\"></td><td colspan=\"2\" rowspan=\"2\" style=\"height:2em;width:2em\"></td></tr><tr style=\"height:1px;text-align:center\"><td colspan=\"2\" style=\"height:1em;width:2em\"></td></tr>\n",
            "<tr style=\"height:1px;text-align:center\"><td colspan=\"2\" rowspan=\"2\" style=\"height:2em;width:2em\"></td><td colspan=\"2\" rowspan=\"2\" style=\"height:2em;width:2em\"></td><td colspan=\"2\" rowspan=\"2\" style=\"height:2em;width:2em\"></td><td colspan=\"2\" rowspan=\"2\" style=\"height:2em;width:2em\"></td><td colspan=\"2\" rowspan=\"2\" style=\"height:2em;width:2em\"></td><td colspan=\"2\" rowspan=\"2\" style=\"height:2em;width:2em\"></td><td rowspan=\"2\" style=\"border-right:1px solid black;height:2em;width:1em\"></td><td rowspan=\"2\" style=\"height:2em;width:1em\"></td><td colspan=\"2\" rowspan=\"2\" style=\"height:2em;width:2em\"></td><td colspan=\"2\" rowspan=\"2\" style=\"height:2em;width:2em\"></td><td colspan=\"2\" rowspan=\"2\" style=\"height:2em;width:2em\"></td><td colspan=\"2\" rowspan=\"2\" style=\"height:2em;width:2em\"></td><td colspan=\"2\" rowspan=\"2\" style=\"height:2em;width:2em\"></td><td colspan=\"2\" rowspan=\"2\" style=\"height:2em;width:2em\"></td><td colspan=\"2\" rowspan=\"2\" style=\"height:2em;width:2em\"></td><td colspan=\"2\" rowspan=\"2\" style=\"height:2em;width:2em\"></td><td colspan=\"2\" rowspan=\"2\" style=\"height:2em;width:2em\"></td><td colspan=\"2\" rowspan=\"2\" style=\"height:2em;width:2em\"></td><td colspan=\"2\" rowspan=\"2\" style=\"height:2em;width:2em\"></td><td colspan=\"2\" rowspan=\"2\" style=\"height:2em;width:2em\"></td><td colspan=\"2\" rowspan=\"2\" style=\"height:2em;width:2em\"></td><td colspan=\"2\" rowspan=\"2\" style=\"height:2em;width:2em\"></td><td colspan=\"2\" rowspan=\"2\" style=\"height:2em;width:2em\"></td><td colspan=\"2\" rowspan=\"2\" style=\"height:2em;width:2em\"></td><td colspan=\"2\" rowspan=\"2\" style=\"height:2em;width:2em\"></td><td colspan=\"2\" rowspan=\"2\" style=\"height:2em;width:2em\"></td><td colspan=\"2\" rowspan=\"2\" style=\"height:2em;width:2em\"></td><td rowspan=\"2\" style=\"border-right:1px solid black;height:2em;width:1em\"></td><td rowspan=\"2\" style=\"height:2em;width:1em\"></td><td colspan=\"2\" rowspan=\"2\" style=\"height:2em;width:2em\"></td></tr><tr style=\"height:1px;text-align:center\"></tr>\n",
            "<tr style=\"height:1px;text-align:center\"><td colspan=\"2\" rowspan=\"2\" style=\"height:2em;width:2em\"></td><td colspan=\"2\" rowspan=\"2\" style=\"height:2em;width:2em\"></td><td colspan=\"2\" rowspan=\"2\" style=\"height:2em;width:2em\"></td><td colspan=\"2\" rowspan=\"2\" style=\"height:2em;width:2em\"></td><td colspan=\"2\" rowspan=\"2\" style=\"height:2em;width:2em\"></td><td colspan=\"6\" rowspan=\"2\" style=\"border:1px solid black;padding:0.2em\"><a href=\"/wiki/Edward_the_Exile\" title=\"Edward the Exile\">Edward<br/><span style=\"font-size:85%;\">the Exile</span></a><br/><span style=\"font-size:85%;\">(1016–1057)</span></td><td colspan=\"2\" rowspan=\"2\" style=\"height:2em;width:2em\"></td><td colspan=\"2\" rowspan=\"2\" style=\"height:2em;width:2em\"></td><td colspan=\"2\" rowspan=\"2\" style=\"height:2em;width:2em\"></td><td colspan=\"2\" rowspan=\"2\" style=\"height:2em;width:2em\"></td><td colspan=\"2\" rowspan=\"2\" style=\"height:2em;width:2em\"></td><td colspan=\"2\" rowspan=\"2\" style=\"height:2em;width:2em\"></td><td colspan=\"2\" rowspan=\"2\" style=\"height:2em;width:2em\"></td><td colspan=\"2\" rowspan=\"2\" style=\"height:2em;width:2em\"></td><td colspan=\"2\" rowspan=\"2\" style=\"height:2em;width:2em\"></td><td colspan=\"2\" rowspan=\"2\" style=\"height:2em;width:2em\"></td><td colspan=\"2\" rowspan=\"2\" style=\"height:2em;width:2em\"></td><td colspan=\"2\" rowspan=\"2\" style=\"height:2em;width:2em\"></td><td colspan=\"2\" rowspan=\"2\" style=\"height:2em;width:2em\"></td><td colspan=\"2\" rowspan=\"2\" style=\"height:2em;width:2em\"></td><td colspan=\"2\" rowspan=\"2\" style=\"height:2em;width:2em\"></td><td colspan=\"2\" rowspan=\"2\" style=\"height:2em;width:2em\"></td><td colspan=\"2\" rowspan=\"2\" style=\"height:2em;width:2em\"></td><td colspan=\"6\" rowspan=\"2\" style=\"border:1px solid black;padding:0.2em\"><a href=\"/wiki/Robert_I,_Duke_of_Normandy\" title=\"Robert I, Duke of Normandy\">Robert I</a><br/><span style=\"font-size:85%;\">Duke of Normandy<br/>(1000–1035)<br/><b>r. 1027–1035</b></span></td></tr><tr style=\"height:1px;text-align:center\"></tr>\n",
            "<tr style=\"height:1px;text-align:center\"><td colspan=\"2\" rowspan=\"2\" style=\"height:2em;width:2em\"></td><td colspan=\"2\" rowspan=\"2\" style=\"height:2em;width:2em\"></td><td colspan=\"2\" rowspan=\"2\" style=\"height:2em;width:2em\"></td><td colspan=\"2\" rowspan=\"2\" style=\"height:2em;width:2em\"></td><td colspan=\"2\" rowspan=\"2\" style=\"height:2em;width:2em\"></td><td colspan=\"2\" rowspan=\"2\" style=\"height:2em;width:2em\"></td><td rowspan=\"2\" style=\"border-right:1px solid black;height:2em;width:1em\"></td><td rowspan=\"2\" style=\"height:2em;width:1em\"></td><td colspan=\"2\" rowspan=\"2\" style=\"height:2em;width:2em\"></td><td colspan=\"2\" rowspan=\"2\" style=\"height:2em;width:2em\"></td><td colspan=\"2\" rowspan=\"2\" style=\"height:2em;width:2em\"></td><td colspan=\"2\" rowspan=\"2\" style=\"height:2em;width:2em\"></td><td colspan=\"2\" rowspan=\"2\" style=\"height:2em;width:2em\"></td><td colspan=\"2\" rowspan=\"2\" style=\"height:2em;width:2em\"></td><td colspan=\"2\" rowspan=\"2\" style=\"height:2em;width:2em\"></td><td style=\"height:1em;width:1em\"></td><td style=\"height:1em;border-bottom:1px solid black;width:1em\"></td><td colspan=\"2\" style=\"height:1em;border-bottom:1px solid black;width:2em\"></td><td colspan=\"2\" style=\"height:1em;border-bottom:1px solid black;width:2em\"></td><td colspan=\"2\" style=\"height:1em;border-bottom:1px solid black;width:2em\"></td><td colspan=\"2\" style=\"height:1em;border-bottom:1px solid black;width:2em\"></td><td colspan=\"2\" style=\"height:1em;border-bottom:1px solid black;width:2em\"></td><td colspan=\"2\" style=\"height:1em;border-bottom:1px solid black;width:2em\"></td><td colspan=\"2\" style=\"height:1em;border-bottom:1px solid black;width:2em\"></td><td colspan=\"2\" style=\"height:1em;border-bottom:1px solid black;width:2em\"></td><td colspan=\"2\" style=\"height:1em;border-bottom:1px solid black;width:2em\"></td><td colspan=\"2\" style=\"height:1em;border-bottom:1px solid black;width:2em\"></td><td colspan=\"2\" style=\"height:1em;border-bottom:1px solid black;width:2em\"></td><td style=\"border-right:1px solid black;border-bottom:1px solid black;height:1em;width:1em\"></td><td rowspan=\"2\" style=\"height:2em;width:1em\"></td><td colspan=\"2\" rowspan=\"2\" style=\"height:2em;width:2em\"></td></tr><tr style=\"height:1px;text-align:center\"><td style=\"border-right:1px solid black;height:1em;width:1em\"></td><td style=\"height:1em;width:1em\"></td><td colspan=\"2\" style=\"height:1em;width:2em\"></td><td colspan=\"2\" style=\"height:1em;width:2em\"></td><td colspan=\"2\" style=\"height:1em;width:2em\"></td><td colspan=\"2\" style=\"height:1em;width:2em\"></td><td colspan=\"2\" style=\"height:1em;width:2em\"></td><td colspan=\"2\" style=\"height:1em;width:2em\"></td><td colspan=\"2\" style=\"height:1em;width:2em\"></td><td colspan=\"2\" style=\"height:1em;width:2em\"></td><td colspan=\"2\" style=\"height:1em;width:2em\"></td><td colspan=\"2\" style=\"height:1em;width:2em\"></td><td colspan=\"2\" style=\"height:1em;width:2em\"></td><td style=\"height:1em;width:1em\"></td></tr>\n",
            "<tr style=\"height:1px;text-align:center\"><td colspan=\"2\" rowspan=\"2\" style=\"height:2em;width:2em\"></td><td colspan=\"2\" rowspan=\"2\" style=\"height:2em;width:2em\"></td><td colspan=\"2\" rowspan=\"2\" style=\"height:2em;width:2em\"></td><td colspan=\"2\" rowspan=\"2\" style=\"height:2em;width:2em\"></td><td colspan=\"2\" rowspan=\"2\" style=\"height:2em;width:2em\"></td><td colspan=\"2\" rowspan=\"2\" style=\"height:2em;width:2em\"></td><td rowspan=\"2\" style=\"border-right:1px solid black;height:2em;width:1em\"></td><td rowspan=\"2\" style=\"height:2em;width:1em\"></td><td colspan=\"2\" rowspan=\"2\" style=\"height:2em;width:2em\"></td><td colspan=\"2\" rowspan=\"2\" style=\"height:2em;width:2em\"></td><td colspan=\"2\" rowspan=\"2\" style=\"height:2em;width:2em\"></td><td colspan=\"2\" rowspan=\"2\" style=\"height:2em;width:2em\"></td><td colspan=\"2\" rowspan=\"2\" style=\"height:2em;width:2em\"></td><td colspan=\"2\" rowspan=\"2\" style=\"height:2em;width:2em\"></td><td colspan=\"6\" rowspan=\"2\" style=\"border:1px solid black;padding:0.2em;border-width:0px\"><a href=\"/wiki/House_of_Normandy\" title=\"House of Normandy\">House of Normandy</a></td></tr><tr style=\"height:1px;text-align:center\"></tr>\n",
            "<tr style=\"height:1px;text-align:center\"><td colspan=\"2\" rowspan=\"2\" style=\"height:2em;width:2em\"></td><td colspan=\"2\" rowspan=\"2\" style=\"height:2em;width:2em\"></td><td colspan=\"2\" rowspan=\"2\" style=\"height:2em;width:2em\"></td><td colspan=\"2\" rowspan=\"2\" style=\"height:2em;width:2em\"></td><td colspan=\"2\" rowspan=\"2\" style=\"height:2em;width:2em\"></td><td colspan=\"6\" rowspan=\"2\" style=\"border:1px solid black;padding:0.2em\"><a href=\"/wiki/Saint_Margaret_of_Scotland\" title=\"Saint Margaret of Scotland\">Margaret</a><br/><span style=\"font-size:85%;\">of Scotland<br/>(<abbr title=\"circa\">c.</abbr><span style=\"white-space:nowrap;\"> 1045</span>–1093)</span></td><td colspan=\"2\" rowspan=\"2\" style=\"height:2em;width:2em\"></td><td colspan=\"2\" rowspan=\"2\" style=\"height:2em;width:2em\"></td><td colspan=\"2\" rowspan=\"2\" style=\"height:2em;width:2em\"></td><td colspan=\"2\" rowspan=\"2\" style=\"height:2em;width:2em\"></td><td colspan=\"2\" rowspan=\"2\" style=\"height:2em;width:2em\"></td><td colspan=\"6\" rowspan=\"2\" style=\"border:1px solid black;padding:0.2em;border-width:2px\"><a href=\"/wiki/William_the_Conqueror\" title=\"William the Conqueror\"><b>William I</b><br/><span style=\"font-size:85%;\">the Conqueror</span></a><br/><span style=\"font-size:85%;\">King of England<br/>(<abbr title=\"circa\">c.</abbr><span style=\"white-space:nowrap;\"> 1028</span>–1087)<br/><b>r. 1066–1087</b></span></td></tr><tr style=\"height:1px;text-align:center\"></tr>\n",
            "<tr style=\"height:1px;text-align:center\"><td colspan=\"2\" rowspan=\"2\" style=\"height:2em;width:2em\"></td><td colspan=\"2\" rowspan=\"2\" style=\"height:2em;width:2em\"></td><td colspan=\"2\" rowspan=\"2\" style=\"height:2em;width:2em\"></td><td colspan=\"2\" rowspan=\"2\" style=\"height:2em;width:2em\"></td><td colspan=\"2\" rowspan=\"2\" style=\"height:2em;width:2em\"></td><td colspan=\"2\" rowspan=\"2\" style=\"height:2em;width:2em\"></td><td rowspan=\"2\" style=\"border-right:1px solid black;height:2em;width:1em\"></td><td rowspan=\"2\" style=\"height:2em;width:1em\"></td><td colspan=\"2\" rowspan=\"2\" style=\"height:2em;width:2em\"></td><td colspan=\"2\" rowspan=\"2\" style=\"height:2em;width:2em\"></td><td colspan=\"2\" rowspan=\"2\" style=\"height:2em;width:2em\"></td><td style=\"height:1em;width:1em\"></td><td style=\"height:1em;border-bottom:1px solid black;width:1em\"></td><td colspan=\"2\" style=\"height:1em;border-bottom:1px solid black;width:2em\"></td><td colspan=\"2\" style=\"height:1em;border-bottom:1px solid black;width:2em\"></td><td colspan=\"2\" style=\"height:1em;border-bottom:1px solid black;width:2em\"></td><td style=\"border-right:1px solid black;border-bottom:1px solid black;height:1em;width:1em\"></td><td style=\"height:1em;border-bottom:1px solid black;width:1em\"></td><td colspan=\"2\" style=\"height:1em;border-bottom:1px solid black;width:2em\"></td><td colspan=\"2\" style=\"height:1em;border-bottom:1px solid black;width:2em\"></td><td colspan=\"2\" style=\"height:1em;border-bottom:1px solid black;width:2em\"></td><td style=\"height:1em;border-bottom:1px solid black;width:1em\"></td><td rowspan=\"2\" style=\"height:2em;width:1em\"></td><td colspan=\"2\" rowspan=\"2\" style=\"height:2em;width:2em\"></td></tr><tr style=\"height:1px;text-align:center\"><td style=\"border-right:1px solid black;height:1em;width:1em\"></td><td style=\"height:1em;width:1em\"></td><td colspan=\"2\" style=\"height:1em;width:2em\"></td><td colspan=\"2\" style=\"height:1em;width:2em\"></td><td colspan=\"2\" style=\"height:1em;width:2em\"></td><td style=\"border-right:1px solid black;height:1em;width:1em\"></td><td style=\"height:1em;width:1em\"></td><td colspan=\"2\" style=\"height:1em;width:2em\"></td><td colspan=\"2\" style=\"height:1em;width:2em\"></td><td colspan=\"2\" style=\"height:1em;width:2em\"></td><td style=\"border-right:1px solid black;height:1em;width:1em\"></td></tr>\n",
            "<tr style=\"height:1px;text-align:center\"><td colspan=\"2\" rowspan=\"2\" style=\"height:2em;width:2em\"></td><td colspan=\"2\" rowspan=\"2\" style=\"height:2em;width:2em\"></td><td colspan=\"2\" rowspan=\"2\" style=\"height:2em;width:2em\"></td><td colspan=\"2\" rowspan=\"2\" style=\"height:2em;width:2em\"></td><td colspan=\"2\" rowspan=\"2\" style=\"height:2em;width:2em\"></td><td colspan=\"6\" rowspan=\"2\" style=\"border:1px solid black;padding:0.2em\"><a href=\"/wiki/Matilda_of_Scotland\" title=\"Matilda of Scotland\">Matilda</a><br/><span style=\"font-size:85%;\">of Scotland<br/>(<abbr title=\"circa\">c.</abbr><span style=\"white-space:nowrap;\"> 1080</span>–1118)</span></td><td colspan=\"2\" style=\"height:1em;border-bottom:1px dashed black;width:2em\"></td><td colspan=\"6\" rowspan=\"2\" style=\"border:1px solid black;padding:0.2em;border-width:2px\"><b><a href=\"/wiki/Henry_I_of_England\" title=\"Henry I of England\">Henry I</a></b><br/><span style=\"font-size:85%;\">King of England<br/>(<abbr title=\"circa\">c.</abbr><span style=\"white-space:nowrap;\"> 1068</span>–1135)<br/><b>r. 1100–1135</b></span></td><td colspan=\"2\" rowspan=\"2\" style=\"height:2em;width:2em\"></td><td colspan=\"6\" rowspan=\"2\" style=\"border:1px solid black;padding:0.2em\"><a href=\"/wiki/Adela_of_Normandy\" title=\"Adela of Normandy\">Adela<br/><span style=\"font-size:85%;\">of Normandy</span></a><br/><span style=\"font-size:85%;\">(<abbr title=\"circa\">c.</abbr><span style=\"white-space:nowrap;\"> 1067</span>–1137)</span></td><td colspan=\"2\" rowspan=\"2\" style=\"height:2em;width:2em\"></td><td colspan=\"6\" rowspan=\"2\" style=\"border:1px solid black;padding:0.2em;border-width:2px\"><b><a href=\"/wiki/William_II_of_England\" title=\"William II of England\">William II</a></b><br/><span style=\"font-size:85%;\"><i>Rufus</i><br/>(<abbr title=\"circa\">c.</abbr><span style=\"white-space:nowrap;\"> 1056</span>–1100)<br/><b>r. 1087–1100</b></span></td></tr><tr style=\"height:1px;text-align:center\"><td style=\"border-right:1px solid black;height:1em;width:1em\"></td><td style=\"height:1em;width:1em\"></td></tr>\n",
            "<tr style=\"height:1px;text-align:center\"><td colspan=\"2\" rowspan=\"2\" style=\"height:2em;width:2em\"></td><td colspan=\"2\" rowspan=\"2\" style=\"height:2em;width:2em\"></td><td colspan=\"2\" rowspan=\"2\" style=\"height:2em;width:2em\"></td><td colspan=\"2\" rowspan=\"2\" style=\"height:2em;width:2em\"></td><td colspan=\"2\" rowspan=\"2\" style=\"height:2em;width:2em\"></td><td colspan=\"2\" rowspan=\"2\" style=\"height:2em;width:2em\"></td><td colspan=\"2\" rowspan=\"2\" style=\"height:2em;width:2em\"></td><td style=\"height:1em;width:1em\"></td><td style=\"height:1em;border-bottom:1px solid black;width:1em\"></td><td style=\"border-right:1px solid black;border-bottom:1px solid black;height:1em;width:1em\"></td><td rowspan=\"2\" style=\"height:2em;width:1em\"></td><td colspan=\"2\" rowspan=\"2\" style=\"height:2em;width:2em\"></td><td colspan=\"2\" rowspan=\"2\" style=\"height:2em;width:2em\"></td><td colspan=\"2\" rowspan=\"2\" style=\"height:2em;width:2em\"></td><td colspan=\"2\" rowspan=\"2\" style=\"height:2em;width:2em\"></td><td colspan=\"2\" rowspan=\"2\" style=\"height:2em;width:2em\"></td><td rowspan=\"2\" style=\"border-right:1px solid black;height:2em;width:1em\"></td><td rowspan=\"2\" style=\"height:2em;width:1em\"></td><td colspan=\"2\" rowspan=\"2\" style=\"height:2em;width:2em\"></td></tr><tr style=\"height:1px;text-align:center\"><td style=\"border-right:1px solid black;height:1em;width:1em\"></td><td style=\"height:1em;width:1em\"></td><td style=\"height:1em;width:1em\"></td></tr>\n",
            "<tr style=\"height:1px;text-align:center\"><td colspan=\"2\" rowspan=\"2\" style=\"height:2em;width:2em\"></td><td colspan=\"2\" rowspan=\"2\" style=\"height:2em;width:2em\"></td><td colspan=\"2\" rowspan=\"2\" style=\"height:2em;width:2em\"></td><td colspan=\"2\" rowspan=\"2\" style=\"height:2em;width:2em\"></td><td colspan=\"2\" rowspan=\"2\" style=\"height:2em;width:2em\"></td><td colspan=\"2\" rowspan=\"2\" style=\"height:2em;width:2em\"></td><td colspan=\"6\" rowspan=\"2\" style=\"border:1px solid black;padding:0.2em;border-width:0px\"><a href=\"/wiki/House_of_Plantagenet\" title=\"House of Plantagenet\">House of Plantagenet</a></td><td colspan=\"2\" rowspan=\"2\" style=\"height:2em;width:2em\"></td><td colspan=\"2\" rowspan=\"2\" style=\"height:2em;width:2em\"></td><td colspan=\"2\" rowspan=\"2\" style=\"height:2em;width:2em\"></td><td colspan=\"2\" rowspan=\"2\" style=\"height:2em;width:2em\"></td><td colspan=\"6\" rowspan=\"2\" style=\"border:1px solid black;padding:0.2em;border-width:0px\"><a href=\"/wiki/House_of_Blois\" title=\"House of Blois\">House of Blois</a></td></tr><tr style=\"height:1px;text-align:center\"></tr>\n",
            "<tr style=\"height:1px;text-align:center\"><td colspan=\"2\" rowspan=\"2\" style=\"height:2em;width:2em\"></td><td colspan=\"2\" rowspan=\"2\" style=\"height:2em;width:2em\"></td><td colspan=\"2\" rowspan=\"2\" style=\"height:2em;width:2em\"></td><td colspan=\"2\" rowspan=\"2\" style=\"height:2em;width:2em\"></td><td colspan=\"2\" rowspan=\"2\" style=\"height:2em;width:2em\"></td><td colspan=\"2\" rowspan=\"2\" style=\"height:2em;width:2em\"></td><td colspan=\"6\" rowspan=\"2\" style=\"border:1px solid black;padding:0.2em;border-width:2px\"><b><a href=\"/wiki/Empress_Matilda\" title=\"Empress Matilda\">Matilda</a></b><br/><span style=\"font-size:85%;\">(<abbr title=\"circa\">c.</abbr><span style=\"white-space:nowrap;\"> 1102</span>–1167)<br/><b>r. 1141</b><br/><i>208 Days</i><br/><i>Disputed</i></span></td><td colspan=\"2\" rowspan=\"2\" style=\"height:2em;width:2em\"></td><td colspan=\"2\" rowspan=\"2\" style=\"height:2em;width:2em\"></td><td colspan=\"2\" rowspan=\"2\" style=\"height:2em;width:2em\"></td><td colspan=\"2\" rowspan=\"2\" style=\"height:2em;width:2em\"></td><td colspan=\"6\" rowspan=\"2\" style=\"border:1px solid black;padding:0.2em;border-width:2px\"><b><a href=\"/wiki/Stephen,_King_of_England\" title=\"Stephen, King of England\">Stephen</a></b><br/><span style=\"font-size:85%;\">(<abbr title=\"circa\">c.</abbr><span style=\"white-space:nowrap;\"> 1092</span>–1154)<br/><b>r. 1135–1141</b><br/><b>/1141–1154</b></span></td></tr><tr style=\"height:1px;text-align:center\"></tr>\n",
            "<tr style=\"height:1px;text-align:center\"><td colspan=\"2\" rowspan=\"2\" style=\"height:2em;width:2em\"></td><td colspan=\"2\" rowspan=\"2\" style=\"height:2em;width:2em\"></td><td colspan=\"2\" rowspan=\"2\" style=\"height:2em;width:2em\"></td><td colspan=\"2\" rowspan=\"2\" style=\"height:2em;width:2em\"></td><td colspan=\"2\" rowspan=\"2\" style=\"height:2em;width:2em\"></td><td colspan=\"2\" rowspan=\"2\" style=\"height:2em;width:2em\"></td><td colspan=\"2\" rowspan=\"2\" style=\"height:2em;width:2em\"></td><td rowspan=\"2\" style=\"border-right:1px solid black;height:2em;width:1em\"></td><td rowspan=\"2\" style=\"height:2em;width:1em\"></td><td colspan=\"2\" rowspan=\"2\" style=\"height:2em;width:2em\"></td></tr><tr style=\"height:1px;text-align:center\"></tr>\n",
            "<tr style=\"height:1px;text-align:center\"><td colspan=\"2\" rowspan=\"2\" style=\"height:2em;width:2em\"></td><td colspan=\"2\" rowspan=\"2\" style=\"height:2em;width:2em\"></td><td colspan=\"2\" rowspan=\"2\" style=\"height:2em;width:2em\"></td><td colspan=\"2\" rowspan=\"2\" style=\"height:2em;width:2em\"></td><td colspan=\"2\" rowspan=\"2\" style=\"height:2em;width:2em\"></td><td colspan=\"2\" rowspan=\"2\" style=\"height:2em;width:2em\"></td><td colspan=\"6\" rowspan=\"2\" style=\"border:1px solid black;padding:0.2em;border-width:2px\"><b><a href=\"/wiki/Henry_II_of_England\" title=\"Henry II of England\">Henry II</a></b><br/><span style=\"font-size:85%;\">(1133–1189)<br/><b>r. 1154–1189</b></span></td></tr><tr style=\"height:1px;text-align:center\"></tr>\n",
            "<tr style=\"height:1px;text-align:center\"><td colspan=\"2\" rowspan=\"2\" style=\"height:2em;width:2em\"></td><td colspan=\"2\" rowspan=\"2\" style=\"height:2em;width:2em\"></td><td colspan=\"2\" rowspan=\"2\" style=\"height:2em;width:2em\"></td><td colspan=\"2\" rowspan=\"2\" style=\"height:2em;width:2em\"></td><td style=\"height:1em;width:1em\"></td><td style=\"height:1em;border-bottom:1px solid black;width:1em\"></td><td colspan=\"2\" style=\"height:1em;border-bottom:1px solid black;width:2em\"></td><td colspan=\"2\" style=\"height:1em;border-bottom:1px solid black;width:2em\"></td><td style=\"border-right:1px solid black;border-bottom:1px solid black;height:1em;width:1em\"></td><td style=\"height:1em;border-bottom:1px solid black;width:1em\"></td><td style=\"height:1em;border-bottom:1px solid black;width:1em\"></td><td rowspan=\"2\" style=\"height:2em;width:1em\"></td><td colspan=\"2\" rowspan=\"2\" style=\"height:2em;width:2em\"></td></tr><tr style=\"height:1px;text-align:center\"><td style=\"border-right:1px solid black;height:1em;width:1em\"></td><td style=\"height:1em;width:1em\"></td><td colspan=\"2\" style=\"height:1em;width:2em\"></td><td colspan=\"2\" style=\"height:1em;width:2em\"></td><td colspan=\"2\" style=\"height:1em;width:2em\"></td><td style=\"border-right:1px solid black;height:1em;width:1em\"></td></tr>\n",
            "<tr style=\"height:1px;text-align:center\"><td colspan=\"2\" rowspan=\"2\" style=\"height:2em;width:2em\"></td><td colspan=\"2\" rowspan=\"2\" style=\"height:2em;width:2em\"></td><td colspan=\"2\" rowspan=\"2\" style=\"height:2em;width:2em\"></td><td colspan=\"6\" rowspan=\"2\" style=\"border:1px solid black;padding:0.2em;border-width:2px\"><b><a href=\"/wiki/Richard_I_of_England\" title=\"Richard I of England\">Richard I</a></b><br/><span style=\"font-size:85%;\"><i>Lionheart</i><br/>(1157–1199)<br/><b>r. 1189–1199</b></span></td><td colspan=\"2\" rowspan=\"2\" style=\"height:2em;width:2em\"></td><td colspan=\"6\" rowspan=\"2\" style=\"border:1px solid black;padding:0.2em;border-width:2px\"><b><a href=\"/wiki/John,_King_of_England\" title=\"John, King of England\">John</a></b><br/><span style=\"font-size:85%;\"><i>Lackland</i><br/>(1166–1216)<br/><b>r. 1199–1216</b></span></td></tr><tr style=\"height:1px;text-align:center\"></tr>\n",
            "<tr style=\"height:1px;text-align:center\"><td colspan=\"2\" rowspan=\"2\" style=\"height:2em;width:2em\"></td><td colspan=\"2\" rowspan=\"2\" style=\"height:2em;width:2em\"></td><td colspan=\"2\" rowspan=\"2\" style=\"height:2em;width:2em\"></td><td colspan=\"2\" rowspan=\"2\" style=\"height:2em;width:2em\"></td><td colspan=\"2\" rowspan=\"2\" style=\"height:2em;width:2em\"></td><td colspan=\"2\" rowspan=\"2\" style=\"height:2em;width:2em\"></td><td colspan=\"2\" rowspan=\"2\" style=\"height:2em;width:2em\"></td><td colspan=\"2\" rowspan=\"2\" style=\"height:2em;width:2em\"></td><td rowspan=\"2\" style=\"border-right:1px solid black;height:2em;width:1em\"></td><td rowspan=\"2\" style=\"height:2em;width:1em\"></td><td colspan=\"2\" rowspan=\"2\" style=\"height:2em;width:2em\"></td></tr><tr style=\"height:1px;text-align:center\"></tr>\n",
            "<tr style=\"height:1px;text-align:center\"><td colspan=\"2\" rowspan=\"2\" style=\"height:2em;width:2em\"></td><td colspan=\"2\" rowspan=\"2\" style=\"height:2em;width:2em\"></td><td colspan=\"2\" rowspan=\"2\" style=\"height:2em;width:2em\"></td><td colspan=\"2\" rowspan=\"2\" style=\"height:2em;width:2em\"></td><td colspan=\"2\" rowspan=\"2\" style=\"height:2em;width:2em\"></td><td colspan=\"2\" rowspan=\"2\" style=\"height:2em;width:2em\"></td><td colspan=\"2\" rowspan=\"2\" style=\"height:2em;width:2em\"></td><td colspan=\"6\" rowspan=\"2\" style=\"border:1px solid black;padding:0.2em;border-width:2px\"><b><a href=\"/wiki/Henry_III_of_England\" title=\"Henry III of England\">Henry III</a></b><br/><span style=\"font-size:85%;\">(1207–1272)<br/><b>r. 1216–1272</b></span></td></tr><tr style=\"height:1px;text-align:center\"></tr>\n",
            "<tr style=\"height:1px;text-align:center\"><td colspan=\"2\" rowspan=\"2\" style=\"height:2em;width:2em\"></td><td colspan=\"2\" rowspan=\"2\" style=\"height:2em;width:2em\"></td><td colspan=\"2\" rowspan=\"2\" style=\"height:2em;width:2em\"></td><td colspan=\"2\" rowspan=\"2\" style=\"height:2em;width:2em\"></td><td colspan=\"2\" rowspan=\"2\" style=\"height:2em;width:2em\"></td><td colspan=\"2\" rowspan=\"2\" style=\"height:2em;width:2em\"></td><td colspan=\"2\" rowspan=\"2\" style=\"height:2em;width:2em\"></td><td colspan=\"2\" rowspan=\"2\" style=\"height:2em;width:2em\"></td><td rowspan=\"2\" style=\"border-right:1px solid black;height:2em;width:1em\"></td><td rowspan=\"2\" style=\"height:2em;width:1em\"></td><td colspan=\"2\" rowspan=\"2\" style=\"height:2em;width:2em\"></td></tr><tr style=\"height:1px;text-align:center\"></tr>\n",
            "<tr style=\"height:1px;text-align:center\"><td colspan=\"2\" rowspan=\"2\" style=\"height:2em;width:2em\"></td><td colspan=\"2\" rowspan=\"2\" style=\"height:2em;width:2em\"></td><td colspan=\"2\" rowspan=\"2\" style=\"height:2em;width:2em\"></td><td colspan=\"2\" rowspan=\"2\" style=\"height:2em;width:2em\"></td><td colspan=\"2\" rowspan=\"2\" style=\"height:2em;width:2em\"></td><td colspan=\"2\" rowspan=\"2\" style=\"height:2em;width:2em\"></td><td colspan=\"2\" rowspan=\"2\" style=\"height:2em;width:2em\"></td><td colspan=\"6\" rowspan=\"2\" style=\"border:1px solid black;padding:0.2em;border-width:2px\"><b><a href=\"/wiki/Edward_I_of_England\" title=\"Edward I of England\">Edward I</a><br/></b><span style=\"font-size:85%;\"><i>Longshanks</i><br/>(1239–1307)<br/><b>r. 1272–1307</b></span></td></tr><tr style=\"height:1px;text-align:center\"></tr>\n",
            "<tr style=\"height:1px;text-align:center\"><td colspan=\"2\" rowspan=\"2\" style=\"height:2em;width:2em\"></td><td colspan=\"2\" rowspan=\"2\" style=\"height:2em;width:2em\"></td><td colspan=\"2\" rowspan=\"2\" style=\"height:2em;width:2em\"></td><td colspan=\"2\" rowspan=\"2\" style=\"height:2em;width:2em\"></td><td colspan=\"2\" rowspan=\"2\" style=\"height:2em;width:2em\"></td><td colspan=\"2\" rowspan=\"2\" style=\"height:2em;width:2em\"></td><td colspan=\"2\" rowspan=\"2\" style=\"height:2em;width:2em\"></td><td colspan=\"2\" rowspan=\"2\" style=\"height:2em;width:2em\"></td><td rowspan=\"2\" style=\"border-right:1px solid black;height:2em;width:1em\"></td><td rowspan=\"2\" style=\"height:2em;width:1em\"></td><td colspan=\"2\" rowspan=\"2\" style=\"height:2em;width:2em\"></td></tr><tr style=\"height:1px;text-align:center\"></tr>\n",
            "<tr style=\"height:1px;text-align:center\"><td colspan=\"2\" rowspan=\"2\" style=\"height:2em;width:2em\"></td><td colspan=\"2\" rowspan=\"2\" style=\"height:2em;width:2em\"></td><td colspan=\"2\" rowspan=\"2\" style=\"height:2em;width:2em\"></td><td colspan=\"2\" rowspan=\"2\" style=\"height:2em;width:2em\"></td><td colspan=\"2\" rowspan=\"2\" style=\"height:2em;width:2em\"></td><td colspan=\"2\" rowspan=\"2\" style=\"height:2em;width:2em\"></td><td colspan=\"2\" rowspan=\"2\" style=\"height:2em;width:2em\"></td><td colspan=\"6\" rowspan=\"2\" style=\"border:1px solid black;padding:0.2em;border-width:2px\"><b><a href=\"/wiki/Edward_II_of_England\" title=\"Edward II of England\">Edward II</a></b><br/><span style=\"font-size:85%;\">(1284–1327)<br/><b>r. 1307–1327</b></span></td></tr><tr style=\"height:1px;text-align:center\"></tr>\n",
            "<tr style=\"height:1px;text-align:center\"><td colspan=\"2\" rowspan=\"2\" style=\"height:2em;width:2em\"></td><td colspan=\"2\" rowspan=\"2\" style=\"height:2em;width:2em\"></td><td colspan=\"2\" rowspan=\"2\" style=\"height:2em;width:2em\"></td><td colspan=\"2\" rowspan=\"2\" style=\"height:2em;width:2em\"></td><td colspan=\"2\" rowspan=\"2\" style=\"height:2em;width:2em\"></td><td colspan=\"2\" rowspan=\"2\" style=\"height:2em;width:2em\"></td><td colspan=\"2\" rowspan=\"2\" style=\"height:2em;width:2em\"></td><td colspan=\"2\" rowspan=\"2\" style=\"height:2em;width:2em\"></td><td rowspan=\"2\" style=\"border-right:1px solid black;height:2em;width:1em\"></td><td rowspan=\"2\" style=\"height:2em;width:1em\"></td><td colspan=\"2\" rowspan=\"2\" style=\"height:2em;width:2em\"></td></tr><tr style=\"height:1px;text-align:center\"></tr>\n",
            "<tr style=\"height:1px;text-align:center\"><td colspan=\"2\" rowspan=\"2\" style=\"height:2em;width:2em\"></td><td colspan=\"2\" rowspan=\"2\" style=\"height:2em;width:2em\"></td><td colspan=\"2\" rowspan=\"2\" style=\"height:2em;width:2em\"></td><td colspan=\"2\" rowspan=\"2\" style=\"height:2em;width:2em\"></td><td colspan=\"2\" rowspan=\"2\" style=\"height:2em;width:2em\"></td><td colspan=\"2\" rowspan=\"2\" style=\"height:2em;width:2em\"></td><td colspan=\"2\" rowspan=\"2\" style=\"height:2em;width:2em\"></td><td colspan=\"6\" rowspan=\"2\" style=\"border:1px solid black;padding:0.2em;border-width:2px\"><b><a href=\"/wiki/Edward_III_of_England\" title=\"Edward III of England\">Edward III</a></b><br/><span style=\"font-size:85%;\">(1312–1377)<br/><b>r. 1327–1377</b></span></td></tr><tr style=\"height:1px;text-align:center\"></tr>\n",
            "<tr style=\"height:1px;text-align:center\"><td colspan=\"2\" rowspan=\"2\" style=\"height:2em;width:2em\"></td><td colspan=\"2\" rowspan=\"2\" style=\"height:2em;width:2em\"></td><td style=\"height:1em;width:1em\"></td><td style=\"height:1em;border-bottom:1px solid black;width:1em\"></td><td colspan=\"2\" style=\"height:1em;border-bottom:1px solid black;width:2em\"></td><td colspan=\"2\" style=\"height:1em;border-bottom:1px solid black;width:2em\"></td><td colspan=\"2\" style=\"height:1em;border-bottom:1px solid black;width:2em\"></td><td colspan=\"2\" style=\"height:1em;border-bottom:1px solid black;width:2em\"></td><td colspan=\"2\" style=\"height:1em;border-bottom:1px solid black;width:2em\"></td><td style=\"border-right:1px solid black;border-bottom:1px solid black;height:1em;width:1em\"></td><td style=\"height:1em;border-bottom:1px solid black;width:1em\"></td><td colspan=\"2\" style=\"height:1em;border-bottom:1px solid black;width:2em\"></td><td colspan=\"2\" style=\"height:1em;border-bottom:1px solid black;width:2em\"></td><td colspan=\"2\" style=\"height:1em;border-bottom:1px solid black;width:2em\"></td><td colspan=\"2\" style=\"height:1em;border-bottom:1px solid black;width:2em\"></td><td colspan=\"2\" style=\"height:1em;border-bottom:1px solid black;width:2em\"></td><td colspan=\"2\" style=\"height:1em;border-bottom:1px solid black;width:2em\"></td><td colspan=\"2\" style=\"height:1em;border-bottom:1px solid black;width:2em\"></td><td colspan=\"2\" style=\"height:1em;border-bottom:1px solid black;width:2em\"></td><td colspan=\"2\" style=\"height:1em;border-bottom:1px solid black;width:2em\"></td><td style=\"height:1em;border-bottom:1px solid black;width:1em\"></td><td rowspan=\"2\" style=\"height:2em;width:1em\"></td><td colspan=\"2\" rowspan=\"2\" style=\"height:2em;width:2em\"></td></tr><tr style=\"height:1px;text-align:center\"><td style=\"border-right:1px solid black;height:1em;width:1em\"></td><td style=\"height:1em;width:1em\"></td><td colspan=\"2\" style=\"height:1em;width:2em\"></td><td colspan=\"2\" style=\"height:1em;width:2em\"></td><td colspan=\"2\" style=\"height:1em;width:2em\"></td><td style=\"border-right:1px solid black;height:1em;width:1em\"></td><td style=\"height:1em;width:1em\"></td><td colspan=\"2\" style=\"height:1em;width:2em\"></td><td colspan=\"2\" style=\"height:1em;width:2em\"></td><td colspan=\"2\" style=\"height:1em;width:2em\"></td><td colspan=\"2\" style=\"height:1em;width:2em\"></td><td colspan=\"2\" style=\"height:1em;width:2em\"></td><td colspan=\"2\" style=\"height:1em;width:2em\"></td><td colspan=\"2\" style=\"height:1em;width:2em\"></td><td style=\"border-right:1px solid black;height:1em;width:1em\"></td><td style=\"height:1em;width:1em\"></td><td colspan=\"2\" style=\"height:1em;width:2em\"></td><td colspan=\"2\" style=\"height:1em;width:2em\"></td><td colspan=\"2\" style=\"height:1em;width:2em\"></td><td style=\"border-right:1px solid black;height:1em;width:1em\"></td></tr>\n",
            "<tr style=\"height:1px;text-align:center\"><td colspan=\"2\" rowspan=\"2\" style=\"height:2em;width:2em\"></td><td colspan=\"2\" rowspan=\"2\" style=\"height:2em;width:2em\"></td><td rowspan=\"2\" style=\"border-right:1px solid black;height:2em;width:1em\"></td><td rowspan=\"2\" style=\"height:2em;width:1em\"></td><td colspan=\"2\" rowspan=\"2\" style=\"height:2em;width:2em\"></td><td colspan=\"2\" rowspan=\"2\" style=\"height:2em;width:2em\"></td><td colspan=\"6\" rowspan=\"2\" style=\"border:1px solid black;padding:0.2em;border-width:0px\"><a href=\"/wiki/House_of_Lancaster\" title=\"House of Lancaster\">House of Lancaster</a></td><td colspan=\"2\" rowspan=\"2\" style=\"height:2em;width:2em\"></td><td colspan=\"2\" rowspan=\"2\" style=\"height:2em;width:2em\"></td><td colspan=\"2\" rowspan=\"2\" style=\"height:2em;width:2em\"></td><td colspan=\"2\" rowspan=\"2\" style=\"height:2em;width:2em\"></td><td colspan=\"2\" rowspan=\"2\" style=\"height:2em;width:2em\"></td><td colspan=\"2\" rowspan=\"2\" style=\"height:2em;width:2em\"></td><td rowspan=\"2\" style=\"border-right:1px solid black;height:2em;width:1em\"></td><td rowspan=\"2\" style=\"height:2em;width:1em\"></td><td colspan=\"2\" rowspan=\"2\" style=\"height:2em;width:2em\"></td><td colspan=\"2\" rowspan=\"2\" style=\"height:2em;width:2em\"></td><td colspan=\"2\" rowspan=\"2\" style=\"height:2em;width:2em\"></td><td rowspan=\"2\" style=\"border-right:1px solid black;height:2em;width:1em\"></td><td rowspan=\"2\" style=\"height:2em;width:1em\"></td><td colspan=\"2\" rowspan=\"2\" style=\"height:2em;width:2em\"></td></tr><tr style=\"height:1px;text-align:center\"></tr>\n",
            "<tr style=\"height:1px;text-align:center\"><td colspan=\"2\" rowspan=\"2\" style=\"height:2em;width:2em\"></td><td colspan=\"6\" rowspan=\"2\" style=\"border:1px solid black;padding:0.2em\"><a class=\"mw-redirect\" href=\"/wiki/Edward,_the_Black_Prince\" title=\"Edward, the Black Prince\">Edward<br/><span style=\"font-size:85%;\">of Wales</span></a><br/><span style=\"font-size:85%;\"><i>The Black Prince</i><br/>(1330–1376)</span></td><td colspan=\"2\" rowspan=\"2\" style=\"height:2em;width:2em\"></td><td colspan=\"6\" rowspan=\"2\" style=\"border:1px solid black;padding:0.2em\"><a href=\"/wiki/John_of_Gaunt\" title=\"John of Gaunt\">John<br/><span style=\"font-size:85%;\">of Gaunt<br/>1st Duke of Lancaster</span></a><br/><span style=\"font-size:85%;\">(1340–1399)</span></td><td colspan=\"2\" rowspan=\"2\" style=\"height:2em;width:2em\"></td><td colspan=\"2\" rowspan=\"2\" style=\"height:2em;width:2em\"></td><td colspan=\"2\" rowspan=\"2\" style=\"height:2em;width:2em\"></td><td colspan=\"2\" rowspan=\"2\" style=\"height:2em;width:2em\"></td><td colspan=\"2\" rowspan=\"2\" style=\"height:2em;width:2em\"></td><td colspan=\"6\" rowspan=\"2\" style=\"border:1px solid black;padding:0.2em\"><a href=\"/wiki/Lionel_of_Antwerp,_Duke_of_Clarence\" title=\"Lionel of Antwerp, Duke of Clarence\">Lionel<br/><span style=\"font-size:85%;\">of Antwerp<br/>1st Duke of Clarence</span></a><br/><span style=\"font-size:85%;\">(1338–1368)</span></td><td colspan=\"2\" rowspan=\"2\" style=\"height:2em;width:2em\"></td><td colspan=\"2\" rowspan=\"2\" style=\"height:2em;width:2em\"></td><td rowspan=\"2\" style=\"border-right:1px solid black;height:2em;width:1em\"></td><td rowspan=\"2\" style=\"height:2em;width:1em\"></td><td colspan=\"2\" rowspan=\"2\" style=\"height:2em;width:2em\"></td></tr><tr style=\"height:1px;text-align:center\"></tr>\n",
            "<tr style=\"height:1px;text-align:center\"><td colspan=\"2\" rowspan=\"2\" style=\"height:2em;width:2em\"></td><td colspan=\"2\" rowspan=\"2\" style=\"height:2em;width:2em\"></td><td rowspan=\"2\" style=\"border-right:1px solid black;height:2em;width:1em\"></td><td rowspan=\"2\" style=\"height:2em;width:1em\"></td><td colspan=\"2\" rowspan=\"2\" style=\"height:2em;width:2em\"></td><td colspan=\"2\" rowspan=\"2\" style=\"height:2em;width:2em\"></td><td colspan=\"2\" rowspan=\"2\" style=\"height:2em;width:2em\"></td><td rowspan=\"2\" style=\"border-right:1px solid black;height:2em;width:1em\"></td><td style=\"height:1em;border-bottom:1px solid black;width:1em\"></td><td colspan=\"2\" style=\"height:1em;border-bottom:1px solid black;width:2em\"></td><td colspan=\"2\" style=\"height:1em;border-bottom:1px solid black;width:2em\"></td><td colspan=\"2\" style=\"height:1em;border-bottom:1px solid black;width:2em\"></td><td style=\"height:1em;border-bottom:1px solid black;width:1em\"></td><td rowspan=\"2\" style=\"height:2em;width:1em\"></td><td colspan=\"2\" rowspan=\"2\" style=\"height:2em;width:2em\"></td><td colspan=\"2\" rowspan=\"2\" style=\"height:2em;width:2em\"></td><td colspan=\"2\" rowspan=\"2\" style=\"height:2em;width:2em\"></td><td rowspan=\"2\" style=\"border-right:1px solid black;height:2em;width:1em\"></td><td rowspan=\"2\" style=\"height:2em;width:1em\"></td><td colspan=\"2\" rowspan=\"2\" style=\"height:2em;width:2em\"></td><td colspan=\"2\" rowspan=\"2\" style=\"height:2em;width:2em\"></td><td colspan=\"6\" rowspan=\"2\" style=\"border:1px solid black;padding:0.2em;border-width:0px\"><a href=\"/wiki/House_of_York\" title=\"House of York\">House of York</a></td></tr><tr style=\"height:1px;text-align:center\"><td style=\"height:1em;width:1em\"></td><td colspan=\"2\" style=\"height:1em;width:2em\"></td><td colspan=\"2\" style=\"height:1em;width:2em\"></td><td colspan=\"2\" style=\"height:1em;width:2em\"></td><td style=\"border-right:1px solid black;height:1em;width:1em\"></td></tr>\n",
            "<tr style=\"height:1px;text-align:center\"><td colspan=\"2\" rowspan=\"2\" style=\"height:2em;width:2em\"></td><td colspan=\"6\" rowspan=\"2\" style=\"border:1px solid black;padding:0.2em;border-width:2px\"><b><a href=\"/wiki/Richard_II_of_England\" title=\"Richard II of England\">Richard II</a></b><br/><span style=\"font-size:85%;\">(1367–1400)<br/><b>r. 1377–1399</b></span></td><td colspan=\"2\" rowspan=\"2\" style=\"height:2em;width:2em\"></td><td colspan=\"6\" rowspan=\"2\" style=\"border:1px solid black;padding:0.2em;border-width:2px\"><b><a href=\"/wiki/Henry_IV_of_England\" title=\"Henry IV of England\">Henry IV</a></b><br/><span style=\"font-size:85%;\">(1367–1413)<br/><b>r. 1399–1413</b></span></td><td colspan=\"2\" rowspan=\"2\" style=\"height:2em;width:2em\"></td><td colspan=\"6\" rowspan=\"2\" style=\"border:1px solid black;padding:0.2em\"><a href=\"/wiki/John_Beaufort,_1st_Earl_of_Somerset\" title=\"John Beaufort, 1st Earl of Somerset\">John Beaufort<br/><span style=\"font-size:85%;\">1st Earl of Somerset</span></a><br/><span style=\"font-size:85%;\">(1373–1410)</span></td><td colspan=\"2\" rowspan=\"2\" style=\"height:2em;width:2em\"></td><td colspan=\"6\" rowspan=\"2\" style=\"border:1px solid black;padding:0.2em\"><a href=\"/wiki/Philippa,_5th_Countess_of_Ulster\" title=\"Philippa, 5th Countess of Ulster\">Philippa<br/><span style=\"font-size:85%;\">of Clarence</span></a><br/><span style=\"font-size:85%;\">5th Countess of Ulster<br/>(1355–1382)</span></td><td colspan=\"2\" rowspan=\"2\" style=\"height:2em;width:2em\"></td><td colspan=\"6\" rowspan=\"2\" style=\"border:1px solid black;padding:0.2em\"><a href=\"/wiki/Edmund_of_Langley,_1st_Duke_of_York\" title=\"Edmund of Langley, 1st Duke of York\">Edmund<br/><span style=\"font-size:85%;\">of Langley<br/>1st Duke of York</span></a><br/><span style=\"font-size:85%;\">(1341–1402)</span></td></tr><tr style=\"height:1px;text-align:center\"></tr>\n",
            "<tr style=\"height:1px;text-align:center\"><td colspan=\"2\" rowspan=\"2\" style=\"height:2em;width:2em\"></td><td colspan=\"2\" rowspan=\"2\" style=\"height:2em;width:2em\"></td><td colspan=\"2\" rowspan=\"2\" style=\"height:2em;width:2em\"></td><td colspan=\"2\" rowspan=\"2\" style=\"height:2em;width:2em\"></td><td colspan=\"2\" rowspan=\"2\" style=\"height:2em;width:2em\"></td><td colspan=\"2\" rowspan=\"2\" style=\"height:2em;width:2em\"></td><td rowspan=\"2\" style=\"border-right:1px solid black;height:2em;width:1em\"></td><td rowspan=\"2\" style=\"height:2em;width:1em\"></td><td colspan=\"2\" rowspan=\"2\" style=\"height:2em;width:2em\"></td><td colspan=\"2\" rowspan=\"2\" style=\"height:2em;width:2em\"></td><td colspan=\"2\" rowspan=\"2\" style=\"height:2em;width:2em\"></td><td rowspan=\"2\" style=\"border-right:1px solid black;height:2em;width:1em\"></td><td rowspan=\"2\" style=\"height:2em;width:1em\"></td><td colspan=\"2\" rowspan=\"2\" style=\"height:2em;width:2em\"></td><td colspan=\"2\" rowspan=\"2\" style=\"height:2em;width:2em\"></td><td colspan=\"2\" rowspan=\"2\" style=\"height:2em;width:2em\"></td><td rowspan=\"2\" style=\"border-right:1px solid black;height:2em;width:1em\"></td><td rowspan=\"2\" style=\"height:2em;width:1em\"></td><td colspan=\"2\" rowspan=\"2\" style=\"height:2em;width:2em\"></td><td colspan=\"2\" rowspan=\"2\" style=\"height:2em;width:2em\"></td><td colspan=\"2\" rowspan=\"2\" style=\"height:2em;width:2em\"></td><td rowspan=\"2\" style=\"border-right:1px solid black;height:2em;width:1em\"></td><td rowspan=\"2\" style=\"height:2em;width:1em\"></td><td colspan=\"2\" rowspan=\"2\" style=\"height:2em;width:2em\"></td></tr><tr style=\"height:1px;text-align:center\"></tr>\n",
            "<tr style=\"height:1px;text-align:center\"><td colspan=\"2\" rowspan=\"2\" style=\"height:2em;width:2em\"></td><td colspan=\"2\" rowspan=\"2\" style=\"height:2em;width:2em\"></td><td colspan=\"2\" rowspan=\"2\" style=\"height:2em;width:2em\"></td><td colspan=\"2\" rowspan=\"2\" style=\"height:2em;width:2em\"></td><td colspan=\"2\" rowspan=\"2\" style=\"height:2em;width:2em\"></td><td colspan=\"2\" rowspan=\"2\" style=\"height:2em;width:2em\"></td><td rowspan=\"2\" style=\"border-right:1px solid black;height:2em;width:1em\"></td><td rowspan=\"2\" style=\"height:2em;width:1em\"></td><td colspan=\"2\" rowspan=\"2\" style=\"height:2em;width:2em\"></td><td colspan=\"2\" rowspan=\"2\" style=\"height:2em;width:2em\"></td><td colspan=\"2\" rowspan=\"2\" style=\"height:2em;width:2em\"></td><td rowspan=\"2\" style=\"border-right:1px solid black;height:2em;width:1em\"></td><td rowspan=\"2\" style=\"height:2em;width:1em\"></td><td colspan=\"2\" rowspan=\"2\" style=\"height:2em;width:2em\"></td><td colspan=\"2\" rowspan=\"2\" style=\"height:2em;width:2em\"></td><td colspan=\"6\" rowspan=\"2\" style=\"border:1px solid black;padding:0.2em\"><a href=\"/wiki/Roger_Mortimer,_4th_Earl_of_March\" title=\"Roger Mortimer, 4th Earl of March\">Roger Mortimer</a><br/><span style=\"font-size:85%;\">4th Earl of March<br/>(1374–1398)</span></td><td colspan=\"2\" rowspan=\"2\" style=\"height:2em;width:2em\"></td><td colspan=\"2\" rowspan=\"2\" style=\"height:2em;width:2em\"></td><td rowspan=\"2\" style=\"border-right:1px solid black;height:2em;width:1em\"></td><td rowspan=\"2\" style=\"height:2em;width:1em\"></td><td colspan=\"2\" rowspan=\"2\" style=\"height:2em;width:2em\"></td></tr><tr style=\"height:1px;text-align:center\"></tr>\n",
            "<tr style=\"height:1px;text-align:center\"><td colspan=\"2\" rowspan=\"2\" style=\"height:2em;width:2em\"></td><td colspan=\"2\" rowspan=\"2\" style=\"height:2em;width:2em\"></td><td colspan=\"2\" rowspan=\"2\" style=\"height:2em;width:2em\"></td><td colspan=\"2\" rowspan=\"2\" style=\"height:2em;width:2em\"></td><td colspan=\"2\" rowspan=\"2\" style=\"height:2em;width:2em\"></td><td colspan=\"2\" rowspan=\"2\" style=\"height:2em;width:2em\"></td><td rowspan=\"2\" style=\"border-right:1px solid black;height:2em;width:1em\"></td><td rowspan=\"2\" style=\"height:2em;width:1em\"></td><td colspan=\"2\" rowspan=\"2\" style=\"height:2em;width:2em\"></td><td colspan=\"2\" rowspan=\"2\" style=\"height:2em;width:2em\"></td><td colspan=\"2\" rowspan=\"2\" style=\"height:2em;width:2em\"></td><td rowspan=\"2\" style=\"border-right:1px solid black;height:2em;width:1em\"></td><td rowspan=\"2\" style=\"height:2em;width:1em\"></td><td colspan=\"2\" rowspan=\"2\" style=\"height:2em;width:2em\"></td><td colspan=\"2\" rowspan=\"2\" style=\"height:2em;width:2em\"></td><td colspan=\"2\" rowspan=\"2\" style=\"height:2em;width:2em\"></td><td rowspan=\"2\" style=\"border-right:1px solid black;height:2em;width:1em\"></td><td rowspan=\"2\" style=\"height:2em;width:1em\"></td><td colspan=\"2\" rowspan=\"2\" style=\"height:2em;width:2em\"></td><td colspan=\"2\" rowspan=\"2\" style=\"height:2em;width:2em\"></td><td colspan=\"2\" rowspan=\"2\" style=\"height:2em;width:2em\"></td><td rowspan=\"2\" style=\"border-right:1px solid black;height:2em;width:1em\"></td><td rowspan=\"2\" style=\"height:2em;width:1em\"></td><td colspan=\"2\" rowspan=\"2\" style=\"height:2em;width:2em\"></td><td colspan=\"2\" rowspan=\"2\" style=\"height:2em;width:2em\"></td></tr><tr style=\"height:1px;text-align:center\"></tr>\n",
            "<tr style=\"height:1px;text-align:center\"><td colspan=\"2\" rowspan=\"2\" style=\"height:2em;width:2em\"></td><td colspan=\"2\" rowspan=\"2\" style=\"height:2em;width:2em\"></td><td colspan=\"2\" rowspan=\"2\" style=\"height:2em;width:2em\"></td><td colspan=\"2\" rowspan=\"2\" style=\"height:2em;width:2em\"></td><td colspan=\"2\" rowspan=\"2\" style=\"height:2em;width:2em\"></td><td colspan=\"6\" rowspan=\"2\" style=\"border:1px solid black;padding:0.2em;border-width:2px\"><b><a href=\"/wiki/Henry_V_of_England\" title=\"Henry V of England\">Henry V</a></b><br/><span style=\"font-size:85%;\">(1386–1422)<br/><b>r. 1413–1422</b></span></td><td colspan=\"2\" rowspan=\"2\" style=\"height:2em;width:2em\"></td><td colspan=\"6\" rowspan=\"2\" style=\"border:1px solid black;padding:0.2em\"><a href=\"/wiki/John_Beaufort,_1st_Duke_of_Somerset\" title=\"John Beaufort, 1st Duke of Somerset\">John Beaufort<br/><span style=\"font-size:85%;\">1st Duke of Somerset</span></a><br/><span style=\"font-size:85%;\">(1403–1444)</span></td><td colspan=\"2\" rowspan=\"2\" style=\"height:2em;width:2em\"></td><td colspan=\"6\" rowspan=\"2\" style=\"border:1px solid black;padding:0.2em\"><a href=\"/wiki/Anne_de_Mortimer\" title=\"Anne de Mortimer\">Anne Mortimer</a><br/><span style=\"font-size:85%;\">(1390–1411)</span></td><td colspan=\"2\" style=\"height:1em;border-bottom:1px dashed black;width:2em\"></td><td colspan=\"6\" rowspan=\"2\" style=\"border:1px solid black;padding:0.2em\"><a href=\"/wiki/Richard_of_Conisburgh,_3rd_Earl_of_Cambridge\" title=\"Richard of Conisburgh, 3rd Earl of Cambridge\">Richard<br/><span style=\"font-size:85%;\">of Conisburgh<br/>3rd Earl of Cambridge</span></a><br/><span style=\"font-size:85%;\">(<abbr title=\"circa\">c.</abbr><span style=\"white-space:nowrap;\"> 1375</span>–1415)</span></td></tr><tr style=\"height:1px;text-align:center\"><td style=\"border-right:1px solid black;height:1em;width:1em\"></td><td style=\"height:1em;width:1em\"></td></tr>\n",
            "<tr style=\"height:1px;text-align:center\"><td colspan=\"2\" rowspan=\"2\" style=\"height:2em;width:2em\"></td><td colspan=\"2\" rowspan=\"2\" style=\"height:2em;width:2em\"></td><td colspan=\"2\" rowspan=\"2\" style=\"height:2em;width:2em\"></td><td colspan=\"2\" rowspan=\"2\" style=\"height:2em;width:2em\"></td><td colspan=\"2\" rowspan=\"2\" style=\"height:2em;width:2em\"></td><td colspan=\"2\" rowspan=\"2\" style=\"height:2em;width:2em\"></td><td rowspan=\"2\" style=\"border-right:1px solid black;height:2em;width:1em\"></td><td rowspan=\"2\" style=\"height:2em;width:1em\"></td><td colspan=\"2\" rowspan=\"2\" style=\"height:2em;width:2em\"></td><td colspan=\"2\" rowspan=\"2\" style=\"height:2em;width:2em\"></td><td colspan=\"2\" rowspan=\"2\" style=\"height:2em;width:2em\"></td><td rowspan=\"2\" style=\"border-right:1px solid black;height:2em;width:1em\"></td><td rowspan=\"2\" style=\"height:2em;width:1em\"></td><td colspan=\"2\" rowspan=\"2\" style=\"height:2em;width:2em\"></td><td colspan=\"2\" rowspan=\"2\" style=\"height:2em;width:2em\"></td><td colspan=\"2\" rowspan=\"2\" style=\"height:2em;width:2em\"></td><td colspan=\"2\" rowspan=\"2\" style=\"height:2em;width:2em\"></td><td colspan=\"2\" rowspan=\"2\" style=\"height:2em;width:2em\"></td><td rowspan=\"2\" style=\"border-right:1px solid black;height:2em;width:1em\"></td><td rowspan=\"2\" style=\"height:2em;width:1em\"></td><td colspan=\"2\" rowspan=\"2\" style=\"height:2em;width:2em\"></td><td colspan=\"2\" rowspan=\"2\" style=\"height:2em;width:2em\"></td></tr><tr style=\"height:1px;text-align:center\"></tr>\n",
            "<tr style=\"height:1px;text-align:center\"><td colspan=\"2\" rowspan=\"2\" style=\"height:2em;width:2em\"></td><td colspan=\"2\" rowspan=\"2\" style=\"height:2em;width:2em\"></td><td colspan=\"2\" rowspan=\"2\" style=\"height:2em;width:2em\"></td><td colspan=\"2\" rowspan=\"2\" style=\"height:2em;width:2em\"></td><td colspan=\"2\" rowspan=\"2\" style=\"height:2em;width:2em\"></td><td colspan=\"2\" rowspan=\"2\" style=\"height:2em;width:2em\"></td><td rowspan=\"2\" style=\"border-right:1px solid black;height:2em;width:1em\"></td><td rowspan=\"2\" style=\"height:2em;width:1em\"></td><td colspan=\"2\" rowspan=\"2\" style=\"height:2em;width:2em\"></td><td colspan=\"2\" rowspan=\"2\" style=\"height:2em;width:2em\"></td><td colspan=\"2\" rowspan=\"2\" style=\"height:2em;width:2em\"></td><td rowspan=\"2\" style=\"border-right:1px solid black;height:2em;width:1em\"></td><td rowspan=\"2\" style=\"height:2em;width:1em\"></td><td colspan=\"2\" rowspan=\"2\" style=\"height:2em;width:2em\"></td><td colspan=\"2\" rowspan=\"2\" style=\"height:2em;width:2em\"></td><td colspan=\"2\" rowspan=\"2\" style=\"height:2em;width:2em\"></td><td colspan=\"2\" rowspan=\"2\" style=\"height:2em;width:2em\"></td><td colspan=\"6\" rowspan=\"2\" style=\"border:1px solid black;padding:0.2em\"><a href=\"/wiki/Richard_of_York,_3rd_Duke_of_York\" title=\"Richard of York, 3rd Duke of York\">Richard<br/><span style=\"font-size:85%;\">of York<br/>3rd Duke of York</span></a><br/><span style=\"font-size:85%;\">(1411–1460)</span></td></tr><tr style=\"height:1px;text-align:center\"></tr>\n",
            "<tr style=\"height:1px;text-align:center\"><td colspan=\"2\" rowspan=\"2\" style=\"height:2em;width:2em\"></td><td colspan=\"2\" rowspan=\"2\" style=\"height:2em;width:2em\"></td><td colspan=\"2\" rowspan=\"2\" style=\"height:2em;width:2em\"></td><td colspan=\"2\" rowspan=\"2\" style=\"height:2em;width:2em\"></td><td colspan=\"2\" rowspan=\"2\" style=\"height:2em;width:2em\"></td><td colspan=\"6\" rowspan=\"2\" style=\"border:1px solid black;padding:0.2em;border-width:2px\"><b><a href=\"/wiki/Henry_VI_of_England\" title=\"Henry VI of England\">Henry VI</a></b><br/><span style=\"font-size:85%;\">(1421–1471)<br/><b>r. 1422–1461<br/>/1470–1471</b></span></td><td colspan=\"2\" rowspan=\"2\" style=\"height:2em;width:2em\"></td><td colspan=\"6\" rowspan=\"2\" style=\"border:1px solid black;padding:0.2em\"><a class=\"mw-redirect\" href=\"/wiki/Margaret_Beaufort,_Countess_of_Richmond_and_Derby\" title=\"Margaret Beaufort, Countess of Richmond and Derby\">Margaret Beaufort</a><br/><span style=\"font-size:85%;\">Countess of Richmond and Derby<br/><span class=\"nowrap\">(1441/1443–1509)</span></span></td><td colspan=\"2\" rowspan=\"2\" style=\"height:2em;width:2em\"></td><td colspan=\"2\" rowspan=\"2\" style=\"height:2em;width:2em\"></td><td style=\"height:1em;width:1em\"></td><td style=\"height:1em;border-bottom:1px solid black;width:1em\"></td><td colspan=\"2\" style=\"height:1em;border-bottom:1px solid black;width:2em\"></td><td style=\"border-right:1px solid black;border-bottom:1px solid black;height:1em;width:1em\"></td><td style=\"height:1em;border-bottom:1px solid black;width:1em\"></td><td colspan=\"2\" style=\"height:1em;border-bottom:1px solid black;width:2em\"></td><td style=\"height:1em;border-bottom:1px solid black;width:1em\"></td><td rowspan=\"2\" style=\"height:2em;width:1em\"></td></tr><tr style=\"height:1px;text-align:center\"><td style=\"border-right:1px solid black;height:1em;width:1em\"></td><td style=\"height:1em;width:1em\"></td><td colspan=\"2\" style=\"height:1em;width:2em\"></td><td colspan=\"2\" style=\"height:1em;width:2em\"></td><td colspan=\"2\" style=\"height:1em;width:2em\"></td><td style=\"border-right:1px solid black;height:1em;width:1em\"></td></tr>\n",
            "<tr style=\"height:1px;text-align:center\"><td colspan=\"2\" rowspan=\"2\" style=\"height:2em;width:2em\"></td><td colspan=\"2\" rowspan=\"2\" style=\"height:2em;width:2em\"></td><td colspan=\"2\" rowspan=\"2\" style=\"height:2em;width:2em\"></td><td colspan=\"2\" rowspan=\"2\" style=\"height:2em;width:2em\"></td><td colspan=\"2\" rowspan=\"2\" style=\"height:2em;width:2em\"></td><td colspan=\"2\" rowspan=\"2\" style=\"height:2em;width:2em\"></td><td colspan=\"2\" rowspan=\"2\" style=\"height:2em;width:2em\"></td><td colspan=\"2\" rowspan=\"2\" style=\"height:2em;width:2em\"></td><td colspan=\"2\" rowspan=\"2\" style=\"height:2em;width:2em\"></td><td colspan=\"2\" rowspan=\"2\" style=\"height:2em;width:2em\"></td><td rowspan=\"2\" style=\"border-right:1px solid black;height:2em;width:1em\"></td><td rowspan=\"2\" style=\"height:2em;width:1em\"></td><td colspan=\"2\" rowspan=\"2\" style=\"height:2em;width:2em\"></td><td colspan=\"2\" rowspan=\"2\" style=\"height:2em;width:2em\"></td><td colspan=\"6\" rowspan=\"2\" style=\"border:1px solid black;padding:0.2em;border-width:2px\"><b><a href=\"/wiki/Edward_IV_of_England\" title=\"Edward IV of England\">Edward IV</a></b><br/><span style=\"font-size:85%;\">(1442–1483)<br/><b>r. 1461–1470</b><br/><b>1471–1483</b></span></td><td colspan=\"2\" rowspan=\"2\" style=\"height:2em;width:2em\"></td><td colspan=\"6\" rowspan=\"2\" style=\"border:1px solid black;padding:0.2em;border-width:2px\"><b><a href=\"/wiki/Richard_III_of_England\" title=\"Richard III of England\">Richard III</a></b><br/><span style=\"font-size:85%;\">(1452–1485)<br/><b>r. 1483–1485</b></span></td></tr><tr style=\"height:1px;text-align:center\"></tr>\n",
            "<tr style=\"height:1px;text-align:center\"><td colspan=\"2\" rowspan=\"2\" style=\"height:2em;width:2em\"></td><td colspan=\"2\" rowspan=\"2\" style=\"height:2em;width:2em\"></td><td colspan=\"2\" rowspan=\"2\" style=\"height:2em;width:2em\"></td><td colspan=\"2\" rowspan=\"2\" style=\"height:2em;width:2em\"></td><td colspan=\"2\" rowspan=\"2\" style=\"height:2em;width:2em\"></td><td colspan=\"2\" rowspan=\"2\" style=\"height:2em;width:2em\"></td><td colspan=\"2\" rowspan=\"2\" style=\"height:2em;width:2em\"></td><td colspan=\"2\" rowspan=\"2\" style=\"height:2em;width:2em\"></td><td colspan=\"2\" rowspan=\"2\" style=\"height:2em;width:2em\"></td><td colspan=\"6\" rowspan=\"2\" style=\"border:1px solid black;padding:0.2em;border-width:0px\"><a href=\"/wiki/House_of_Tudor\" title=\"House of Tudor\">House of Tudor</a></td><td colspan=\"2\" rowspan=\"2\" style=\"height:2em;width:2em\"></td><td colspan=\"2\" rowspan=\"2\" style=\"height:2em;width:2em\"></td><td rowspan=\"2\" style=\"border-right:1px solid black;height:2em;width:1em\"></td><td style=\"height:1em;border-bottom:1px solid black;width:1em\"></td><td colspan=\"2\" style=\"height:1em;border-bottom:1px solid black;width:2em\"></td><td colspan=\"2\" style=\"height:1em;border-bottom:1px solid black;width:2em\"></td><td colspan=\"2\" style=\"height:1em;border-bottom:1px solid black;width:2em\"></td><td style=\"height:1em;border-bottom:1px solid black;width:1em\"></td><td rowspan=\"2\" style=\"height:2em;width:1em\"></td></tr><tr style=\"height:1px;text-align:center\"><td style=\"height:1em;width:1em\"></td><td colspan=\"2\" style=\"height:1em;width:2em\"></td><td colspan=\"2\" style=\"height:1em;width:2em\"></td><td colspan=\"2\" style=\"height:1em;width:2em\"></td><td style=\"border-right:1px solid black;height:1em;width:1em\"></td></tr>\n",
            "<tr style=\"height:1px;text-align:center\"><td colspan=\"2\" rowspan=\"2\" style=\"height:2em;width:2em\"></td><td colspan=\"2\" rowspan=\"2\" style=\"height:2em;width:2em\"></td><td colspan=\"2\" rowspan=\"2\" style=\"height:2em;width:2em\"></td><td colspan=\"2\" rowspan=\"2\" style=\"height:2em;width:2em\"></td><td colspan=\"2\" rowspan=\"2\" style=\"height:2em;width:2em\"></td><td colspan=\"2\" rowspan=\"2\" style=\"height:2em;width:2em\"></td><td colspan=\"2\" rowspan=\"2\" style=\"height:2em;width:2em\"></td><td colspan=\"2\" rowspan=\"2\" style=\"height:2em;width:2em\"></td><td colspan=\"2\" rowspan=\"2\" style=\"height:2em;width:2em\"></td><td colspan=\"6\" rowspan=\"2\" style=\"border:1px solid black;padding:0.2em;border-width:2px\"><b><a href=\"/wiki/Henry_VII_of_England\" title=\"Henry VII of England\">Henry VII</a></b><br/><span style=\"font-size:85%;\">(1457–1509)<br/><b>r. 1485–1509</b></span></td><td colspan=\"2\" style=\"height:1em;border-bottom:1px dashed black;width:2em\"></td><td colspan=\"6\" rowspan=\"2\" style=\"border:1px solid black;padding:0.2em\"><span style=\"font-size:85%;\">m. 1486<br/></span><a href=\"/wiki/Elizabeth_of_York\" title=\"Elizabeth of York\">Elizabeth<br/><span style=\"font-size:85%;\">of York</span></a><br/><span style=\"font-size:85%;\">(1466–1503)</span></td><td colspan=\"2\" rowspan=\"2\" style=\"height:2em;width:2em\"></td><td colspan=\"6\" rowspan=\"2\" style=\"border:1px solid black;padding:0.2em;border-width:2px\"><b><a href=\"/wiki/Edward_V_of_England\" title=\"Edward V of England\">Edward V</a></b><br/><span style=\"font-size:85%;\">(1470–1483)<br/><b>r. 1483</b></span></td></tr><tr style=\"height:1px;text-align:center\"><td style=\"border-right:1px solid black;height:1em;width:1em\"></td><td style=\"height:1em;width:1em\"></td></tr>\n",
            "<tr style=\"height:1px;text-align:center\"><td colspan=\"2\" rowspan=\"2\" style=\"height:2em;width:2em\"></td><td colspan=\"2\" rowspan=\"2\" style=\"height:2em;width:2em\"></td><td colspan=\"2\" rowspan=\"2\" style=\"height:2em;width:2em\"></td><td colspan=\"2\" rowspan=\"2\" style=\"height:2em;width:2em\"></td><td colspan=\"2\" rowspan=\"2\" style=\"height:2em;width:2em\"></td><td colspan=\"2\" rowspan=\"2\" style=\"height:2em;width:2em\"></td><td style=\"height:1em;width:1em\"></td><td style=\"height:1em;border-bottom:1px solid black;width:1em\"></td><td colspan=\"2\" style=\"height:1em;border-bottom:1px solid black;width:2em\"></td><td colspan=\"2\" style=\"height:1em;border-bottom:1px solid black;width:2em\"></td><td colspan=\"2\" style=\"height:1em;border-bottom:1px solid black;width:2em\"></td><td colspan=\"2\" style=\"height:1em;border-bottom:1px solid black;width:2em\"></td><td colspan=\"2\" style=\"height:1em;border-bottom:1px solid black;width:2em\"></td><td style=\"border-right:1px solid black;border-bottom:1px solid black;height:1em;width:1em\"></td><td style=\"height:1em;border-bottom:1px solid black;width:1em\"></td><td colspan=\"2\" style=\"height:1em;border-bottom:1px solid black;width:2em\"></td><td colspan=\"2\" style=\"height:1em;border-bottom:1px solid black;width:2em\"></td><td colspan=\"2\" style=\"height:1em;border-bottom:1px solid black;width:2em\"></td><td colspan=\"2\" style=\"height:1em;border-bottom:1px solid black;width:2em\"></td><td colspan=\"2\" style=\"height:1em;border-bottom:1px solid black;width:2em\"></td><td colspan=\"2\" style=\"height:1em;border-bottom:1px solid black;width:2em\"></td><td colspan=\"2\" style=\"height:1em;border-bottom:1px solid black;width:2em\"></td><td colspan=\"2\" style=\"height:1em;border-bottom:1px solid black;width:2em\"></td><td colspan=\"2\" style=\"height:1em;border-bottom:1px solid black;width:2em\"></td><td colspan=\"2\" style=\"height:1em;border-bottom:1px solid black;width:2em\"></td><td colspan=\"2\" style=\"height:1em;border-bottom:1px solid black;width:2em\"></td><td colspan=\"2\" style=\"height:1em;border-bottom:1px solid black;width:2em\"></td><td colspan=\"2\" style=\"height:1em;border-bottom:1px solid black;width:2em\"></td><td style=\"height:1em;border-bottom:1px solid black;width:1em\"></td><td rowspan=\"2\" style=\"height:2em;width:1em\"></td><td colspan=\"2\" rowspan=\"2\" style=\"height:2em;width:2em\"></td><td colspan=\"2\" rowspan=\"2\" style=\"height:2em;width:2em\"></td></tr><tr style=\"height:1px;text-align:center\"><td style=\"border-right:1px solid black;height:1em;width:1em\"></td><td style=\"height:1em;width:1em\"></td><td colspan=\"2\" style=\"height:1em;width:2em\"></td><td colspan=\"2\" style=\"height:1em;width:2em\"></td><td colspan=\"2\" style=\"height:1em;width:2em\"></td><td colspan=\"2\" style=\"height:1em;width:2em\"></td><td colspan=\"2\" style=\"height:1em;width:2em\"></td><td colspan=\"2\" style=\"height:1em;width:2em\"></td><td colspan=\"2\" style=\"height:1em;width:2em\"></td><td style=\"border-right:1px solid black;height:1em;width:1em\"></td><td style=\"height:1em;width:1em\"></td><td colspan=\"2\" style=\"height:1em;width:2em\"></td><td colspan=\"2\" style=\"height:1em;width:2em\"></td><td colspan=\"2\" style=\"height:1em;width:2em\"></td><td colspan=\"2\" style=\"height:1em;width:2em\"></td><td colspan=\"2\" style=\"height:1em;width:2em\"></td><td colspan=\"2\" style=\"height:1em;width:2em\"></td><td colspan=\"2\" style=\"height:1em;width:2em\"></td><td colspan=\"2\" style=\"height:1em;width:2em\"></td><td colspan=\"2\" style=\"height:1em;width:2em\"></td><td colspan=\"2\" style=\"height:1em;width:2em\"></td><td colspan=\"2\" style=\"height:1em;width:2em\"></td><td style=\"border-right:1px solid black;height:1em;width:1em\"></td></tr>\n",
            "<tr style=\"height:1px;text-align:center\"><td colspan=\"2\" rowspan=\"2\" style=\"height:2em;width:2em\"></td><td colspan=\"2\" rowspan=\"2\" style=\"height:2em;width:2em\"></td><td colspan=\"2\" rowspan=\"2\" style=\"height:2em;width:2em\"></td><td colspan=\"2\" rowspan=\"2\" style=\"height:2em;width:2em\"></td><td colspan=\"2\" rowspan=\"2\" style=\"height:2em;width:2em\"></td><td colspan=\"6\" rowspan=\"2\" style=\"border:1px solid black;padding:0.2em\"><a href=\"/wiki/Margaret_Tudor\" title=\"Margaret Tudor\">Margaret Tudor</a><br/><span style=\"font-size:85%;\">(1489–1541)</span></td><td colspan=\"2\" rowspan=\"2\" style=\"height:2em;width:2em\"></td><td colspan=\"2\" rowspan=\"2\" style=\"height:2em;width:2em\"></td><td colspan=\"2\" rowspan=\"2\" style=\"height:2em;width:2em\"></td><td colspan=\"2\" rowspan=\"2\" style=\"height:2em;width:2em\"></td><td colspan=\"2\" rowspan=\"2\" style=\"height:2em;width:2em\"></td><td colspan=\"6\" rowspan=\"2\" style=\"border:1px solid black;padding:0.2em;border-width:2px\"><b><a class=\"mw-redirect\" href=\"/wiki/Henry_VIII_of_England\" title=\"Henry VIII of England\">Henry VIII</a></b><br/><span style=\"font-size:85%;\">(1491–1547)<br/><b>r. 1509–1547</b></span></td><td colspan=\"2\" rowspan=\"2\" style=\"height:2em;width:2em\"></td><td colspan=\"2\" rowspan=\"2\" style=\"height:2em;width:2em\"></td><td colspan=\"2\" rowspan=\"2\" style=\"height:2em;width:2em\"></td><td colspan=\"2\" rowspan=\"2\" style=\"height:2em;width:2em\"></td><td colspan=\"2\" rowspan=\"2\" style=\"height:2em;width:2em\"></td><td colspan=\"2\" rowspan=\"2\" style=\"height:2em;width:2em\"></td><td colspan=\"2\" rowspan=\"2\" style=\"height:2em;width:2em\"></td><td colspan=\"2\" rowspan=\"2\" style=\"height:2em;width:2em\"></td><td colspan=\"2\" rowspan=\"2\" style=\"height:2em;width:2em\"></td><td colspan=\"6\" rowspan=\"2\" style=\"border:1px solid black;padding:0.2em\"><a href=\"/wiki/Mary_Tudor,_Queen_of_France\" title=\"Mary Tudor, Queen of France\">Mary Tudor</a><br/><span style=\"font-size:85%;\">(1496–1533)</span></td></tr><tr style=\"height:1px;text-align:center\"></tr>\n",
            "<tr style=\"height:1px;text-align:center\"><td colspan=\"2\" rowspan=\"2\" style=\"height:2em;width:2em\"></td><td colspan=\"2\" rowspan=\"2\" style=\"height:2em;width:2em\"></td><td colspan=\"2\" rowspan=\"2\" style=\"height:2em;width:2em\"></td><td colspan=\"2\" rowspan=\"2\" style=\"height:2em;width:2em\"></td><td colspan=\"2\" rowspan=\"2\" style=\"height:2em;width:2em\"></td><td colspan=\"2\" rowspan=\"2\" style=\"height:2em;width:2em\"></td><td rowspan=\"2\" style=\"border-right:1px solid black;height:2em;width:1em\"></td><td rowspan=\"2\" style=\"height:2em;width:1em\"></td><td colspan=\"2\" rowspan=\"2\" style=\"height:2em;width:2em\"></td><td colspan=\"2\" rowspan=\"2\" style=\"height:2em;width:2em\"></td><td colspan=\"2\" rowspan=\"2\" style=\"height:2em;width:2em\"></td><td style=\"height:1em;width:1em\"></td><td style=\"height:1em;border-bottom:1px solid black;width:1em\"></td><td colspan=\"2\" style=\"height:1em;border-bottom:1px solid black;width:2em\"></td><td colspan=\"2\" style=\"height:1em;border-bottom:1px solid black;width:2em\"></td><td colspan=\"2\" style=\"height:1em;border-bottom:1px solid black;width:2em\"></td><td style=\"border-right:1px solid black;border-bottom:1px solid black;height:1em;width:1em\"></td><td style=\"height:1em;border-bottom:1px solid black;width:1em\"></td><td colspan=\"2\" style=\"height:1em;border-bottom:1px solid black;width:2em\"></td><td colspan=\"2\" style=\"height:1em;border-bottom:1px solid black;width:2em\"></td><td colspan=\"2\" style=\"height:1em;border-bottom:1px solid black;width:2em\"></td><td colspan=\"2\" style=\"height:1em;border-bottom:1px solid black;width:2em\"></td><td colspan=\"2\" style=\"height:1em;border-bottom:1px solid black;width:2em\"></td><td colspan=\"2\" style=\"height:1em;border-bottom:1px solid black;width:2em\"></td><td colspan=\"2\" style=\"height:1em;border-bottom:1px solid black;width:2em\"></td><td style=\"height:1em;border-bottom:1px solid black;width:1em\"></td><td rowspan=\"2\" style=\"height:2em;width:1em\"></td><td colspan=\"2\" rowspan=\"2\" style=\"height:2em;width:2em\"></td><td colspan=\"2\" rowspan=\"2\" style=\"height:2em;width:2em\"></td><td colspan=\"2\" rowspan=\"2\" style=\"height:2em;width:2em\"></td><td rowspan=\"2\" style=\"border-right:1px solid black;height:2em;width:1em\"></td><td rowspan=\"2\" style=\"height:2em;width:1em\"></td><td colspan=\"2\" rowspan=\"2\" style=\"height:2em;width:2em\"></td><td colspan=\"2\" rowspan=\"2\" style=\"height:2em;width:2em\"></td></tr><tr style=\"height:1px;text-align:center\"><td style=\"border-right:1px solid black;height:1em;width:1em\"></td><td style=\"height:1em;width:1em\"></td><td colspan=\"2\" style=\"height:1em;width:2em\"></td><td colspan=\"2\" style=\"height:1em;width:2em\"></td><td colspan=\"2\" style=\"height:1em;width:2em\"></td><td style=\"border-right:1px solid black;height:1em;width:1em\"></td><td style=\"height:1em;width:1em\"></td><td colspan=\"2\" style=\"height:1em;width:2em\"></td><td colspan=\"2\" style=\"height:1em;width:2em\"></td><td colspan=\"2\" style=\"height:1em;width:2em\"></td><td colspan=\"2\" style=\"height:1em;width:2em\"></td><td colspan=\"2\" style=\"height:1em;width:2em\"></td><td colspan=\"2\" style=\"height:1em;width:2em\"></td><td colspan=\"2\" style=\"height:1em;width:2em\"></td><td style=\"border-right:1px solid black;height:1em;width:1em\"></td></tr>\n",
            "<tr style=\"height:1px;text-align:center\"><td colspan=\"2\" rowspan=\"2\" style=\"height:2em;width:2em\"></td><td colspan=\"2\" rowspan=\"2\" style=\"height:2em;width:2em\"></td><td colspan=\"2\" rowspan=\"2\" style=\"height:2em;width:2em\"></td><td colspan=\"2\" rowspan=\"2\" style=\"height:2em;width:2em\"></td><td colspan=\"2\" rowspan=\"2\" style=\"height:2em;width:2em\"></td><td colspan=\"6\" rowspan=\"2\" style=\"border:1px solid black;padding:0.2em\"><a href=\"/wiki/James_V_of_Scotland\" title=\"James V of Scotland\">James V</a><br/><span class=\"flagicon\"><a href=\"/wiki/Kingdom_of_Scotland\" title=\"Kingdom of Scotland\"><img alt=\"Kingdom of Scotland\" class=\"thumbborder\" data-file-height=\"600\" data-file-width=\"1000\" decoding=\"async\" height=\"14\" src=\"//upload.wikimedia.org/wikipedia/commons/thumb/1/10/Flag_of_Scotland.svg/23px-Flag_of_Scotland.svg.png\" srcset=\"//upload.wikimedia.org/wikipedia/commons/thumb/1/10/Flag_of_Scotland.svg/35px-Flag_of_Scotland.svg.png 1.5x, //upload.wikimedia.org/wikipedia/commons/thumb/1/10/Flag_of_Scotland.svg/46px-Flag_of_Scotland.svg.png 2x\" width=\"23\"/></a></span><br/><span style=\"font-size:85%;\">of Scotland<br/>(1512–1542)</span></td><td colspan=\"2\" rowspan=\"2\" style=\"height:2em;width:2em\"></td><td colspan=\"6\" rowspan=\"2\" style=\"border:1px solid black;padding:0.2em;border-width:2px\"><b><a class=\"mw-redirect\" href=\"/wiki/Edward_VI_of_England\" title=\"Edward VI of England\">Edward VI</a></b><br/><span style=\"font-size:85%;\">(1537–1553)<br/><b>r. 1547–1553</b></span></td><td colspan=\"2\" rowspan=\"2\" style=\"height:2em;width:2em\"></td><td colspan=\"6\" rowspan=\"2\" style=\"border:1px solid black;padding:0.2em;border-width:2px\"><b><a href=\"/wiki/Mary_I_of_England\" title=\"Mary I of England\">Mary I</a></b><br/><span style=\"font-size:85%;\">(1516–1558)<br/><b>r. 1553–1558</b></span></td><td colspan=\"2\" style=\"height:1em;border-bottom:1px dashed black;width:2em\"></td><td colspan=\"6\" rowspan=\"2\" style=\"border:1px solid black;padding:0.2em;border-width:2px\"><span style=\"font-size:85%;\">m. 1554<br/></span><a href=\"/wiki/Philip_II_of_Spain\" title=\"Philip II of Spain\">Philip II</a><br/><span class=\"flagicon\"><a href=\"/wiki/History_of_Spain_(1700%E2%80%931810)\" title=\"History of Spain (1700–1810)\"><img alt=\"History of Spain (1700–1810)\" class=\"thumbborder\" data-file-height=\"1184\" data-file-width=\"1774\" decoding=\"async\" height=\"15\" src=\"//upload.wikimedia.org/wikipedia/commons/thumb/5/5a/Bandera_de_Espa%C3%B1a_1701-1760.svg/23px-Bandera_de_Espa%C3%B1a_1701-1760.svg.png\" srcset=\"//upload.wikimedia.org/wikipedia/commons/thumb/5/5a/Bandera_de_Espa%C3%B1a_1701-1760.svg/35px-Bandera_de_Espa%C3%B1a_1701-1760.svg.png 1.5x, //upload.wikimedia.org/wikipedia/commons/thumb/5/5a/Bandera_de_Espa%C3%B1a_1701-1760.svg/45px-Bandera_de_Espa%C3%B1a_1701-1760.svg.png 2x\" width=\"23\"/></a></span><br/><span style=\"font-size:85%;\">of Spain<br/>(1527–1598)<br/><b>r. 1554–1558</b></span></td><td colspan=\"2\" rowspan=\"2\" style=\"height:2em;width:2em\"></td><td colspan=\"6\" rowspan=\"2\" style=\"border:1px solid black;padding:0.2em;border-width:2px\"><b><a class=\"mw-redirect\" href=\"/wiki/Elizabeth_I_of_England\" title=\"Elizabeth I of England\">Elizabeth I</a></b><br/><span style=\"font-size:85%;\">1533–1603<br/><b>r. 1558–1603</b></span></td><td colspan=\"2\" rowspan=\"2\" style=\"height:2em;width:2em\"></td><td colspan=\"6\" rowspan=\"2\" style=\"border:1px solid black;padding:0.2em\"><a href=\"/wiki/Frances_Grey,_Duchess_of_Suffolk\" title=\"Frances Grey, Duchess of Suffolk\">Frances Brandon</a><br/><span style=\"font-size:85%;\">(1517–1559)</span></td></tr><tr style=\"height:1px;text-align:center\"><td colspan=\"2\" style=\"height:1em;width:2em\"></td></tr>\n",
            "<tr style=\"height:1px;text-align:center\"><td colspan=\"2\" rowspan=\"2\" style=\"height:2em;width:2em\"></td><td colspan=\"2\" rowspan=\"2\" style=\"height:2em;width:2em\"></td><td colspan=\"2\" rowspan=\"2\" style=\"height:2em;width:2em\"></td><td colspan=\"2\" rowspan=\"2\" style=\"height:2em;width:2em\"></td><td colspan=\"2\" rowspan=\"2\" style=\"height:2em;width:2em\"></td><td colspan=\"2\" rowspan=\"2\" style=\"height:2em;width:2em\"></td><td rowspan=\"2\" style=\"border-right:1px solid black;height:2em;width:1em\"></td><td rowspan=\"2\" style=\"height:2em;width:1em\"></td><td colspan=\"2\" rowspan=\"2\" style=\"height:2em;width:2em\"></td><td colspan=\"2\" rowspan=\"2\" style=\"height:2em;width:2em\"></td><td colspan=\"2\" rowspan=\"2\" style=\"height:2em;width:2em\"></td><td colspan=\"2\" rowspan=\"2\" style=\"height:2em;width:2em\"></td><td colspan=\"2\" rowspan=\"2\" style=\"height:2em;width:2em\"></td><td colspan=\"2\" rowspan=\"2\" style=\"height:2em;width:2em\"></td><td colspan=\"2\" rowspan=\"2\" style=\"height:2em;width:2em\"></td><td colspan=\"2\" rowspan=\"2\" style=\"height:2em;width:2em\"></td><td colspan=\"2\" rowspan=\"2\" style=\"height:2em;width:2em\"></td><td colspan=\"2\" rowspan=\"2\" style=\"height:2em;width:2em\"></td><td colspan=\"2\" rowspan=\"2\" style=\"height:2em;width:2em\"></td><td colspan=\"2\" rowspan=\"2\" style=\"height:2em;width:2em\"></td><td colspan=\"2\" rowspan=\"2\" style=\"height:2em;width:2em\"></td><td colspan=\"2\" rowspan=\"2\" style=\"height:2em;width:2em\"></td><td colspan=\"2\" rowspan=\"2\" style=\"height:2em;width:2em\"></td><td colspan=\"2\" rowspan=\"2\" style=\"height:2em;width:2em\"></td><td colspan=\"2\" rowspan=\"2\" style=\"height:2em;width:2em\"></td><td colspan=\"2\" rowspan=\"2\" style=\"height:2em;width:2em\"></td><td colspan=\"2\" rowspan=\"2\" style=\"height:2em;width:2em\"></td><td rowspan=\"2\" style=\"border-right:1px solid black;height:2em;width:1em\"></td><td rowspan=\"2\" style=\"height:2em;width:1em\"></td><td colspan=\"2\" rowspan=\"2\" style=\"height:2em;width:2em\"></td><td colspan=\"2\" rowspan=\"2\" style=\"height:2em;width:2em\"></td></tr><tr style=\"height:1px;text-align:center\"></tr>\n",
            "<tr style=\"height:1px;text-align:center\"><td colspan=\"2\" rowspan=\"2\" style=\"height:2em;width:2em\"></td><td colspan=\"2\" rowspan=\"2\" style=\"height:2em;width:2em\"></td><td colspan=\"2\" rowspan=\"2\" style=\"height:2em;width:2em\"></td><td colspan=\"2\" rowspan=\"2\" style=\"height:2em;width:2em\"></td><td colspan=\"2\" rowspan=\"2\" style=\"height:2em;width:2em\"></td><td colspan=\"6\" rowspan=\"2\" style=\"border:1px solid black;padding:0.2em\"><a href=\"/wiki/Mary,_Queen_of_Scots\" title=\"Mary, Queen of Scots\">Mary</a><br/><span class=\"flagicon\"><a href=\"/wiki/Kingdom_of_Scotland\" title=\"Kingdom of Scotland\"><img alt=\"Kingdom of Scotland\" class=\"thumbborder\" data-file-height=\"600\" data-file-width=\"1000\" decoding=\"async\" height=\"14\" src=\"//upload.wikimedia.org/wikipedia/commons/thumb/1/10/Flag_of_Scotland.svg/23px-Flag_of_Scotland.svg.png\" srcset=\"//upload.wikimedia.org/wikipedia/commons/thumb/1/10/Flag_of_Scotland.svg/35px-Flag_of_Scotland.svg.png 1.5x, //upload.wikimedia.org/wikipedia/commons/thumb/1/10/Flag_of_Scotland.svg/46px-Flag_of_Scotland.svg.png 2x\" width=\"23\"/></a></span><br/><span style=\"font-size:85%;\">Queen of Scots<br/>(1542–1587)</span></td><td colspan=\"2\" rowspan=\"2\" style=\"height:2em;width:2em\"></td><td colspan=\"2\" rowspan=\"2\" style=\"height:2em;width:2em\"></td><td colspan=\"2\" rowspan=\"2\" style=\"height:2em;width:2em\"></td><td colspan=\"2\" rowspan=\"2\" style=\"height:2em;width:2em\"></td><td colspan=\"2\" rowspan=\"2\" style=\"height:2em;width:2em\"></td><td colspan=\"2\" rowspan=\"2\" style=\"height:2em;width:2em\"></td><td colspan=\"2\" rowspan=\"2\" style=\"height:2em;width:2em\"></td><td colspan=\"2\" rowspan=\"2\" style=\"height:2em;width:2em\"></td><td colspan=\"2\" rowspan=\"2\" style=\"height:2em;width:2em\"></td><td colspan=\"2\" rowspan=\"2\" style=\"height:2em;width:2em\"></td><td colspan=\"2\" rowspan=\"2\" style=\"height:2em;width:2em\"></td><td colspan=\"2\" rowspan=\"2\" style=\"height:2em;width:2em\"></td><td colspan=\"2\" rowspan=\"2\" style=\"height:2em;width:2em\"></td><td colspan=\"2\" rowspan=\"2\" style=\"height:2em;width:2em\"></td><td colspan=\"2\" rowspan=\"2\" style=\"height:2em;width:2em\"></td><td colspan=\"2\" rowspan=\"2\" style=\"height:2em;width:2em\"></td><td colspan=\"2\" rowspan=\"2\" style=\"height:2em;width:2em\"></td><td colspan=\"6\" rowspan=\"2\" style=\"border:1px solid black;padding:0.2em;border-width:2px\"><b><a href=\"/wiki/Lady_Jane_Grey\" title=\"Lady Jane Grey\">Jane</a></b><br/><span style=\"font-size:85%;\">(1536/1537–1554)<br/><b>r. 1553</b><br/><i>(Nine Days)</i><br/><i>Disputed</i></span></td></tr><tr style=\"height:1px;text-align:center\"></tr>\n",
            "<tr style=\"height:1px;text-align:center\"><td colspan=\"2\" rowspan=\"2\" style=\"height:2em;width:2em\"></td><td colspan=\"2\" rowspan=\"2\" style=\"height:2em;width:2em\"></td><td colspan=\"2\" rowspan=\"2\" style=\"height:2em;width:2em\"></td><td colspan=\"2\" rowspan=\"2\" style=\"height:2em;width:2em\"></td><td colspan=\"2\" rowspan=\"2\" style=\"height:2em;width:2em\"></td><td colspan=\"2\" rowspan=\"2\" style=\"height:2em;width:2em\"></td><td rowspan=\"2\" style=\"border-right:1px solid black;height:2em;width:1em\"></td><td rowspan=\"2\" style=\"height:2em;width:1em\"></td><td colspan=\"2\" rowspan=\"2\" style=\"height:2em;width:2em\"></td><td colspan=\"2\" rowspan=\"2\" style=\"height:2em;width:2em\"></td></tr><tr style=\"height:1px;text-align:center\"></tr>\n",
            "<tr style=\"height:1px;text-align:center\"><td colspan=\"2\" rowspan=\"2\" style=\"height:2em;width:2em\"></td><td colspan=\"2\" rowspan=\"2\" style=\"height:2em;width:2em\"></td><td colspan=\"2\" rowspan=\"2\" style=\"height:2em;width:2em\"></td><td colspan=\"2\" rowspan=\"2\" style=\"height:2em;width:2em\"></td><td colspan=\"2\" rowspan=\"2\" style=\"height:2em;width:2em\"></td><td colspan=\"6\" rowspan=\"2\" style=\"border:1px solid black;padding:0.2em;border-width:0px\"><a href=\"/wiki/House_of_Stuart\" title=\"House of Stuart\">House of Stuart</a></td></tr><tr style=\"height:1px;text-align:center\"></tr>\n",
            "<tr style=\"height:1px;text-align:center\"><td colspan=\"2\" rowspan=\"2\" style=\"height:2em;width:2em\"></td><td colspan=\"2\" rowspan=\"2\" style=\"height:2em;width:2em\"></td><td colspan=\"2\" rowspan=\"2\" style=\"height:2em;width:2em\"></td><td colspan=\"2\" rowspan=\"2\" style=\"height:2em;width:2em\"></td><td colspan=\"2\" rowspan=\"2\" style=\"height:2em;width:2em\"></td><td colspan=\"6\" rowspan=\"2\" style=\"border:1px solid black;padding:0.2em;border-width:2px\"><b><a href=\"/wiki/James_VI_and_I\" title=\"James VI and I\">James VI &amp; I</a></b><br/><span style=\"font-size:85%;\">(1566–1625)<br/><b>r. 1567–1625</b> <i>(Scotland)</i><br/><b>r. 1603–1625</b> <i>(England)</i></span></td></tr><tr style=\"height:1px;text-align:center\"></tr>\n",
            "<tr style=\"height:1px;text-align:center\"><td colspan=\"2\" rowspan=\"2\" style=\"height:2em;width:2em\"></td><td colspan=\"2\" rowspan=\"2\" style=\"height:2em;width:2em\"></td><td colspan=\"2\" rowspan=\"2\" style=\"height:2em;width:2em\"></td><td colspan=\"2\" rowspan=\"2\" style=\"height:2em;width:2em\"></td><td colspan=\"2\" rowspan=\"2\" style=\"height:2em;width:2em\"></td><td colspan=\"2\" rowspan=\"2\" style=\"height:2em;width:2em\"></td><td rowspan=\"2\" style=\"border-right:1px solid black;height:2em;width:1em\"></td><td style=\"height:1em;border-bottom:1px solid black;width:1em\"></td><td colspan=\"2\" style=\"height:1em;border-bottom:1px solid black;width:2em\"></td><td colspan=\"2\" style=\"height:1em;border-bottom:1px solid black;width:2em\"></td><td colspan=\"2\" style=\"height:1em;border-bottom:1px solid black;width:2em\"></td><td style=\"height:1em;border-bottom:1px solid black;width:1em\"></td><td rowspan=\"2\" style=\"height:2em;width:1em\"></td></tr><tr style=\"height:1px;text-align:center\"><td style=\"height:1em;width:1em\"></td><td colspan=\"2\" style=\"height:1em;width:2em\"></td><td colspan=\"2\" style=\"height:1em;width:2em\"></td><td colspan=\"2\" style=\"height:1em;width:2em\"></td><td style=\"border-right:1px solid black;height:1em;width:1em\"></td></tr>\n",
            "<tr style=\"height:1px;text-align:center\"><td colspan=\"2\" rowspan=\"2\" style=\"height:2em;width:2em\"></td><td colspan=\"2\" rowspan=\"2\" style=\"height:2em;width:2em\"></td><td colspan=\"2\" rowspan=\"2\" style=\"height:2em;width:2em\"></td><td colspan=\"2\" rowspan=\"2\" style=\"height:2em;width:2em\"></td><td colspan=\"2\" rowspan=\"2\" style=\"height:2em;width:2em\"></td><td colspan=\"6\" rowspan=\"2\" style=\"border:1px solid black;padding:0.2em\"><a class=\"mw-redirect\" href=\"/wiki/Elizabeth_of_Bohemia\" title=\"Elizabeth of Bohemia\">Elizabeth<br/><span style=\"font-size:85%;\">Electress Palatine</span></a><br/><span style=\"font-size:85%;\">(1596–1662)</span></td><td colspan=\"2\" rowspan=\"2\" style=\"height:2em;width:2em\"></td><td colspan=\"6\" rowspan=\"2\" style=\"border:1px solid black;padding:0.2em;border-width:2px\"><b><a href=\"/wiki/Charles_I_of_England\" title=\"Charles I of England\">Charles I</a></b><br/><span style=\"font-size:85%;\">(1600–1649)<br/><b>r. 1625–1649</b></span></td></tr><tr style=\"height:1px;text-align:center\"></tr>\n",
            "<tr style=\"height:1px;text-align:center\"><td colspan=\"2\" rowspan=\"2\" style=\"height:2em;width:2em\"></td><td colspan=\"2\" rowspan=\"2\" style=\"height:2em;width:2em\"></td><td colspan=\"2\" rowspan=\"2\" style=\"height:2em;width:2em\"></td><td colspan=\"2\" rowspan=\"2\" style=\"height:2em;width:2em\"></td><td colspan=\"2\" rowspan=\"2\" style=\"height:2em;width:2em\"></td><td colspan=\"2\" rowspan=\"2\" style=\"height:2em;width:2em\"></td><td rowspan=\"2\" style=\"border-right:1px solid black;height:2em;width:1em\"></td><td rowspan=\"2\" style=\"height:2em;width:1em\"></td><td colspan=\"2\" rowspan=\"2\" style=\"height:2em;width:2em\"></td><td colspan=\"2\" rowspan=\"2\" style=\"height:2em;width:2em\"></td><td colspan=\"2\" rowspan=\"2\" style=\"height:2em;width:2em\"></td><td rowspan=\"2\" style=\"border-right:1px solid black;height:2em;width:1em\"></td><td style=\"height:1em;border-bottom:1px solid black;width:1em\"></td><td colspan=\"2\" style=\"height:1em;border-bottom:1px solid black;width:2em\"></td><td colspan=\"2\" style=\"height:1em;border-bottom:1px solid black;width:2em\"></td><td colspan=\"2\" style=\"height:1em;border-bottom:1px solid black;width:2em\"></td><td colspan=\"2\" style=\"height:1em;border-bottom:1px solid black;width:2em\"></td><td colspan=\"2\" style=\"height:1em;border-bottom:1px solid black;width:2em\"></td><td colspan=\"2\" style=\"height:1em;border-bottom:1px solid black;width:2em\"></td><td colspan=\"2\" style=\"height:1em;border-bottom:1px solid black;width:2em\"></td><td style=\"height:1em;border-bottom:1px solid black;width:1em\"></td><td rowspan=\"2\" style=\"height:2em;width:1em\"></td></tr><tr style=\"height:1px;text-align:center\"><td style=\"height:1em;width:1em\"></td><td colspan=\"2\" style=\"height:1em;width:2em\"></td><td colspan=\"2\" style=\"height:1em;width:2em\"></td><td colspan=\"2\" style=\"height:1em;width:2em\"></td><td style=\"border-right:1px solid black;height:1em;width:1em\"></td><td style=\"height:1em;width:1em\"></td><td colspan=\"2\" style=\"height:1em;width:2em\"></td><td colspan=\"2\" style=\"height:1em;width:2em\"></td><td colspan=\"2\" style=\"height:1em;width:2em\"></td><td style=\"border-right:1px solid black;height:1em;width:1em\"></td></tr>\n",
            "<tr style=\"height:1px;text-align:center\"><td colspan=\"2\" rowspan=\"2\" style=\"height:2em;width:2em\"></td><td colspan=\"2\" rowspan=\"2\" style=\"height:2em;width:2em\"></td><td colspan=\"2\" rowspan=\"2\" style=\"height:2em;width:2em\"></td><td colspan=\"2\" rowspan=\"2\" style=\"height:2em;width:2em\"></td><td colspan=\"2\" rowspan=\"2\" style=\"height:2em;width:2em\"></td><td colspan=\"6\" rowspan=\"2\" style=\"border:1px solid black;padding:0.2em\"><a href=\"/wiki/Sophia_of_Hanover\" title=\"Sophia of Hanover\">Sophia<br/><span style=\"font-size:85%;\">of Hanover<br/>Electress of Brunswick</span></a><br/><span style=\"font-size:85%;\">(1630–1714)</span></td><td colspan=\"2\" rowspan=\"2\" style=\"height:2em;width:2em\"></td><td colspan=\"6\" rowspan=\"2\" style=\"border:1px solid black;padding:0.2em;border-width:2px\"><b><a href=\"/wiki/Charles_II_of_England\" title=\"Charles II of England\">Charles II</a></b><br/><span style=\"font-size:85%;\">(1630–1685)<br/><b>r. 1649–1651</b><br/><i>(Scotland)</i><br/><b>r. 1660–1685</b><br/><i>(England)</i></span></td><td colspan=\"2\" rowspan=\"2\" style=\"height:2em;width:2em\"></td><td colspan=\"6\" rowspan=\"2\" style=\"border:1px solid black;padding:0.2em\"><a href=\"/wiki/Mary,_Princess_Royal_and_Princess_of_Orange\" title=\"Mary, Princess Royal and Princess of Orange\">Mary<br/><span style=\"font-size:85%;\">Princess Royal</span></a><br/><span style=\"font-size:85%;\">(1631–1660)</span></td><td colspan=\"2\" rowspan=\"2\" style=\"height:2em;width:2em\"></td><td colspan=\"6\" rowspan=\"2\" style=\"border:1px solid black;padding:0.2em;border-width:2px\"><b><a href=\"/wiki/James_II_of_England\" title=\"James II of England\">James II<br/>&amp; VII</a></b><br/><span style=\"font-size:85%;\">(1633–1701)<br/><b>r. 1685–1688</b></span></td></tr><tr style=\"height:1px;text-align:center\"></tr>\n",
            "<tr style=\"height:1px;text-align:center\"><td colspan=\"2\" rowspan=\"2\" style=\"height:2em;width:2em\"></td><td colspan=\"2\" rowspan=\"2\" style=\"height:2em;width:2em\"></td><td colspan=\"2\" rowspan=\"2\" style=\"height:2em;width:2em\"></td><td colspan=\"2\" rowspan=\"2\" style=\"height:2em;width:2em\"></td><td colspan=\"2\" rowspan=\"2\" style=\"height:2em;width:2em\"></td><td colspan=\"2\" rowspan=\"2\" style=\"height:2em;width:2em\"></td><td rowspan=\"2\" style=\"border-right:1px solid black;height:2em;width:1em\"></td><td rowspan=\"2\" style=\"height:2em;width:1em\"></td><td colspan=\"2\" rowspan=\"2\" style=\"height:2em;width:2em\"></td><td colspan=\"2\" rowspan=\"2\" style=\"height:2em;width:2em\"></td><td colspan=\"2\" rowspan=\"2\" style=\"height:2em;width:2em\"></td><td colspan=\"2\" rowspan=\"2\" style=\"height:2em;width:2em\"></td><td colspan=\"2\" rowspan=\"2\" style=\"height:2em;width:2em\"></td><td colspan=\"2\" rowspan=\"2\" style=\"height:2em;width:2em\"></td><td colspan=\"2\" rowspan=\"2\" style=\"height:2em;width:2em\"></td><td rowspan=\"2\" style=\"border-right:1px solid black;height:2em;width:1em\"></td><td rowspan=\"2\" style=\"height:2em;width:1em\"></td><td colspan=\"2\" rowspan=\"2\" style=\"height:2em;width:2em\"></td><td colspan=\"2\" rowspan=\"2\" style=\"height:2em;width:2em\"></td><td colspan=\"2\" rowspan=\"2\" style=\"height:2em;width:2em\"></td><td rowspan=\"2\" style=\"border-right:1px solid black;height:2em;width:1em\"></td><td rowspan=\"2\" style=\"height:2em;width:1em\"></td></tr><tr style=\"height:1px;text-align:center\"></tr>\n",
            "<tr style=\"height:1px;text-align:center\"><td colspan=\"2\" rowspan=\"2\" style=\"height:2em;width:2em\"></td><td colspan=\"2\" rowspan=\"2\" style=\"height:2em;width:2em\"></td><td colspan=\"2\" rowspan=\"2\" style=\"height:2em;width:2em\"></td><td colspan=\"2\" rowspan=\"2\" style=\"height:2em;width:2em\"></td><td colspan=\"2\" rowspan=\"2\" style=\"height:2em;width:2em\"></td><td colspan=\"6\" rowspan=\"2\" style=\"border:1px solid black;padding:0.2em;border-width:0px\"><a href=\"/wiki/House_of_Hanover\" title=\"House of Hanover\">House of Hanover</a></td><td colspan=\"2\" rowspan=\"2\" style=\"height:2em;width:2em\"></td><td colspan=\"2\" rowspan=\"2\" style=\"height:2em;width:2em\"></td><td colspan=\"2\" rowspan=\"2\" style=\"height:2em;width:2em\"></td><td colspan=\"2\" rowspan=\"2\" style=\"height:2em;width:2em\"></td><td colspan=\"2\" rowspan=\"2\" style=\"height:2em;width:2em\"></td><td colspan=\"2\" rowspan=\"2\" style=\"height:2em;width:2em\"></td><td rowspan=\"2\" style=\"border-right:1px solid black;height:2em;width:1em\"></td><td rowspan=\"2\" style=\"height:2em;width:1em\"></td><td colspan=\"2\" rowspan=\"2\" style=\"height:2em;width:2em\"></td><td colspan=\"2\" rowspan=\"2\" style=\"height:2em;width:2em\"></td><td colspan=\"2\" rowspan=\"2\" style=\"height:2em;width:2em\"></td><td rowspan=\"2\" style=\"border-right:1px solid black;height:2em;width:1em\"></td><td style=\"height:1em;border-bottom:1px solid black;width:1em\"></td><td colspan=\"2\" style=\"height:1em;border-bottom:1px solid black;width:2em\"></td><td colspan=\"2\" style=\"height:1em;border-bottom:1px solid black;width:2em\"></td><td colspan=\"2\" style=\"height:1em;border-bottom:1px solid black;width:2em\"></td><td style=\"height:1em;border-bottom:1px solid black;width:1em\"></td><td rowspan=\"2\" style=\"height:2em;width:1em\"></td></tr><tr style=\"height:1px;text-align:center\"><td style=\"height:1em;width:1em\"></td><td colspan=\"2\" style=\"height:1em;width:2em\"></td><td colspan=\"2\" style=\"height:1em;width:2em\"></td><td colspan=\"2\" style=\"height:1em;width:2em\"></td><td style=\"border-right:1px solid black;height:1em;width:1em\"></td></tr>\n",
            "<tr style=\"height:1px;text-align:center\"><td colspan=\"2\" rowspan=\"2\" style=\"height:2em;width:2em\"></td><td colspan=\"2\" rowspan=\"2\" style=\"height:2em;width:2em\"></td><td colspan=\"2\" rowspan=\"2\" style=\"height:2em;width:2em\"></td><td colspan=\"2\" rowspan=\"2\" style=\"height:2em;width:2em\"></td><td colspan=\"2\" rowspan=\"2\" style=\"height:2em;width:2em\"></td><td colspan=\"6\" rowspan=\"2\" style=\"border:1px solid black;padding:0.2em;border-width:2px\"><b><a href=\"/wiki/George_I_of_Great_Britain\" title=\"George I of Great Britain\">George I</a></b><br/><span style=\"font-size:85%;\">(1660–1727)<br/><b>r. 1714–1727</b></span></td><td colspan=\"2\" rowspan=\"2\" style=\"height:2em;width:2em\"></td><td colspan=\"2\" rowspan=\"2\" style=\"height:2em;width:2em\"></td><td colspan=\"2\" rowspan=\"2\" style=\"height:2em;width:2em\"></td><td colspan=\"2\" rowspan=\"2\" style=\"height:2em;width:2em\"></td><td colspan=\"2\" rowspan=\"2\" style=\"height:2em;width:2em\"></td><td colspan=\"6\" rowspan=\"2\" style=\"border:1px solid black;padding:0.2em;border-width:2px\"><span style=\"font-size:85%;\">m. 1677</span><br/><b><a href=\"/wiki/William_III_of_England\" title=\"William III of England\">William III &amp; II</a></b><br/><span style=\"font-size:85%;\">(1650–1702)<br/><b>r. 1688–1702</b></span></td><td colspan=\"2\" style=\"height:1em;border-bottom:1px dashed black;width:2em\"></td><td colspan=\"6\" rowspan=\"2\" style=\"border:1px solid black;padding:0.2em;border-width:2px\"><b><a href=\"/wiki/Mary_II_of_England\" title=\"Mary II of England\">Mary II</a></b><br/><span style=\"font-size:85%;\">(1662–1694)<br/><b>r. 1688–1694</b></span></td><td colspan=\"2\" rowspan=\"2\" style=\"height:2em;width:2em\"></td><td colspan=\"6\" rowspan=\"2\" style=\"border:1px solid black;padding:0.2em;border-width:2px\"><b><a href=\"/wiki/Anne,_Queen_of_Great_Britain\" title=\"Anne, Queen of Great Britain\">Anne</a></b><br/><span style=\"font-size:85%;\">(1665–1714)<br/><b>r. 1702–1714</b></span></td></tr><tr style=\"height:1px;text-align:center\"><td colspan=\"2\" style=\"height:1em;width:2em\"></td></tr>\n",
            "<tr style=\"height:1px;text-align:center\"><td colspan=\"2\" rowspan=\"2\" style=\"height:2em;width:2em\"></td><td colspan=\"2\" rowspan=\"2\" style=\"height:2em;width:2em\"></td><td colspan=\"2\" rowspan=\"2\" style=\"height:2em;width:2em\"></td><td colspan=\"2\" rowspan=\"2\" style=\"height:2em;width:2em\"></td><td colspan=\"2\" rowspan=\"2\" style=\"height:2em;width:2em\"></td><td colspan=\"2\" rowspan=\"2\" style=\"height:2em;width:2em\"></td><td rowspan=\"2\" style=\"border-right:1px solid black;height:2em;width:1em\"></td><td rowspan=\"2\" style=\"height:2em;width:1em\"></td></tr><tr style=\"height:1px;text-align:center\"></tr>\n",
            "<tr style=\"height:1px;text-align:center\"><td colspan=\"2\" rowspan=\"2\" style=\"height:2em;width:2em\"></td><td colspan=\"2\" rowspan=\"2\" style=\"height:2em;width:2em\"></td><td colspan=\"2\" rowspan=\"2\" style=\"height:2em;width:2em\"></td><td colspan=\"2\" rowspan=\"2\" style=\"height:2em;width:2em\"></td><td colspan=\"2\" rowspan=\"2\" style=\"height:2em;width:2em\"></td><td colspan=\"6\" rowspan=\"2\" style=\"border:1px solid black;padding:0.2em;border-width:2px\"><b><a href=\"/wiki/George_II_of_Great_Britain\" title=\"George II of Great Britain\">George II</a></b><br/><span style=\"font-size:85%;\">(1683–1760)<br/><b>r. 1727–1760</b></span></td></tr><tr style=\"height:1px;text-align:center\"></tr>\n",
            "<tr style=\"height:1px;text-align:center\"><td colspan=\"2\" rowspan=\"2\" style=\"height:2em;width:2em\"></td><td colspan=\"2\" rowspan=\"2\" style=\"height:2em;width:2em\"></td><td colspan=\"2\" rowspan=\"2\" style=\"height:2em;width:2em\"></td><td colspan=\"2\" rowspan=\"2\" style=\"height:2em;width:2em\"></td><td colspan=\"2\" rowspan=\"2\" style=\"height:2em;width:2em\"></td><td colspan=\"2\" rowspan=\"2\" style=\"height:2em;width:2em\"></td><td rowspan=\"2\" style=\"border-right:1px solid black;height:2em;width:1em\"></td><td rowspan=\"2\" style=\"height:2em;width:1em\"></td></tr><tr style=\"height:1px;text-align:center\"></tr>\n",
            "<tr style=\"height:1px;text-align:center\"><td colspan=\"2\" rowspan=\"2\" style=\"height:2em;width:2em\"></td><td colspan=\"2\" rowspan=\"2\" style=\"height:2em;width:2em\"></td><td colspan=\"2\" rowspan=\"2\" style=\"height:2em;width:2em\"></td><td colspan=\"2\" rowspan=\"2\" style=\"height:2em;width:2em\"></td><td colspan=\"2\" rowspan=\"2\" style=\"height:2em;width:2em\"></td><td colspan=\"6\" rowspan=\"2\" style=\"border:1px solid black;padding:0.2em\"><a href=\"/wiki/Frederick,_Prince_of_Wales\" title=\"Frederick, Prince of Wales\">Frederick<br/><span style=\"font-size:85%;\">Prince of Wales</span></a><br/><span style=\"font-size:85%;\">(1707–1751)</span></td></tr><tr style=\"height:1px;text-align:center\"></tr>\n",
            "<tr style=\"height:1px;text-align:center\"><td colspan=\"2\" rowspan=\"2\" style=\"height:2em;width:2em\"></td><td colspan=\"2\" rowspan=\"2\" style=\"height:2em;width:2em\"></td><td colspan=\"2\" rowspan=\"2\" style=\"height:2em;width:2em\"></td><td colspan=\"2\" rowspan=\"2\" style=\"height:2em;width:2em\"></td><td colspan=\"2\" rowspan=\"2\" style=\"height:2em;width:2em\"></td><td colspan=\"2\" rowspan=\"2\" style=\"height:2em;width:2em\"></td><td rowspan=\"2\" style=\"border-right:1px solid black;height:2em;width:1em\"></td><td rowspan=\"2\" style=\"height:2em;width:1em\"></td></tr><tr style=\"height:1px;text-align:center\"></tr>\n",
            "<tr style=\"height:1px;text-align:center\"><td colspan=\"2\" rowspan=\"2\" style=\"height:2em;width:2em\"></td><td colspan=\"2\" rowspan=\"2\" style=\"height:2em;width:2em\"></td><td colspan=\"2\" rowspan=\"2\" style=\"height:2em;width:2em\"></td><td colspan=\"2\" rowspan=\"2\" style=\"height:2em;width:2em\"></td><td colspan=\"2\" rowspan=\"2\" style=\"height:2em;width:2em\"></td><td colspan=\"6\" rowspan=\"2\" style=\"border:1px solid black;padding:0.2em;border-width:2px\"><b><a class=\"mw-redirect\" href=\"/wiki/George_III_of_the_United_Kingdom\" title=\"George III of the United Kingdom\">George III</a></b><br/><span style=\"font-size:85%;\">(1738–1820)<br/><b>r. 1760–1820</b></span></td></tr><tr style=\"height:1px;text-align:center\"></tr>\n",
            "<tr style=\"height:1px;text-align:center\"><td colspan=\"2\" rowspan=\"2\" style=\"height:2em;width:2em\"></td><td colspan=\"2\" rowspan=\"2\" style=\"height:2em;width:2em\"></td><td style=\"height:1em;width:1em\"></td><td style=\"height:1em;border-bottom:1px solid black;width:1em\"></td><td colspan=\"2\" style=\"height:1em;border-bottom:1px solid black;width:2em\"></td><td colspan=\"2\" style=\"height:1em;border-bottom:1px solid black;width:2em\"></td><td colspan=\"2\" style=\"height:1em;border-bottom:1px solid black;width:2em\"></td><td style=\"border-right:1px solid black;border-bottom:1px solid black;height:1em;width:1em\"></td><td style=\"height:1em;border-bottom:1px solid black;width:1em\"></td><td colspan=\"2\" style=\"height:1em;border-bottom:1px solid black;width:2em\"></td><td colspan=\"2\" style=\"height:1em;border-bottom:1px solid black;width:2em\"></td><td colspan=\"2\" style=\"height:1em;border-bottom:1px solid black;width:2em\"></td><td style=\"height:1em;border-bottom:1px solid black;width:1em\"></td><td rowspan=\"2\" style=\"height:2em;width:1em\"></td></tr><tr style=\"height:1px;text-align:center\"><td style=\"border-right:1px solid black;height:1em;width:1em\"></td><td style=\"height:1em;width:1em\"></td><td colspan=\"2\" style=\"height:1em;width:2em\"></td><td colspan=\"2\" style=\"height:1em;width:2em\"></td><td colspan=\"2\" style=\"height:1em;width:2em\"></td><td style=\"border-right:1px solid black;height:1em;width:1em\"></td><td style=\"height:1em;width:1em\"></td><td colspan=\"2\" style=\"height:1em;width:2em\"></td><td colspan=\"2\" style=\"height:1em;width:2em\"></td><td colspan=\"2\" style=\"height:1em;width:2em\"></td><td style=\"border-right:1px solid black;height:1em;width:1em\"></td></tr>\n",
            "<tr style=\"height:1px;text-align:center\"><td colspan=\"2\" rowspan=\"2\" style=\"height:2em;width:2em\"></td><td colspan=\"6\" rowspan=\"2\" style=\"border:1px solid black;padding:0.2em;border-width:2px\"><b><a class=\"mw-redirect\" href=\"/wiki/George_IV_of_the_United_Kingdom\" title=\"George IV of the United Kingdom\">George IV</a></b><br/><span style=\"font-size:85%;\">(1762–1830)<br/><i>regent</i><br/>1811–1820<br/><b>r. 1820–1830</b></span></td><td colspan=\"2\" rowspan=\"2\" style=\"height:2em;width:2em\"></td><td colspan=\"6\" rowspan=\"2\" style=\"border:1px solid black;padding:0.2em;border-width:2px\"><b><a class=\"mw-redirect\" href=\"/wiki/William_IV_of_the_United_Kingdom\" title=\"William IV of the United Kingdom\">William IV</a></b><br/><span style=\"font-size:85%;\">(1765–1837)<br/><b>r. 1830–1837</b></span></td><td colspan=\"2\" rowspan=\"2\" style=\"height:2em;width:2em\"></td><td colspan=\"6\" rowspan=\"2\" style=\"border:1px solid black;padding:0.2em\"><a href=\"/wiki/Prince_Edward,_Duke_of_Kent_and_Strathearn\" title=\"Prince Edward, Duke of Kent and Strathearn\">Edward<br/><span style=\"font-size:85%;\">Duke of Kent and Strathearn</span></a><br/><span style=\"font-size:85%;\">(1767–1820)</span></td></tr><tr style=\"height:1px;text-align:center\"></tr>\n",
            "<tr style=\"height:1px;text-align:center\"><td colspan=\"2\" rowspan=\"2\" style=\"height:2em;width:2em\"></td><td colspan=\"2\" rowspan=\"2\" style=\"height:2em;width:2em\"></td><td colspan=\"2\" rowspan=\"2\" style=\"height:2em;width:2em\"></td><td colspan=\"2\" rowspan=\"2\" style=\"height:2em;width:2em\"></td><td colspan=\"2\" rowspan=\"2\" style=\"height:2em;width:2em\"></td><td colspan=\"2\" rowspan=\"2\" style=\"height:2em;width:2em\"></td><td colspan=\"2\" rowspan=\"2\" style=\"height:2em;width:2em\"></td><td colspan=\"2\" rowspan=\"2\" style=\"height:2em;width:2em\"></td><td colspan=\"2\" rowspan=\"2\" style=\"height:2em;width:2em\"></td><td colspan=\"2\" rowspan=\"2\" style=\"height:2em;width:2em\"></td><td rowspan=\"2\" style=\"border-right:1px solid black;height:2em;width:1em\"></td><td rowspan=\"2\" style=\"height:2em;width:1em\"></td></tr><tr style=\"height:1px;text-align:center\"></tr>\n",
            "<tr style=\"height:1px;text-align:center\"><td colspan=\"2\" rowspan=\"2\" style=\"height:2em;width:2em\"></td><td colspan=\"2\" rowspan=\"2\" style=\"height:2em;width:2em\"></td><td colspan=\"2\" rowspan=\"2\" style=\"height:2em;width:2em\"></td><td colspan=\"2\" rowspan=\"2\" style=\"height:2em;width:2em\"></td><td colspan=\"2\" rowspan=\"2\" style=\"height:2em;width:2em\"></td><td colspan=\"2\" rowspan=\"2\" style=\"height:2em;width:2em\"></td><td colspan=\"2\" rowspan=\"2\" style=\"height:2em;width:2em\"></td><td colspan=\"2\" rowspan=\"2\" style=\"height:2em;width:2em\"></td><td colspan=\"2\" rowspan=\"2\" style=\"height:2em;width:2em\"></td><td colspan=\"6\" rowspan=\"2\" style=\"border:1px solid black;padding:0.2em;border-width:2px\"><b><a href=\"/wiki/Queen_Victoria\" title=\"Queen Victoria\">Victoria</a></b><br/><span style=\"font-size:85%;\">(1819–1901)<br/><b>r. 1837–1901</b></span></td></tr><tr style=\"height:1px;text-align:center\"></tr>\n",
            "<tr style=\"height:1px;text-align:center\"><td colspan=\"2\" rowspan=\"2\" style=\"height:2em;width:2em\"></td><td colspan=\"2\" rowspan=\"2\" style=\"height:2em;width:2em\"></td><td colspan=\"2\" rowspan=\"2\" style=\"height:2em;width:2em\"></td><td colspan=\"2\" rowspan=\"2\" style=\"height:2em;width:2em\"></td><td colspan=\"2\" rowspan=\"2\" style=\"height:2em;width:2em\"></td><td colspan=\"2\" rowspan=\"2\" style=\"height:2em;width:2em\"></td><td colspan=\"2\" rowspan=\"2\" style=\"height:2em;width:2em\"></td><td colspan=\"2\" rowspan=\"2\" style=\"height:2em;width:2em\"></td><td colspan=\"2\" rowspan=\"2\" style=\"height:2em;width:2em\"></td><td colspan=\"2\" rowspan=\"2\" style=\"height:2em;width:2em\"></td><td rowspan=\"2\" style=\"border-right:1px solid black;height:2em;width:1em\"></td><td rowspan=\"2\" style=\"height:2em;width:1em\"></td></tr><tr style=\"height:1px;text-align:center\"></tr>\n",
            "<tr style=\"height:1px;text-align:center\"><td colspan=\"2\" rowspan=\"2\" style=\"height:2em;width:2em\"></td><td colspan=\"2\" rowspan=\"2\" style=\"height:2em;width:2em\"></td><td colspan=\"2\" rowspan=\"2\" style=\"height:2em;width:2em\"></td><td colspan=\"2\" rowspan=\"2\" style=\"height:2em;width:2em\"></td><td colspan=\"2\" rowspan=\"2\" style=\"height:2em;width:2em\"></td><td colspan=\"2\" rowspan=\"2\" style=\"height:2em;width:2em\"></td><td colspan=\"2\" rowspan=\"2\" style=\"height:2em;width:2em\"></td><td colspan=\"2\" rowspan=\"2\" style=\"height:2em;width:2em\"></td><td colspan=\"2\" rowspan=\"2\" style=\"height:2em;width:2em\"></td><td colspan=\"6\" rowspan=\"2\" style=\"border:1px solid black;padding:0.2em;border-width:0px\"><a href=\"/wiki/House_of_Windsor\" title=\"House of Windsor\">House of Windsor</a><br/><span style=\"font-size:85%;\">(<a href=\"/wiki/House_of_Saxe-Coburg_and_Gotha\" title=\"House of Saxe-Coburg and Gotha\">Saxe-Coburg and Gotha</a>)</span></td></tr><tr style=\"height:1px;text-align:center\"></tr>\n",
            "<tr style=\"height:1px;text-align:center\"><td colspan=\"2\" rowspan=\"2\" style=\"height:2em;width:2em\"></td><td colspan=\"2\" rowspan=\"2\" style=\"height:2em;width:2em\"></td><td colspan=\"2\" rowspan=\"2\" style=\"height:2em;width:2em\"></td><td colspan=\"2\" rowspan=\"2\" style=\"height:2em;width:2em\"></td><td colspan=\"2\" rowspan=\"2\" style=\"height:2em;width:2em\"></td><td colspan=\"2\" rowspan=\"2\" style=\"height:2em;width:2em\"></td><td colspan=\"2\" rowspan=\"2\" style=\"height:2em;width:2em\"></td><td colspan=\"2\" rowspan=\"2\" style=\"height:2em;width:2em\"></td><td colspan=\"2\" rowspan=\"2\" style=\"height:2em;width:2em\"></td><td colspan=\"6\" rowspan=\"2\" style=\"border:1px solid black;padding:0.2em;border-width:2px\"><b><a href=\"/wiki/Edward_VII\" title=\"Edward VII\">Edward VII</a></b><br/><span style=\"font-size:85%;\">(1841–1910)<br/><b>r. 1901–1910</b></span></td></tr><tr style=\"height:1px;text-align:center\"></tr>\n",
            "<tr style=\"height:1px;text-align:center\"><td colspan=\"2\" rowspan=\"2\" style=\"height:2em;width:2em\"></td><td colspan=\"2\" rowspan=\"2\" style=\"height:2em;width:2em\"></td><td colspan=\"2\" rowspan=\"2\" style=\"height:2em;width:2em\"></td><td colspan=\"2\" rowspan=\"2\" style=\"height:2em;width:2em\"></td><td colspan=\"2\" rowspan=\"2\" style=\"height:2em;width:2em\"></td><td colspan=\"2\" rowspan=\"2\" style=\"height:2em;width:2em\"></td><td colspan=\"2\" rowspan=\"2\" style=\"height:2em;width:2em\"></td><td colspan=\"2\" rowspan=\"2\" style=\"height:2em;width:2em\"></td><td colspan=\"2\" rowspan=\"2\" style=\"height:2em;width:2em\"></td><td colspan=\"2\" rowspan=\"2\" style=\"height:2em;width:2em\"></td><td rowspan=\"2\" style=\"border-right:1px solid black;height:2em;width:1em\"></td><td rowspan=\"2\" style=\"height:2em;width:1em\"></td></tr><tr style=\"height:1px;text-align:center\"></tr>\n",
            "<tr style=\"height:1px;text-align:center\"><td colspan=\"2\" rowspan=\"2\" style=\"height:2em;width:2em\"></td><td colspan=\"2\" rowspan=\"2\" style=\"height:2em;width:2em\"></td><td colspan=\"2\" rowspan=\"2\" style=\"height:2em;width:2em\"></td><td colspan=\"2\" rowspan=\"2\" style=\"height:2em;width:2em\"></td><td colspan=\"2\" rowspan=\"2\" style=\"height:2em;width:2em\"></td><td colspan=\"2\" rowspan=\"2\" style=\"height:2em;width:2em\"></td><td colspan=\"2\" rowspan=\"2\" style=\"height:2em;width:2em\"></td><td colspan=\"2\" rowspan=\"2\" style=\"height:2em;width:2em\"></td><td colspan=\"2\" rowspan=\"2\" style=\"height:2em;width:2em\"></td><td colspan=\"6\" rowspan=\"2\" style=\"border:1px solid black;padding:0.2em;border-width:2px\"><b><a href=\"/wiki/George_V\" title=\"George V\">George V</a></b><br/><span style=\"font-size:85%;\">(1865–1936)<br/><b>r. 1910–1936</b></span></td></tr><tr style=\"height:1px;text-align:center\"></tr>\n",
            "<tr style=\"height:1px;text-align:center\"><td colspan=\"2\" rowspan=\"2\" style=\"height:2em;width:2em\"></td><td colspan=\"2\" rowspan=\"2\" style=\"height:2em;width:2em\"></td><td colspan=\"2\" rowspan=\"2\" style=\"height:2em;width:2em\"></td><td colspan=\"2\" rowspan=\"2\" style=\"height:2em;width:2em\"></td><td colspan=\"2\" rowspan=\"2\" style=\"height:2em;width:2em\"></td><td colspan=\"2\" rowspan=\"2\" style=\"height:2em;width:2em\"></td><td colspan=\"2\" rowspan=\"2\" style=\"height:2em;width:2em\"></td><td colspan=\"2\" rowspan=\"2\" style=\"height:2em;width:2em\"></td><td colspan=\"2\" rowspan=\"2\" style=\"height:2em;width:2em\"></td><td colspan=\"2\" rowspan=\"2\" style=\"height:2em;width:2em\"></td><td rowspan=\"2\" style=\"border-right:1px solid black;height:2em;width:1em\"></td><td style=\"height:1em;border-bottom:1px solid black;width:1em\"></td><td colspan=\"2\" style=\"height:1em;border-bottom:1px solid black;width:2em\"></td><td colspan=\"2\" style=\"height:1em;border-bottom:1px solid black;width:2em\"></td><td colspan=\"2\" style=\"height:1em;border-bottom:1px solid black;width:2em\"></td><td style=\"height:1em;border-bottom:1px solid black;width:1em\"></td><td rowspan=\"2\" style=\"height:2em;width:1em\"></td></tr><tr style=\"height:1px;text-align:center\"><td style=\"height:1em;width:1em\"></td><td colspan=\"2\" style=\"height:1em;width:2em\"></td><td colspan=\"2\" style=\"height:1em;width:2em\"></td><td colspan=\"2\" style=\"height:1em;width:2em\"></td><td style=\"border-right:1px solid black;height:1em;width:1em\"></td></tr>\n",
            "<tr style=\"height:1px;text-align:center\"><td colspan=\"2\" rowspan=\"2\" style=\"height:2em;width:2em\"></td><td colspan=\"2\" rowspan=\"2\" style=\"height:2em;width:2em\"></td><td colspan=\"2\" rowspan=\"2\" style=\"height:2em;width:2em\"></td><td colspan=\"2\" rowspan=\"2\" style=\"height:2em;width:2em\"></td><td colspan=\"2\" rowspan=\"2\" style=\"height:2em;width:2em\"></td><td colspan=\"2\" rowspan=\"2\" style=\"height:2em;width:2em\"></td><td colspan=\"2\" rowspan=\"2\" style=\"height:2em;width:2em\"></td><td colspan=\"2\" rowspan=\"2\" style=\"height:2em;width:2em\"></td><td colspan=\"2\" rowspan=\"2\" style=\"height:2em;width:2em\"></td><td colspan=\"6\" rowspan=\"2\" style=\"border:1px solid black;padding:0.2em;border-width:2px\"><b><a href=\"/wiki/Edward_VIII\" title=\"Edward VIII\">Edward VIII</a></b><br/><span style=\"font-size:85%;\"><a href=\"/wiki/Duke_of_Windsor\" title=\"Duke of Windsor\">Duke of Windsor</a><br/>(1894–1972)<br/><b>r. 1936</b></span></td><td colspan=\"2\" rowspan=\"2\" style=\"height:2em;width:2em\"></td><td colspan=\"6\" rowspan=\"2\" style=\"border:1px solid black;padding:0.2em;border-width:2px\"><b><a href=\"/wiki/George_VI\" title=\"George VI\">George VI</a></b><br/><span style=\"font-size:85%;\">(1895–1952)<br/><b>r. 1936–1952</b></span></td></tr><tr style=\"height:1px;text-align:center\"></tr>\n",
            "<tr style=\"height:1px;text-align:center\"><td colspan=\"2\" rowspan=\"2\" style=\"height:2em;width:2em\"></td><td colspan=\"2\" rowspan=\"2\" style=\"height:2em;width:2em\"></td><td colspan=\"2\" rowspan=\"2\" style=\"height:2em;width:2em\"></td><td colspan=\"2\" rowspan=\"2\" style=\"height:2em;width:2em\"></td><td colspan=\"2\" rowspan=\"2\" style=\"height:2em;width:2em\"></td><td colspan=\"2\" rowspan=\"2\" style=\"height:2em;width:2em\"></td><td colspan=\"2\" rowspan=\"2\" style=\"height:2em;width:2em\"></td><td colspan=\"2\" rowspan=\"2\" style=\"height:2em;width:2em\"></td><td colspan=\"2\" rowspan=\"2\" style=\"height:2em;width:2em\"></td><td colspan=\"2\" rowspan=\"2\" style=\"height:2em;width:2em\"></td><td colspan=\"2\" rowspan=\"2\" style=\"height:2em;width:2em\"></td><td colspan=\"2\" rowspan=\"2\" style=\"height:2em;width:2em\"></td><td colspan=\"2\" rowspan=\"2\" style=\"height:2em;width:2em\"></td><td colspan=\"2\" rowspan=\"2\" style=\"height:2em;width:2em\"></td><td rowspan=\"2\" style=\"border-right:1px solid black;height:2em;width:1em\"></td><td rowspan=\"2\" style=\"height:2em;width:1em\"></td></tr><tr style=\"height:1px;text-align:center\"></tr>\n",
            "<tr style=\"height:1px;text-align:center\"><td colspan=\"2\" rowspan=\"2\" style=\"height:2em;width:2em\"></td><td colspan=\"2\" rowspan=\"2\" style=\"height:2em;width:2em\"></td><td colspan=\"2\" rowspan=\"2\" style=\"height:2em;width:2em\"></td><td colspan=\"2\" rowspan=\"2\" style=\"height:2em;width:2em\"></td><td colspan=\"2\" rowspan=\"2\" style=\"height:2em;width:2em\"></td><td colspan=\"2\" rowspan=\"2\" style=\"height:2em;width:2em\"></td><td colspan=\"2\" rowspan=\"2\" style=\"height:2em;width:2em\"></td><td colspan=\"2\" rowspan=\"2\" style=\"height:2em;width:2em\"></td><td colspan=\"2\" rowspan=\"2\" style=\"height:2em;width:2em\"></td><td colspan=\"2\" rowspan=\"2\" style=\"height:2em;width:2em\"></td><td colspan=\"2\" rowspan=\"2\" style=\"height:2em;width:2em\"></td><td colspan=\"2\" rowspan=\"2\" style=\"height:2em;width:2em\"></td><td colspan=\"2\" rowspan=\"2\" style=\"height:2em;width:2em\"></td><td colspan=\"6\" rowspan=\"2\" style=\"border:1px solid black;padding:0.2em;border-width:2px\"><b><a href=\"/wiki/Elizabeth_II\" title=\"Elizabeth II\">Elizabeth II</a></b><br/><span style=\"font-size:85%;\">(1926–present)<br/><b>r. 1952–present</b></span></td></tr><tr style=\"height:1px;text-align:center\"></tr>\n",
            "</tbody></table>\n"
          ]
        }
      ]
    },
    {
      "cell_type": "code",
      "source": [
        "global title\n",
        "name=[]\n",
        "for data in title_wikipedia.find_all('tr'):\n",
        "      for data1 in data.find_all('td'):\n",
        "           for data2 in data1.find_all('a'):\n",
        "                   title = data2.get_text().strip()\n",
        "                   name.append(title)\n",
        "\n"
      ],
      "metadata": {
        "id": "k4feCjwHQ_FA"
      },
      "execution_count": null,
      "outputs": []
    },
    {
      "cell_type": "code",
      "source": [
        "global tit\n",
        "link=[]\n",
        "for data in title_wikipedia.find_all('tr'):\n",
        "      for data1 in data.find_all('td'):\n",
        "           for data2 in data1.find_all(href=True):\n",
        "                   link.append(data2['href'])"
      ],
      "metadata": {
        "id": "K4qvYH0yd7fi"
      },
      "execution_count": null,
      "outputs": []
    },
    {
      "cell_type": "code",
      "source": [
        "b=\"House\"\n",
        "c=\"\"\n",
        "for i,n in enumerate(name):\n",
        "  if  b in n:\n",
        "    del name[i]\n",
        "    del link[i]"
      ],
      "metadata": {
        "id": "D0zFnoxOcaRU"
      },
      "execution_count": null,
      "outputs": []
    },
    {
      "cell_type": "code",
      "source": [
        "print(name,link)"
      ],
      "metadata": {
        "colab": {
          "base_uri": "https://localhost:8080/"
        },
        "id": "MEwWFLe-Ycjd",
        "outputId": "86febd5a-a01b-4e0b-88cf-672408f1b79f"
      },
      "execution_count": null,
      "outputs": [
        {
          "output_type": "stream",
          "name": "stdout",
          "text": [
            "['Alfredthe Great', 'Edwardthe Elder', 'Æthelstan', 'Edmund I', 'Eadred', 'Eadwig', 'Edgar Ithe Peaceful', 'SweynForkbeard', 'Richard I', 'Godwin', 'Edwardthe Martyr', 'Æthelredthe Unready', 'Emma', 'Cnutthe Great', 'Richard II', 'HaroldGodwinson', 'Edmund IIIronside', 'Edith', 'Edwardthe Confessor', 'Harthacnut', 'Harold IHarefoot', 'Edwardthe Exile', 'Robert I', 'Margaret', 'William Ithe Conqueror', 'Matilda', 'Henry I', 'Adelaof Normandy', 'William II', 'House of Blois', 'Matilda', 'Stephen', 'Henry II', 'Richard I', 'John', 'Henry III', 'Edward I', 'Edward II', 'Edward III', 'Edwardof Wales', 'Johnof Gaunt1st Duke of Lancaster', 'Lionelof Antwerp1st Duke of Clarence', 'Richard II', 'Henry IV', 'John Beaufort1st Earl of Somerset', 'Philippaof Clarence', 'Edmundof Langley1st Duke of York', 'Roger Mortimer', 'Henry V', 'John Beaufort1st Duke of Somerset', 'Anne Mortimer', 'Richardof Conisburgh3rd Earl of Cambridge', 'Richardof York3rd Duke of York', 'Henry VI', 'Margaret Beaufort', 'Edward IV', 'Richard III', 'Henry VII', 'Elizabethof York', 'Edward V', 'Margaret Tudor', 'Henry VIII', 'Mary Tudor', 'James V', '', 'Edward VI', 'Mary I', 'Philip II', '', 'Elizabeth I', 'Frances Brandon', 'Mary', '', 'Jane', 'James VI & I', 'ElizabethElectress Palatine', 'Charles I', 'Sophiaof HanoverElectress of Brunswick', 'Charles II', 'MaryPrincess Royal', 'James II& VII', 'George I', 'William III & II', 'Mary II', 'Anne', 'George II', 'FrederickPrince of Wales', 'George III', 'George IV', 'William IV', 'EdwardDuke of Kent and Strathearn', 'Victoria', 'Saxe-Coburg and Gotha', 'Edward VII', 'George V', 'Edward VIII', 'Duke of Windsor', 'George VI', 'Elizabeth II'] ['/wiki/Alfred_the_Great', '/wiki/Edward_the_Elder', '/wiki/%C3%86thelstan', '/wiki/Edmund_I', '/wiki/Eadred', '/wiki/Eadwig', '/wiki/Edgar_the_Peaceful', '/wiki/Sweyn_Forkbeard', '/wiki/Richard_I_of_Normandy', '/wiki/Godwin,_Earl_of_Wessex', '/wiki/Edward_the_Martyr', '/wiki/%C3%86thelred_the_Unready', '/wiki/Emma_of_Normandy', '/wiki/Cnut_the_Great', '/wiki/Richard_II,_Duke_of_Normandy', '/wiki/Harold_Godwinson', '/wiki/Edmund_Ironside', '/wiki/Edith_of_Wessex', '/wiki/Edward_the_Confessor', '/wiki/Harthacnut', '/wiki/Harold_Harefoot', '/wiki/Edward_the_Exile', '/wiki/Robert_I,_Duke_of_Normandy', '/wiki/Saint_Margaret_of_Scotland', '/wiki/William_the_Conqueror', '/wiki/Matilda_of_Scotland', '/wiki/Henry_I_of_England', '/wiki/Adela_of_Normandy', '/wiki/William_II_of_England', '/wiki/House_of_Blois', '/wiki/Empress_Matilda', '/wiki/Stephen,_King_of_England', '/wiki/Henry_II_of_England', '/wiki/Richard_I_of_England', '/wiki/John,_King_of_England', '/wiki/Henry_III_of_England', '/wiki/Edward_I_of_England', '/wiki/Edward_II_of_England', '/wiki/Edward_III_of_England', '/wiki/Edward,_the_Black_Prince', '/wiki/John_of_Gaunt', '/wiki/Lionel_of_Antwerp,_Duke_of_Clarence', '/wiki/Richard_II_of_England', '/wiki/Henry_IV_of_England', '/wiki/John_Beaufort,_1st_Earl_of_Somerset', '/wiki/Philippa,_5th_Countess_of_Ulster', '/wiki/Edmund_of_Langley,_1st_Duke_of_York', '/wiki/Roger_Mortimer,_4th_Earl_of_March', '/wiki/Henry_V_of_England', '/wiki/John_Beaufort,_1st_Duke_of_Somerset', '/wiki/Anne_de_Mortimer', '/wiki/Richard_of_Conisburgh,_3rd_Earl_of_Cambridge', '/wiki/Richard_of_York,_3rd_Duke_of_York', '/wiki/Henry_VI_of_England', '/wiki/Margaret_Beaufort,_Countess_of_Richmond_and_Derby', '/wiki/Edward_IV_of_England', '/wiki/Richard_III_of_England', '/wiki/Henry_VII_of_England', '/wiki/Elizabeth_of_York', '/wiki/Edward_V_of_England', '/wiki/Margaret_Tudor', '/wiki/Henry_VIII_of_England', '/wiki/Mary_Tudor,_Queen_of_France', '/wiki/James_V_of_Scotland', '/wiki/Kingdom_of_Scotland', '/wiki/Edward_VI_of_England', '/wiki/Mary_I_of_England', '/wiki/Philip_II_of_Spain', '/wiki/History_of_Spain_(1700%E2%80%931810)', '/wiki/Elizabeth_I_of_England', '/wiki/Frances_Grey,_Duchess_of_Suffolk', '/wiki/Mary,_Queen_of_Scots', '/wiki/Kingdom_of_Scotland', '/wiki/Lady_Jane_Grey', '/wiki/James_VI_and_I', '/wiki/Elizabeth_of_Bohemia', '/wiki/Charles_I_of_England', '/wiki/Sophia_of_Hanover', '/wiki/Charles_II_of_England', '/wiki/Mary,_Princess_Royal_and_Princess_of_Orange', '/wiki/James_II_of_England', '/wiki/George_I_of_Great_Britain', '/wiki/William_III_of_England', '/wiki/Mary_II_of_England', '/wiki/Anne,_Queen_of_Great_Britain', '/wiki/George_II_of_Great_Britain', '/wiki/Frederick,_Prince_of_Wales', '/wiki/George_III_of_the_United_Kingdom', '/wiki/George_IV_of_the_United_Kingdom', '/wiki/William_IV_of_the_United_Kingdom', '/wiki/Prince_Edward,_Duke_of_Kent_and_Strathearn', '/wiki/Queen_Victoria', '/wiki/House_of_Saxe-Coburg_and_Gotha', '/wiki/Edward_VII', '/wiki/George_V', '/wiki/Edward_VIII', '/wiki/Duke_of_Windsor', '/wiki/George_VI', '/wiki/Elizabeth_II']\n"
          ]
        }
      ]
    },
    {
      "cell_type": "code",
      "source": [
        "import sqlite3 as sql\n",
        "import pandas as pd\n",
        "import matplotlib.pyplot as plt"
      ],
      "metadata": {
        "id": "6-lxuq27Yy7X"
      },
      "execution_count": null,
      "outputs": []
    },
    {
      "cell_type": "code",
      "source": [
        "import pandas as pd\n",
        "import numpy as np\n",
        "a_list = list(range(0, 99))\n",
        "id=np.array(a_list)\n",
        "name = np.array(name)\n",
        "link = np.array(link)\n",
        "dataset = pd.DataFrame({'id':id,'link': link, 'name': name}, columns=['id','link', 'name'])\n",
        "dataset"
      ],
      "metadata": {
        "colab": {
          "base_uri": "https://localhost:8080/",
          "height": 423
        },
        "id": "ZZorlBLRZAtr",
        "outputId": "0aabde88-4750-49dd-fe69-94ac1f01e640"
      },
      "execution_count": null,
      "outputs": [
        {
          "output_type": "execute_result",
          "data": {
            "text/plain": [
              "    id                    link             name\n",
              "0    0  /wiki/Alfred_the_Great  Alfredthe Great\n",
              "1    1  /wiki/Edward_the_Elder  Edwardthe Elder\n",
              "2    2    /wiki/%C3%86thelstan        Æthelstan\n",
              "3    3          /wiki/Edmund_I         Edmund I\n",
              "4    4            /wiki/Eadred           Eadred\n",
              "..  ..                     ...              ...\n",
              "94  94          /wiki/George_V         George V\n",
              "95  95       /wiki/Edward_VIII      Edward VIII\n",
              "96  96   /wiki/Duke_of_Windsor  Duke of Windsor\n",
              "97  97         /wiki/George_VI        George VI\n",
              "98  98      /wiki/Elizabeth_II     Elizabeth II\n",
              "\n",
              "[99 rows x 3 columns]"
            ],
            "text/html": [
              "\n",
              "  <div id=\"df-44244413-3fec-4971-8640-803c05ffb4c5\">\n",
              "    <div class=\"colab-df-container\">\n",
              "      <div>\n",
              "<style scoped>\n",
              "    .dataframe tbody tr th:only-of-type {\n",
              "        vertical-align: middle;\n",
              "    }\n",
              "\n",
              "    .dataframe tbody tr th {\n",
              "        vertical-align: top;\n",
              "    }\n",
              "\n",
              "    .dataframe thead th {\n",
              "        text-align: right;\n",
              "    }\n",
              "</style>\n",
              "<table border=\"1\" class=\"dataframe\">\n",
              "  <thead>\n",
              "    <tr style=\"text-align: right;\">\n",
              "      <th></th>\n",
              "      <th>id</th>\n",
              "      <th>link</th>\n",
              "      <th>name</th>\n",
              "    </tr>\n",
              "  </thead>\n",
              "  <tbody>\n",
              "    <tr>\n",
              "      <th>0</th>\n",
              "      <td>0</td>\n",
              "      <td>/wiki/Alfred_the_Great</td>\n",
              "      <td>Alfredthe Great</td>\n",
              "    </tr>\n",
              "    <tr>\n",
              "      <th>1</th>\n",
              "      <td>1</td>\n",
              "      <td>/wiki/Edward_the_Elder</td>\n",
              "      <td>Edwardthe Elder</td>\n",
              "    </tr>\n",
              "    <tr>\n",
              "      <th>2</th>\n",
              "      <td>2</td>\n",
              "      <td>/wiki/%C3%86thelstan</td>\n",
              "      <td>Æthelstan</td>\n",
              "    </tr>\n",
              "    <tr>\n",
              "      <th>3</th>\n",
              "      <td>3</td>\n",
              "      <td>/wiki/Edmund_I</td>\n",
              "      <td>Edmund I</td>\n",
              "    </tr>\n",
              "    <tr>\n",
              "      <th>4</th>\n",
              "      <td>4</td>\n",
              "      <td>/wiki/Eadred</td>\n",
              "      <td>Eadred</td>\n",
              "    </tr>\n",
              "    <tr>\n",
              "      <th>...</th>\n",
              "      <td>...</td>\n",
              "      <td>...</td>\n",
              "      <td>...</td>\n",
              "    </tr>\n",
              "    <tr>\n",
              "      <th>94</th>\n",
              "      <td>94</td>\n",
              "      <td>/wiki/George_V</td>\n",
              "      <td>George V</td>\n",
              "    </tr>\n",
              "    <tr>\n",
              "      <th>95</th>\n",
              "      <td>95</td>\n",
              "      <td>/wiki/Edward_VIII</td>\n",
              "      <td>Edward VIII</td>\n",
              "    </tr>\n",
              "    <tr>\n",
              "      <th>96</th>\n",
              "      <td>96</td>\n",
              "      <td>/wiki/Duke_of_Windsor</td>\n",
              "      <td>Duke of Windsor</td>\n",
              "    </tr>\n",
              "    <tr>\n",
              "      <th>97</th>\n",
              "      <td>97</td>\n",
              "      <td>/wiki/George_VI</td>\n",
              "      <td>George VI</td>\n",
              "    </tr>\n",
              "    <tr>\n",
              "      <th>98</th>\n",
              "      <td>98</td>\n",
              "      <td>/wiki/Elizabeth_II</td>\n",
              "      <td>Elizabeth II</td>\n",
              "    </tr>\n",
              "  </tbody>\n",
              "</table>\n",
              "<p>99 rows × 3 columns</p>\n",
              "</div>\n",
              "      <button class=\"colab-df-convert\" onclick=\"convertToInteractive('df-44244413-3fec-4971-8640-803c05ffb4c5')\"\n",
              "              title=\"Convert this dataframe to an interactive table.\"\n",
              "              style=\"display:none;\">\n",
              "        \n",
              "  <svg xmlns=\"http://www.w3.org/2000/svg\" height=\"24px\"viewBox=\"0 0 24 24\"\n",
              "       width=\"24px\">\n",
              "    <path d=\"M0 0h24v24H0V0z\" fill=\"none\"/>\n",
              "    <path d=\"M18.56 5.44l.94 2.06.94-2.06 2.06-.94-2.06-.94-.94-2.06-.94 2.06-2.06.94zm-11 1L8.5 8.5l.94-2.06 2.06-.94-2.06-.94L8.5 2.5l-.94 2.06-2.06.94zm10 10l.94 2.06.94-2.06 2.06-.94-2.06-.94-.94-2.06-.94 2.06-2.06.94z\"/><path d=\"M17.41 7.96l-1.37-1.37c-.4-.4-.92-.59-1.43-.59-.52 0-1.04.2-1.43.59L10.3 9.45l-7.72 7.72c-.78.78-.78 2.05 0 2.83L4 21.41c.39.39.9.59 1.41.59.51 0 1.02-.2 1.41-.59l7.78-7.78 2.81-2.81c.8-.78.8-2.07 0-2.86zM5.41 20L4 18.59l7.72-7.72 1.47 1.35L5.41 20z\"/>\n",
              "  </svg>\n",
              "      </button>\n",
              "      \n",
              "  <style>\n",
              "    .colab-df-container {\n",
              "      display:flex;\n",
              "      flex-wrap:wrap;\n",
              "      gap: 12px;\n",
              "    }\n",
              "\n",
              "    .colab-df-convert {\n",
              "      background-color: #E8F0FE;\n",
              "      border: none;\n",
              "      border-radius: 50%;\n",
              "      cursor: pointer;\n",
              "      display: none;\n",
              "      fill: #1967D2;\n",
              "      height: 32px;\n",
              "      padding: 0 0 0 0;\n",
              "      width: 32px;\n",
              "    }\n",
              "\n",
              "    .colab-df-convert:hover {\n",
              "      background-color: #E2EBFA;\n",
              "      box-shadow: 0px 1px 2px rgba(60, 64, 67, 0.3), 0px 1px 3px 1px rgba(60, 64, 67, 0.15);\n",
              "      fill: #174EA6;\n",
              "    }\n",
              "\n",
              "    [theme=dark] .colab-df-convert {\n",
              "      background-color: #3B4455;\n",
              "      fill: #D2E3FC;\n",
              "    }\n",
              "\n",
              "    [theme=dark] .colab-df-convert:hover {\n",
              "      background-color: #434B5C;\n",
              "      box-shadow: 0px 1px 3px 1px rgba(0, 0, 0, 0.15);\n",
              "      filter: drop-shadow(0px 1px 2px rgba(0, 0, 0, 0.3));\n",
              "      fill: #FFFFFF;\n",
              "    }\n",
              "  </style>\n",
              "\n",
              "      <script>\n",
              "        const buttonEl =\n",
              "          document.querySelector('#df-44244413-3fec-4971-8640-803c05ffb4c5 button.colab-df-convert');\n",
              "        buttonEl.style.display =\n",
              "          google.colab.kernel.accessAllowed ? 'block' : 'none';\n",
              "\n",
              "        async function convertToInteractive(key) {\n",
              "          const element = document.querySelector('#df-44244413-3fec-4971-8640-803c05ffb4c5');\n",
              "          const dataTable =\n",
              "            await google.colab.kernel.invokeFunction('convertToInteractive',\n",
              "                                                     [key], {});\n",
              "          if (!dataTable) return;\n",
              "\n",
              "          const docLinkHtml = 'Like what you see? Visit the ' +\n",
              "            '<a target=\"_blank\" href=https://colab.research.google.com/notebooks/data_table.ipynb>data table notebook</a>'\n",
              "            + ' to learn more about interactive tables.';\n",
              "          element.innerHTML = '';\n",
              "          dataTable['output_type'] = 'display_data';\n",
              "          await google.colab.output.renderOutput(dataTable, element);\n",
              "          const docLink = document.createElement('div');\n",
              "          docLink.innerHTML = docLinkHtml;\n",
              "          element.appendChild(docLink);\n",
              "        }\n",
              "      </script>\n",
              "    </div>\n",
              "  </div>\n",
              "  "
            ]
          },
          "metadata": {},
          "execution_count": 15
        }
      ]
    },
    {
      "cell_type": "code",
      "source": [
        "conn = sql.connect('data.db')\n",
        "dataset.to_sql('data', conn)"
      ],
      "metadata": {
        "id": "6HT5fOCzazQJ"
      },
      "execution_count": null,
      "outputs": []
    },
    {
      "cell_type": "code",
      "source": [
        "conn = sql.connect('data.db')\n",
        "data1 = pd.read_sql('SELECT * FROM data', conn)\n",
        "data1"
      ],
      "metadata": {
        "colab": {
          "base_uri": "https://localhost:8080/"
        },
        "id": "NwpoKY-ubQX9",
        "outputId": "90355110-f932-45d7-f577-3317aa389a30"
      },
      "execution_count": null,
      "outputs": [
        {
          "output_type": "execute_result",
          "data": {
            "text/plain": [
              "pandas.core.series.Series"
            ]
          },
          "metadata": {},
          "execution_count": 18
        }
      ]
    },
    {
      "cell_type": "code",
      "source": [
        "cur   = conn.cursor()\n",
        "addColumn = \"ALTER TABLE data ADD COLUMN father_id integer\"\n",
        "cur.execute(addColumn)\n",
        "addColumn = \"ALTER TABLE data ADD COLUMN mother_id integer\"\n",
        "cur.execute(addColumn)"
      ],
      "metadata": {
        "colab": {
          "base_uri": "https://localhost:8080/"
        },
        "id": "20JVKXtIbjh9",
        "outputId": "a12fc50a-1ddf-44dd-d56b-472cfab8fb37"
      },
      "execution_count": null,
      "outputs": [
        {
          "output_type": "execute_result",
          "data": {
            "text/plain": [
              "<sqlite3.Cursor at 0x7f5a9d604490>"
            ]
          },
          "metadata": {},
          "execution_count": 22
        }
      ]
    },
    {
      "cell_type": "code",
      "source": [
        "data2 = pd.read_sql('SELECT * FROM data', conn)\n",
        "data2"
      ],
      "metadata": {
        "colab": {
          "base_uri": "https://localhost:8080/",
          "height": 423
        },
        "id": "ydzQPowReUus",
        "outputId": "ba4359f1-dcd2-45cd-b22d-6ccc3f6ab3aa"
      },
      "execution_count": null,
      "outputs": [
        {
          "output_type": "execute_result",
          "data": {
            "text/plain": [
              "    index  id                    link             name father_id mother_id\n",
              "0       0   0  /wiki/Alfred_the_Great  Alfredthe Great      None      None\n",
              "1       1   1  /wiki/Edward_the_Elder  Edwardthe Elder      None      None\n",
              "2       2   2    /wiki/%C3%86thelstan        Æthelstan      None      None\n",
              "3       3   3          /wiki/Edmund_I         Edmund I      None      None\n",
              "4       4   4            /wiki/Eadred           Eadred      None      None\n",
              "..    ...  ..                     ...              ...       ...       ...\n",
              "94     94  94          /wiki/George_V         George V      None      None\n",
              "95     95  95       /wiki/Edward_VIII      Edward VIII      None      None\n",
              "96     96  96   /wiki/Duke_of_Windsor  Duke of Windsor      None      None\n",
              "97     97  97         /wiki/George_VI        George VI      None      None\n",
              "98     98  98      /wiki/Elizabeth_II     Elizabeth II      None      None\n",
              "\n",
              "[99 rows x 6 columns]"
            ],
            "text/html": [
              "\n",
              "  <div id=\"df-f89c1099-97b2-430b-acfd-e7e96b1a790a\">\n",
              "    <div class=\"colab-df-container\">\n",
              "      <div>\n",
              "<style scoped>\n",
              "    .dataframe tbody tr th:only-of-type {\n",
              "        vertical-align: middle;\n",
              "    }\n",
              "\n",
              "    .dataframe tbody tr th {\n",
              "        vertical-align: top;\n",
              "    }\n",
              "\n",
              "    .dataframe thead th {\n",
              "        text-align: right;\n",
              "    }\n",
              "</style>\n",
              "<table border=\"1\" class=\"dataframe\">\n",
              "  <thead>\n",
              "    <tr style=\"text-align: right;\">\n",
              "      <th></th>\n",
              "      <th>index</th>\n",
              "      <th>id</th>\n",
              "      <th>link</th>\n",
              "      <th>name</th>\n",
              "      <th>father_id</th>\n",
              "      <th>mother_id</th>\n",
              "    </tr>\n",
              "  </thead>\n",
              "  <tbody>\n",
              "    <tr>\n",
              "      <th>0</th>\n",
              "      <td>0</td>\n",
              "      <td>0</td>\n",
              "      <td>/wiki/Alfred_the_Great</td>\n",
              "      <td>Alfredthe Great</td>\n",
              "      <td>None</td>\n",
              "      <td>None</td>\n",
              "    </tr>\n",
              "    <tr>\n",
              "      <th>1</th>\n",
              "      <td>1</td>\n",
              "      <td>1</td>\n",
              "      <td>/wiki/Edward_the_Elder</td>\n",
              "      <td>Edwardthe Elder</td>\n",
              "      <td>None</td>\n",
              "      <td>None</td>\n",
              "    </tr>\n",
              "    <tr>\n",
              "      <th>2</th>\n",
              "      <td>2</td>\n",
              "      <td>2</td>\n",
              "      <td>/wiki/%C3%86thelstan</td>\n",
              "      <td>Æthelstan</td>\n",
              "      <td>None</td>\n",
              "      <td>None</td>\n",
              "    </tr>\n",
              "    <tr>\n",
              "      <th>3</th>\n",
              "      <td>3</td>\n",
              "      <td>3</td>\n",
              "      <td>/wiki/Edmund_I</td>\n",
              "      <td>Edmund I</td>\n",
              "      <td>None</td>\n",
              "      <td>None</td>\n",
              "    </tr>\n",
              "    <tr>\n",
              "      <th>4</th>\n",
              "      <td>4</td>\n",
              "      <td>4</td>\n",
              "      <td>/wiki/Eadred</td>\n",
              "      <td>Eadred</td>\n",
              "      <td>None</td>\n",
              "      <td>None</td>\n",
              "    </tr>\n",
              "    <tr>\n",
              "      <th>...</th>\n",
              "      <td>...</td>\n",
              "      <td>...</td>\n",
              "      <td>...</td>\n",
              "      <td>...</td>\n",
              "      <td>...</td>\n",
              "      <td>...</td>\n",
              "    </tr>\n",
              "    <tr>\n",
              "      <th>94</th>\n",
              "      <td>94</td>\n",
              "      <td>94</td>\n",
              "      <td>/wiki/George_V</td>\n",
              "      <td>George V</td>\n",
              "      <td>None</td>\n",
              "      <td>None</td>\n",
              "    </tr>\n",
              "    <tr>\n",
              "      <th>95</th>\n",
              "      <td>95</td>\n",
              "      <td>95</td>\n",
              "      <td>/wiki/Edward_VIII</td>\n",
              "      <td>Edward VIII</td>\n",
              "      <td>None</td>\n",
              "      <td>None</td>\n",
              "    </tr>\n",
              "    <tr>\n",
              "      <th>96</th>\n",
              "      <td>96</td>\n",
              "      <td>96</td>\n",
              "      <td>/wiki/Duke_of_Windsor</td>\n",
              "      <td>Duke of Windsor</td>\n",
              "      <td>None</td>\n",
              "      <td>None</td>\n",
              "    </tr>\n",
              "    <tr>\n",
              "      <th>97</th>\n",
              "      <td>97</td>\n",
              "      <td>97</td>\n",
              "      <td>/wiki/George_VI</td>\n",
              "      <td>George VI</td>\n",
              "      <td>None</td>\n",
              "      <td>None</td>\n",
              "    </tr>\n",
              "    <tr>\n",
              "      <th>98</th>\n",
              "      <td>98</td>\n",
              "      <td>98</td>\n",
              "      <td>/wiki/Elizabeth_II</td>\n",
              "      <td>Elizabeth II</td>\n",
              "      <td>None</td>\n",
              "      <td>None</td>\n",
              "    </tr>\n",
              "  </tbody>\n",
              "</table>\n",
              "<p>99 rows × 6 columns</p>\n",
              "</div>\n",
              "      <button class=\"colab-df-convert\" onclick=\"convertToInteractive('df-f89c1099-97b2-430b-acfd-e7e96b1a790a')\"\n",
              "              title=\"Convert this dataframe to an interactive table.\"\n",
              "              style=\"display:none;\">\n",
              "        \n",
              "  <svg xmlns=\"http://www.w3.org/2000/svg\" height=\"24px\"viewBox=\"0 0 24 24\"\n",
              "       width=\"24px\">\n",
              "    <path d=\"M0 0h24v24H0V0z\" fill=\"none\"/>\n",
              "    <path d=\"M18.56 5.44l.94 2.06.94-2.06 2.06-.94-2.06-.94-.94-2.06-.94 2.06-2.06.94zm-11 1L8.5 8.5l.94-2.06 2.06-.94-2.06-.94L8.5 2.5l-.94 2.06-2.06.94zm10 10l.94 2.06.94-2.06 2.06-.94-2.06-.94-.94-2.06-.94 2.06-2.06.94z\"/><path d=\"M17.41 7.96l-1.37-1.37c-.4-.4-.92-.59-1.43-.59-.52 0-1.04.2-1.43.59L10.3 9.45l-7.72 7.72c-.78.78-.78 2.05 0 2.83L4 21.41c.39.39.9.59 1.41.59.51 0 1.02-.2 1.41-.59l7.78-7.78 2.81-2.81c.8-.78.8-2.07 0-2.86zM5.41 20L4 18.59l7.72-7.72 1.47 1.35L5.41 20z\"/>\n",
              "  </svg>\n",
              "      </button>\n",
              "      \n",
              "  <style>\n",
              "    .colab-df-container {\n",
              "      display:flex;\n",
              "      flex-wrap:wrap;\n",
              "      gap: 12px;\n",
              "    }\n",
              "\n",
              "    .colab-df-convert {\n",
              "      background-color: #E8F0FE;\n",
              "      border: none;\n",
              "      border-radius: 50%;\n",
              "      cursor: pointer;\n",
              "      display: none;\n",
              "      fill: #1967D2;\n",
              "      height: 32px;\n",
              "      padding: 0 0 0 0;\n",
              "      width: 32px;\n",
              "    }\n",
              "\n",
              "    .colab-df-convert:hover {\n",
              "      background-color: #E2EBFA;\n",
              "      box-shadow: 0px 1px 2px rgba(60, 64, 67, 0.3), 0px 1px 3px 1px rgba(60, 64, 67, 0.15);\n",
              "      fill: #174EA6;\n",
              "    }\n",
              "\n",
              "    [theme=dark] .colab-df-convert {\n",
              "      background-color: #3B4455;\n",
              "      fill: #D2E3FC;\n",
              "    }\n",
              "\n",
              "    [theme=dark] .colab-df-convert:hover {\n",
              "      background-color: #434B5C;\n",
              "      box-shadow: 0px 1px 3px 1px rgba(0, 0, 0, 0.15);\n",
              "      filter: drop-shadow(0px 1px 2px rgba(0, 0, 0, 0.3));\n",
              "      fill: #FFFFFF;\n",
              "    }\n",
              "  </style>\n",
              "\n",
              "      <script>\n",
              "        const buttonEl =\n",
              "          document.querySelector('#df-f89c1099-97b2-430b-acfd-e7e96b1a790a button.colab-df-convert');\n",
              "        buttonEl.style.display =\n",
              "          google.colab.kernel.accessAllowed ? 'block' : 'none';\n",
              "\n",
              "        async function convertToInteractive(key) {\n",
              "          const element = document.querySelector('#df-f89c1099-97b2-430b-acfd-e7e96b1a790a');\n",
              "          const dataTable =\n",
              "            await google.colab.kernel.invokeFunction('convertToInteractive',\n",
              "                                                     [key], {});\n",
              "          if (!dataTable) return;\n",
              "\n",
              "          const docLinkHtml = 'Like what you see? Visit the ' +\n",
              "            '<a target=\"_blank\" href=https://colab.research.google.com/notebooks/data_table.ipynb>data table notebook</a>'\n",
              "            + ' to learn more about interactive tables.';\n",
              "          element.innerHTML = '';\n",
              "          dataTable['output_type'] = 'display_data';\n",
              "          await google.colab.output.renderOutput(dataTable, element);\n",
              "          const docLink = document.createElement('div');\n",
              "          docLink.innerHTML = docLinkHtml;\n",
              "          element.appendChild(docLink);\n",
              "        }\n",
              "      </script>\n",
              "    </div>\n",
              "  </div>\n",
              "  "
            ]
          },
          "metadata": {},
          "execution_count": 23
        }
      ]
    },
    {
      "cell_type": "code",
      "source": [
        "for  i in data2['link']:\n",
        "  URL=\"https://en.wikipedia.org\"+i \n",
        "  page = requests.get(URL)\n",
        "  soup = BeautifulSoup(page.content, \"html.parser\")\n",
        "  title_wikipedia = soup.find('table')\n",
        "  a=[]\n",
        "  b=\"Father\"\n",
        "  c=\"Mother\"\n",
        "  for i in a:\n",
        "    if  b in i:\n",
        "      print(i)\n",
        "  for data in title_wikipedia.find_all('tr'):\n",
        "      if b in data.get_text():\n",
        "        a=data.get_text()\n",
        "        x = a.replace(b, \"\", 2)\n",
        "        for  i,d1 in enumerate(data2['name']):\n",
        "          if d1==x:\n",
        "            data2.iloc[i]['father_id']=i\n",
        "        print(x)\n",
        "      if c in data.get_text():\n",
        "        a=data.get_text()\n",
        "        x = a.replace(c, \"\", 2)\n",
        "        for  i,d1 in enumerate(data2['name']):\n",
        "          if d1==x:\n",
        "            data2.iloc[i]['mother_id']=i"
      ],
      "metadata": {
        "colab": {
          "base_uri": "https://localhost:8080/"
        },
        "id": "xNz2XbFpfRBQ",
        "outputId": "c8863ec7-f2d1-40b3-f1cf-a6afdcc4eb64"
      },
      "execution_count": null,
      "outputs": [
        {
          "output_type": "stream",
          "name": "stdout",
          "text": [
            "Æthelwulf, King of Wessex\n",
            "Alfred the Great\n",
            "Edward the Elder\n",
            "Edward the Elder\n",
            "Edward the Elder\n",
            "Edmund I, King of the English[1]\n",
            "Knut Danaást or Harald Bluetooth[2]\n",
            "William Longsword\n",
            "Wulfnoth Cild\n",
            "Edgar the Peaceful, King of the English\n",
            "Edgar the Peaceful, King of the English\n",
            "Richard the Fearless\n",
            "Sweyn Forkbeard\n",
            "Richard I, Duke of Normandy\n",
            "Godwin, Earl of Wessex\n",
            "Æthelred the Unready\n",
            "Godwin, Earl of Wessex\n",
            "Æthelred the Unready\n",
            "Cnut the Great\n",
            "Cnut the Great\n",
            "Edmund Ironside\n",
            "Richard II, Duke of Normandy\n",
            "Edward the Exile\n",
            "Robert the Magnificent\n",
            "Malcolm III of Scotland\n",
            "William the Conqueror\n",
            "William the Conqueror\n",
            "William the Conqueror\n",
            "Henry I, King of England\n",
            "Stephen, Count of Blois\n",
            "Geoffrey V, Count of Anjou\n",
            "Henry II of England\n",
            "Henry II, King of England\n",
            "John, King of England\n",
            "Henry III of England\n",
            "Edward I, King of England\n",
            "Edward II of England\n",
            "Edward III, King of England\n",
            "Edward III, King of England\n",
            "Edward III, King of England\n",
            "Edward the Black Prince\n",
            "John of Gaunt\n",
            "John of Gaunt\n",
            "Lionel of Antwerp, Duke of Clarence\n",
            "Edward III, King of England\n",
            "Edmund Mortimer, 3rd Earl of March\n",
            "Henry IV of England\n",
            "John Beaufort, 1st Earl of Somerset\n",
            "Roger Mortimer, 4th Earl of March\n",
            "Edmund, 1st Duke of York\n",
            "Richard, Earl of Cambridge\n"
          ]
        },
        {
          "output_type": "stream",
          "name": "stderr",
          "text": [
            "/usr/local/lib/python3.7/dist-packages/pandas/core/series.py:1056: SettingWithCopyWarning: \n",
            "A value is trying to be set on a copy of a slice from a DataFrame\n",
            "\n",
            "See the caveats in the documentation: https://pandas.pydata.org/pandas-docs/stable/user_guide/indexing.html#returning-a-view-versus-a-copy\n",
            "  cacher_needs_updating = self._check_is_chained_assignment_possible()\n"
          ]
        },
        {
          "output_type": "stream",
          "name": "stdout",
          "text": [
            "John Beaufort, Duke of Somerset\n",
            "Richard, Duke of York\n",
            "Richard, 3rd Duke of York\n",
            "Edmund Tudor, 1st Earl of Richmond\n",
            "Edward IV of England\n",
            "Edward IV of England\n",
            "Henry VII of England\n",
            "Henry VII of England\n",
            "James IV of Scotland\n",
            "Henry VIII of England\n",
            "Henry VIII of England\n",
            "Charles V, Holy Roman Emperor\n",
            "Henry VIII of England\n",
            "James V of Scotland\n",
            "Henry Grey, 1st Duke of Suffolk\n",
            "Henry Stuart, Lord Darnley\n",
            "James VI and I\n",
            "James VI and I\n",
            "Frederick V, Elector Palatine\n",
            "Charles I of England\n",
            "Charles I of England\n",
            "Charles I of England\n",
            "Ernest Augustus, Elector of Hanover\n",
            "William II, Prince of Orange\n",
            "James II & VII\n",
            "James II & VII\n",
            "George I of Great Britain\n",
            "George II of Great Britain\n",
            "Frederick, Prince of Wales\n",
            "George III of the United Kingdom\n",
            "George III of the United Kingdom\n",
            "George III of the United Kingdom\n",
            "Prince Edward, Duke of Kent and Strathearn\n",
            "Prince Albert of Saxe-Coburg and Gotha\n",
            "Edward VII\n",
            "George V\n",
            "George V\n",
            "George VI\n"
          ]
        }
      ]
    },
    {
      "cell_type": "code",
      "source": [
        "data2"
      ],
      "metadata": {
        "colab": {
          "base_uri": "https://localhost:8080/",
          "height": 423
        },
        "id": "D5JmCPiRlmw7",
        "outputId": "6fcdb69e-05dd-4f62-d745-401738a8571d"
      },
      "execution_count": null,
      "outputs": [
        {
          "output_type": "execute_result",
          "data": {
            "text/plain": [
              "    index  id                    link             name father_id mother_id\n",
              "0       0   0  /wiki/Alfred_the_Great  Alfredthe Great      None      None\n",
              "1       1   1  /wiki/Edward_the_Elder  Edwardthe Elder      None      None\n",
              "2       2   2    /wiki/%C3%86thelstan        Æthelstan      None      None\n",
              "3       3   3          /wiki/Edmund_I         Edmund I      None      None\n",
              "4       4   4            /wiki/Eadred           Eadred      None      None\n",
              "..    ...  ..                     ...              ...       ...       ...\n",
              "94     94  94          /wiki/George_V         George V      None      None\n",
              "95     95  95       /wiki/Edward_VIII      Edward VIII      None      None\n",
              "96     96  96   /wiki/Duke_of_Windsor  Duke of Windsor      None      None\n",
              "97     97  97         /wiki/George_VI        George VI      None      None\n",
              "98     98  98      /wiki/Elizabeth_II     Elizabeth II      None      None\n",
              "\n",
              "[99 rows x 6 columns]"
            ],
            "text/html": [
              "\n",
              "  <div id=\"df-9c242c78-c122-4851-959d-82ca7c2a7f3f\">\n",
              "    <div class=\"colab-df-container\">\n",
              "      <div>\n",
              "<style scoped>\n",
              "    .dataframe tbody tr th:only-of-type {\n",
              "        vertical-align: middle;\n",
              "    }\n",
              "\n",
              "    .dataframe tbody tr th {\n",
              "        vertical-align: top;\n",
              "    }\n",
              "\n",
              "    .dataframe thead th {\n",
              "        text-align: right;\n",
              "    }\n",
              "</style>\n",
              "<table border=\"1\" class=\"dataframe\">\n",
              "  <thead>\n",
              "    <tr style=\"text-align: right;\">\n",
              "      <th></th>\n",
              "      <th>index</th>\n",
              "      <th>id</th>\n",
              "      <th>link</th>\n",
              "      <th>name</th>\n",
              "      <th>father_id</th>\n",
              "      <th>mother_id</th>\n",
              "    </tr>\n",
              "  </thead>\n",
              "  <tbody>\n",
              "    <tr>\n",
              "      <th>0</th>\n",
              "      <td>0</td>\n",
              "      <td>0</td>\n",
              "      <td>/wiki/Alfred_the_Great</td>\n",
              "      <td>Alfredthe Great</td>\n",
              "      <td>None</td>\n",
              "      <td>None</td>\n",
              "    </tr>\n",
              "    <tr>\n",
              "      <th>1</th>\n",
              "      <td>1</td>\n",
              "      <td>1</td>\n",
              "      <td>/wiki/Edward_the_Elder</td>\n",
              "      <td>Edwardthe Elder</td>\n",
              "      <td>None</td>\n",
              "      <td>None</td>\n",
              "    </tr>\n",
              "    <tr>\n",
              "      <th>2</th>\n",
              "      <td>2</td>\n",
              "      <td>2</td>\n",
              "      <td>/wiki/%C3%86thelstan</td>\n",
              "      <td>Æthelstan</td>\n",
              "      <td>None</td>\n",
              "      <td>None</td>\n",
              "    </tr>\n",
              "    <tr>\n",
              "      <th>3</th>\n",
              "      <td>3</td>\n",
              "      <td>3</td>\n",
              "      <td>/wiki/Edmund_I</td>\n",
              "      <td>Edmund I</td>\n",
              "      <td>None</td>\n",
              "      <td>None</td>\n",
              "    </tr>\n",
              "    <tr>\n",
              "      <th>4</th>\n",
              "      <td>4</td>\n",
              "      <td>4</td>\n",
              "      <td>/wiki/Eadred</td>\n",
              "      <td>Eadred</td>\n",
              "      <td>None</td>\n",
              "      <td>None</td>\n",
              "    </tr>\n",
              "    <tr>\n",
              "      <th>...</th>\n",
              "      <td>...</td>\n",
              "      <td>...</td>\n",
              "      <td>...</td>\n",
              "      <td>...</td>\n",
              "      <td>...</td>\n",
              "      <td>...</td>\n",
              "    </tr>\n",
              "    <tr>\n",
              "      <th>94</th>\n",
              "      <td>94</td>\n",
              "      <td>94</td>\n",
              "      <td>/wiki/George_V</td>\n",
              "      <td>George V</td>\n",
              "      <td>None</td>\n",
              "      <td>None</td>\n",
              "    </tr>\n",
              "    <tr>\n",
              "      <th>95</th>\n",
              "      <td>95</td>\n",
              "      <td>95</td>\n",
              "      <td>/wiki/Edward_VIII</td>\n",
              "      <td>Edward VIII</td>\n",
              "      <td>None</td>\n",
              "      <td>None</td>\n",
              "    </tr>\n",
              "    <tr>\n",
              "      <th>96</th>\n",
              "      <td>96</td>\n",
              "      <td>96</td>\n",
              "      <td>/wiki/Duke_of_Windsor</td>\n",
              "      <td>Duke of Windsor</td>\n",
              "      <td>None</td>\n",
              "      <td>None</td>\n",
              "    </tr>\n",
              "    <tr>\n",
              "      <th>97</th>\n",
              "      <td>97</td>\n",
              "      <td>97</td>\n",
              "      <td>/wiki/George_VI</td>\n",
              "      <td>George VI</td>\n",
              "      <td>None</td>\n",
              "      <td>None</td>\n",
              "    </tr>\n",
              "    <tr>\n",
              "      <th>98</th>\n",
              "      <td>98</td>\n",
              "      <td>98</td>\n",
              "      <td>/wiki/Elizabeth_II</td>\n",
              "      <td>Elizabeth II</td>\n",
              "      <td>None</td>\n",
              "      <td>None</td>\n",
              "    </tr>\n",
              "  </tbody>\n",
              "</table>\n",
              "<p>99 rows × 6 columns</p>\n",
              "</div>\n",
              "      <button class=\"colab-df-convert\" onclick=\"convertToInteractive('df-9c242c78-c122-4851-959d-82ca7c2a7f3f')\"\n",
              "              title=\"Convert this dataframe to an interactive table.\"\n",
              "              style=\"display:none;\">\n",
              "        \n",
              "  <svg xmlns=\"http://www.w3.org/2000/svg\" height=\"24px\"viewBox=\"0 0 24 24\"\n",
              "       width=\"24px\">\n",
              "    <path d=\"M0 0h24v24H0V0z\" fill=\"none\"/>\n",
              "    <path d=\"M18.56 5.44l.94 2.06.94-2.06 2.06-.94-2.06-.94-.94-2.06-.94 2.06-2.06.94zm-11 1L8.5 8.5l.94-2.06 2.06-.94-2.06-.94L8.5 2.5l-.94 2.06-2.06.94zm10 10l.94 2.06.94-2.06 2.06-.94-2.06-.94-.94-2.06-.94 2.06-2.06.94z\"/><path d=\"M17.41 7.96l-1.37-1.37c-.4-.4-.92-.59-1.43-.59-.52 0-1.04.2-1.43.59L10.3 9.45l-7.72 7.72c-.78.78-.78 2.05 0 2.83L4 21.41c.39.39.9.59 1.41.59.51 0 1.02-.2 1.41-.59l7.78-7.78 2.81-2.81c.8-.78.8-2.07 0-2.86zM5.41 20L4 18.59l7.72-7.72 1.47 1.35L5.41 20z\"/>\n",
              "  </svg>\n",
              "      </button>\n",
              "      \n",
              "  <style>\n",
              "    .colab-df-container {\n",
              "      display:flex;\n",
              "      flex-wrap:wrap;\n",
              "      gap: 12px;\n",
              "    }\n",
              "\n",
              "    .colab-df-convert {\n",
              "      background-color: #E8F0FE;\n",
              "      border: none;\n",
              "      border-radius: 50%;\n",
              "      cursor: pointer;\n",
              "      display: none;\n",
              "      fill: #1967D2;\n",
              "      height: 32px;\n",
              "      padding: 0 0 0 0;\n",
              "      width: 32px;\n",
              "    }\n",
              "\n",
              "    .colab-df-convert:hover {\n",
              "      background-color: #E2EBFA;\n",
              "      box-shadow: 0px 1px 2px rgba(60, 64, 67, 0.3), 0px 1px 3px 1px rgba(60, 64, 67, 0.15);\n",
              "      fill: #174EA6;\n",
              "    }\n",
              "\n",
              "    [theme=dark] .colab-df-convert {\n",
              "      background-color: #3B4455;\n",
              "      fill: #D2E3FC;\n",
              "    }\n",
              "\n",
              "    [theme=dark] .colab-df-convert:hover {\n",
              "      background-color: #434B5C;\n",
              "      box-shadow: 0px 1px 3px 1px rgba(0, 0, 0, 0.15);\n",
              "      filter: drop-shadow(0px 1px 2px rgba(0, 0, 0, 0.3));\n",
              "      fill: #FFFFFF;\n",
              "    }\n",
              "  </style>\n",
              "\n",
              "      <script>\n",
              "        const buttonEl =\n",
              "          document.querySelector('#df-9c242c78-c122-4851-959d-82ca7c2a7f3f button.colab-df-convert');\n",
              "        buttonEl.style.display =\n",
              "          google.colab.kernel.accessAllowed ? 'block' : 'none';\n",
              "\n",
              "        async function convertToInteractive(key) {\n",
              "          const element = document.querySelector('#df-9c242c78-c122-4851-959d-82ca7c2a7f3f');\n",
              "          const dataTable =\n",
              "            await google.colab.kernel.invokeFunction('convertToInteractive',\n",
              "                                                     [key], {});\n",
              "          if (!dataTable) return;\n",
              "\n",
              "          const docLinkHtml = 'Like what you see? Visit the ' +\n",
              "            '<a target=\"_blank\" href=https://colab.research.google.com/notebooks/data_table.ipynb>data table notebook</a>'\n",
              "            + ' to learn more about interactive tables.';\n",
              "          element.innerHTML = '';\n",
              "          dataTable['output_type'] = 'display_data';\n",
              "          await google.colab.output.renderOutput(dataTable, element);\n",
              "          const docLink = document.createElement('div');\n",
              "          docLink.innerHTML = docLinkHtml;\n",
              "          element.appendChild(docLink);\n",
              "        }\n",
              "      </script>\n",
              "    </div>\n",
              "  </div>\n",
              "  "
            ]
          },
          "metadata": {},
          "execution_count": 54
        }
      ]
    },
    {
      "cell_type": "code",
      "source": [
        "x=\"Æthelwulf, King of Wessex\"\n",
        "for  i,d1 in enumerate(data2['name']):\n",
        "          if d1 in x:\n",
        "            print(i,d1)\n",
        "            data2.iloc[i]['father_id']=i"
      ],
      "metadata": {
        "colab": {
          "base_uri": "https://localhost:8080/"
        },
        "id": "vlkGNXLplLKx",
        "outputId": "d05bd321-31ca-4a14-d7dd-2c57bffaa8e4"
      },
      "execution_count": null,
      "outputs": [
        {
          "output_type": "stream",
          "name": "stdout",
          "text": [
            "64 \n",
            "68 \n",
            "72 \n"
          ]
        },
        {
          "output_type": "stream",
          "name": "stderr",
          "text": [
            "/usr/local/lib/python3.7/dist-packages/pandas/core/series.py:1056: SettingWithCopyWarning: \n",
            "A value is trying to be set on a copy of a slice from a DataFrame\n",
            "\n",
            "See the caveats in the documentation: https://pandas.pydata.org/pandas-docs/stable/user_guide/indexing.html#returning-a-view-versus-a-copy\n",
            "  cacher_needs_updating = self._check_is_chained_assignment_possible()\n"
          ]
        }
      ]
    },
    {
      "cell_type": "code",
      "source": [
        "URL=\"https://en.wikipedia.org/wiki/George_III\" \n",
        "page = requests.get(URL)"
      ],
      "metadata": {
        "id": "EdjFMl7DQbGL"
      },
      "execution_count": null,
      "outputs": []
    },
    {
      "cell_type": "code",
      "source": [
        "soup = BeautifulSoup(page.content, \"html.parser\")\n",
        "title_wikipedia = soup.find('table')\n",
        "print(title_wikipedia)"
      ],
      "metadata": {
        "colab": {
          "base_uri": "https://localhost:8080/"
        },
        "id": "67n7wMR5iUwz",
        "outputId": "7c1b3195-be47-40cd-f284-01daad821ca2"
      },
      "execution_count": null,
      "outputs": [
        {
          "output_type": "stream",
          "name": "stdout",
          "text": [
            "<table class=\"infobox vcard\"><tbody><tr><th class=\"infobox-above fn\" colspan=\"2\" style=\"background-color: #cbe; font-size: 125%\">George III</th></tr><tr><td class=\"infobox-image photo\" colspan=\"2\"><a class=\"image\" href=\"/wiki/File:Allan_Ramsay_-_King_George_III_in_coronation_robes_-_Google_Art_Project.jpg\"><img alt=\"Full-length portrait in oils of a clean-shaven young George in eighteenth century dress: gold jacket and breeches, ermine cloak, powdered wig, white stockings, and buckled shoes.\" data-file-height=\"3801\" data-file-width=\"2433\" decoding=\"async\" height=\"344\" src=\"//upload.wikimedia.org/wikipedia/commons/thumb/8/8f/Allan_Ramsay_-_King_George_III_in_coronation_robes_-_Google_Art_Project.jpg/220px-Allan_Ramsay_-_King_George_III_in_coronation_robes_-_Google_Art_Project.jpg\" srcset=\"//upload.wikimedia.org/wikipedia/commons/thumb/8/8f/Allan_Ramsay_-_King_George_III_in_coronation_robes_-_Google_Art_Project.jpg/330px-Allan_Ramsay_-_King_George_III_in_coronation_robes_-_Google_Art_Project.jpg 1.5x, //upload.wikimedia.org/wikipedia/commons/thumb/8/8f/Allan_Ramsay_-_King_George_III_in_coronation_robes_-_Google_Art_Project.jpg/440px-Allan_Ramsay_-_King_George_III_in_coronation_robes_-_Google_Art_Project.jpg 2x\" width=\"220\"/></a><div class=\"infobox-caption\" style=\"line-height:normal;padding-bottom:0.2em;padding-top:0.2em;\">Coronation portrait by <a href=\"/wiki/Allan_Ramsay_(artist)\" title=\"Allan Ramsay (artist)\">Allan Ramsay</a>, 1762</div></td></tr><tr><th class=\"infobox-header\" colspan=\"2\" style=\"background-color: #e4dcf6;line-height:normal;padding:0.2em 0.2em\"><span class=\"nowrap\"><a class=\"mw-redirect\" href=\"/wiki/King_of_Great_Britain\" title=\"King of Great Britain\">King of Great Britain</a> and <a class=\"mw-redirect\" href=\"/wiki/List_of_Irish_monarchs\" title=\"List of Irish monarchs\">Ireland</a>,<sup class=\"reference\" id=\"cite_ref-note_1_1-0\"><a href=\"#cite_note-note_1-1\">[a]</a></sup><br/><a class=\"mw-redirect\" href=\"/wiki/Elector_of_Hanover\" title=\"Elector of Hanover\">Elector</a>/<a href=\"/wiki/King_of_Hanover\" title=\"King of Hanover\">King of Hanover</a><sup class=\"reference\" id=\"cite_ref-note_2_2-0\"><a href=\"#cite_note-note_2-2\">[b]</a></sup></span> <div style=\"display:inline;font-weight:normal\">(<a href=\"/wiki/Style_of_the_British_sovereign#Styles_of_British_sovereigns\" title=\"Style of the British sovereign\">more...</a>) </div></th></tr><tr><th class=\"infobox-label\" scope=\"row\">Reign</th><td class=\"infobox-data\">25 October 1760 – 29 January 1820</td></tr><tr><th class=\"infobox-label\" scope=\"row\"><a href=\"/wiki/Coronation_of_George_III_and_Charlotte\" title=\"Coronation of George III and Charlotte\">Coronation</a></th><td class=\"infobox-data\">22 September 1761</td></tr><tr><th class=\"infobox-label\" scope=\"row\">Predecessor</th><td class=\"infobox-data\"><a href=\"/wiki/George_II_of_Great_Britain\" title=\"George II of Great Britain\">George II</a></td></tr><tr><th class=\"infobox-label\" scope=\"row\">Successor</th><td class=\"infobox-data\"><a href=\"/wiki/George_IV\" title=\"George IV\">George IV</a></td></tr><tr><th class=\"infobox-label\" scope=\"row\"><a class=\"mw-redirect\" href=\"/wiki/Prince_Regent_of_the_United_Kingdom\" title=\"Prince Regent of the United Kingdom\">Regent</a></th><td class=\"infobox-data\">George (1811–1820)</td></tr><tr><th class=\"infobox-header\" colspan=\"2\" style=\"background-color: #e4dcf6;line-height:normal;padding:0.2em 0.2em\"><div style=\"height: 4px; width:100%;\"></div></th></tr><tr><th class=\"infobox-label\" scope=\"row\">Born</th><td class=\"infobox-data\">Prince George<br/>4 June 1738 [<a href=\"/wiki/Old_Style_and_New_Style_dates\" title=\"Old Style and New Style dates\">NS</a>]<sup class=\"reference\" id=\"cite_ref-date_3-0\"><a href=\"#cite_note-date-3\">[c]</a></sup><br/><a href=\"/wiki/Norfolk_House\" title=\"Norfolk House\">Norfolk House</a>, <a href=\"/wiki/St_James%27s_Square\" title=\"St James's Square\">St James's Square</a>, <a href=\"/wiki/London\" title=\"London\">London</a>, England</td></tr><tr><th class=\"infobox-label\" scope=\"row\">Died</th><td class=\"infobox-data\">29 January 1820<span style=\"display:none\">(1820-01-29)</span> (aged 81)<br/><a href=\"/wiki/Windsor_Castle\" title=\"Windsor Castle\">Windsor Castle</a>, <a href=\"/wiki/Berkshire\" title=\"Berkshire\">Berkshire</a>, England</td></tr><tr><th class=\"infobox-label\" scope=\"row\">Burial</th><td class=\"infobox-data\">16 February 1820<br/><div class=\"label\" style=\"display:inline\"><a href=\"/wiki/St_George%27s_Chapel,_Windsor_Castle\" title=\"St George's Chapel, Windsor Castle\">St George's Chapel, Windsor Castle</a></div></td></tr><tr><th class=\"infobox-label\" scope=\"row\">Spouse</th><td class=\"infobox-data\"><div style=\"display:inline;white-space:nowrap;\"><div style=\"display:inline-block;line-height:normal;margin-top:1px;white-space:normal;\"><a href=\"/wiki/Charlotte_of_Mecklenburg-Strelitz\" title=\"Charlotte of Mecklenburg-Strelitz\">Charlotte of Mecklenburg-Strelitz</a></div>\n",
            "<div style=\"line-height:0;margin-bottom:-2px;\">​</div> <div style=\"display:inline-block;margin-bottom:1px;\">​</div>(<abbr title=\"married\">m.</abbr> 1761; died 1818)<wbr/>​</div></td></tr><tr><th class=\"infobox-label\" scope=\"row\">Issue</th><td class=\"infobox-data\"><div class=\"plainlist\"><ul><li><a class=\"mw-redirect\" href=\"/wiki/George_IV,_King_of_the_United_Kingdom\" title=\"George IV, King of the United Kingdom\">George IV, King of the United Kingdom</a></li><li><a href=\"/wiki/Prince_Frederick,_Duke_of_York_and_Albany\" title=\"Prince Frederick, Duke of York and Albany\">Prince Frederick, Duke of York and Albany</a></li><li><a class=\"mw-redirect\" href=\"/wiki/William_IV,_King_of_the_United_Kingdom\" title=\"William IV, King of the United Kingdom\">William IV, King of the United Kingdom</a></li><li><a class=\"mw-redirect\" href=\"/wiki/Charlotte,_Queen_of_W%C3%BCrttemberg\" title=\"Charlotte, Queen of Württemberg\">Charlotte, Queen of Württemberg</a></li><li><a href=\"/wiki/Prince_Edward,_Duke_of_Kent_and_Strathearn\" title=\"Prince Edward, Duke of Kent and Strathearn\">Prince Edward, Duke of Kent and Strathearn</a></li><li><a href=\"/wiki/Princess_Augusta_Sophia_of_the_United_Kingdom\" title=\"Princess Augusta Sophia of the United Kingdom\">Princess Augusta Sophia</a></li><li><a href=\"/wiki/Princess_Elizabeth_of_the_United_Kingdom\" title=\"Princess Elizabeth of the United Kingdom\">Elizabeth, Landgravine of Hesse-Homburg</a></li><li><a href=\"/wiki/Ernest_Augustus,_King_of_Hanover\" title=\"Ernest Augustus, King of Hanover\">Ernest Augustus, King of Hanover</a></li><li><a href=\"/wiki/Prince_Augustus_Frederick,_Duke_of_Sussex\" title=\"Prince Augustus Frederick, Duke of Sussex\">Prince Augustus Frederick, Duke of Sussex</a></li><li><a href=\"/wiki/Prince_Adolphus,_Duke_of_Cambridge\" title=\"Prince Adolphus, Duke of Cambridge\">Prince Adolphus, Duke of Cambridge</a></li><li><a href=\"/wiki/Princess_Mary,_Duchess_of_Gloucester_and_Edinburgh\" title=\"Princess Mary, Duchess of Gloucester and Edinburgh\">Princess Mary, Duchess of Gloucester and Edinburgh</a></li><li><a href=\"/wiki/Princess_Sophia_of_the_United_Kingdom\" title=\"Princess Sophia of the United Kingdom\">Princess Sophia</a></li><li><a href=\"/wiki/Prince_Octavius_of_Great_Britain\" title=\"Prince Octavius of Great Britain\">Prince Octavius</a></li><li><a href=\"/wiki/Prince_Alfred_of_Great_Britain\" title=\"Prince Alfred of Great Britain\">Prince Alfred</a></li><li><a href=\"/wiki/Princess_Amelia_of_the_United_Kingdom\" title=\"Princess Amelia of the United Kingdom\">Princess Amelia</a></li></ul></div></td></tr><tr><td class=\"infobox-full-data\" colspan=\"2\"><link href=\"mw-data:TemplateStyles:r1066479718\" rel=\"mw-deduplicated-inline-style\"/><table class=\"infobox\" style=\"border-collapse:collapse; border-spacing:0px; border:none; width:100%; margin:0px; font-size:100%; clear:none; float:none\"><tbody><tr><th class=\"infobox-header\" colspan=\"2\" style=\"text-align:left\">Names</th></tr><tr><td class=\"infobox-full-data nickname\" colspan=\"2\" style=\"text-align:left; padding-left:0.7em;\">George William Frederick</td></tr></tbody></table></td></tr><tr><th class=\"infobox-label\" scope=\"row\"><a href=\"/wiki/Dynasty\" title=\"Dynasty\">House</a></th><td class=\"infobox-data\"><a href=\"/wiki/House_of_Hanover\" title=\"House of Hanover\">Hanover</a></td></tr><tr><th class=\"infobox-label\" scope=\"row\">Father</th><td class=\"infobox-data\"><a href=\"/wiki/Frederick,_Prince_of_Wales\" title=\"Frederick, Prince of Wales\">Frederick, Prince of Wales</a></td></tr><tr><th class=\"infobox-label\" scope=\"row\">Mother</th><td class=\"infobox-data\"><a href=\"/wiki/Princess_Augusta_of_Saxe-Gotha\" title=\"Princess Augusta of Saxe-Gotha\">Princess Augusta of Saxe-Gotha</a></td></tr><tr><th class=\"infobox-label\" scope=\"row\">Religion</th><td class=\"infobox-data\"><a class=\"mw-redirect\" href=\"/wiki/Protestant\" title=\"Protestant\">Protestant</a></td></tr><tr><th class=\"infobox-label\" scope=\"row\">Signature</th><td class=\"infobox-data\"><a class=\"image\" href=\"/wiki/File:George_III_Signature.svg\" title=\"George III's signature\"><img alt='Handwritten \"George\" with a huge leading \"G\" and a curious curlicue at the end' data-file-height=\"214\" data-file-width=\"251\" decoding=\"async\" height=\"107\" src=\"//upload.wikimedia.org/wikipedia/commons/thumb/8/81/George_III_Signature.svg/125px-George_III_Signature.svg.png\" srcset=\"//upload.wikimedia.org/wikipedia/commons/thumb/8/81/George_III_Signature.svg/188px-George_III_Signature.svg.png 1.5x, //upload.wikimedia.org/wikipedia/commons/thumb/8/81/George_III_Signature.svg/250px-George_III_Signature.svg.png 2x\" width=\"125\"/></a></td></tr></tbody></table>\n"
          ]
        }
      ]
    },
    {
      "cell_type": "markdown",
      "source": [
        "#children of King \"George III\""
      ],
      "metadata": {
        "id": "gPUMp-YawlmH"
      }
    },
    {
      "cell_type": "code",
      "source": [
        "\n",
        "c=\"Issue\"\n",
        "# for i in a:\n",
        "#     if  b in i:\n",
        "#       print(i)\n",
        "for data in title_wikipedia.find_all('tr'):\n",
        "      if c in data.get_text():\n",
        "        a=data.get_text()\n",
        "        x = a.replace(c, \"\", 2)\n",
        "        print(x)"
      ],
      "metadata": {
        "colab": {
          "base_uri": "https://localhost:8080/"
        },
        "id": "wjlYBMiXwHjF",
        "outputId": "bd359f9c-0ef6-4964-ee33-b5fee2a8563f"
      },
      "execution_count": null,
      "outputs": [
        {
          "output_type": "stream",
          "name": "stdout",
          "text": [
            "George IV, King of the United KingdomPrince Frederick, Duke of York and AlbanyWilliam IV, King of the United KingdomCharlotte, Queen of WürttembergPrince Edward, Duke of Kent and StrathearnPrincess Augusta SophiaElizabeth, Landgravine of Hesse-HomburgErnest Augustus, King of HanoverPrince Augustus Frederick, Duke of SussexPrince Adolphus, Duke of CambridgePrincess Mary, Duchess of Gloucester and EdinburghPrincess SophiaPrince OctaviusPrince AlfredPrincess Amelia\n"
          ]
        }
      ]
    },
    {
      "cell_type": "markdown",
      "source": [
        " father and mother of King \"George III\""
      ],
      "metadata": {
        "id": "P7yTzO7zyIhy"
      }
    },
    {
      "cell_type": "code",
      "source": [
        "URL=\"https://en.wikipedia.org/wiki/George_III\" \n",
        "page = requests.get(URL)\n",
        "soup = BeautifulSoup(page.content, \"html.parser\")\n",
        "title_wikipedia = soup.find('table')\n",
        "b=\"Father\"\n",
        "c=\"Mother\"\n",
        "for data in title_wikipedia.find_all('tr'):\n",
        "      if b in data.get_text():\n",
        "        a=data.get_text()\n",
        "        print(a)\n",
        "      if c in data.get_text():\n",
        "        a=data.get_text()\n",
        "        print(a)"
      ],
      "metadata": {
        "colab": {
          "base_uri": "https://localhost:8080/"
        },
        "id": "9LyziDKDiyjr",
        "outputId": "31adf599-f284-48fe-b40b-6be8dc9f393c"
      },
      "execution_count": null,
      "outputs": [
        {
          "output_type": "stream",
          "name": "stdout",
          "text": [
            "FatherFrederick, Prince of Wales\n",
            "MotherPrincess Augusta of Saxe-Gotha\n"
          ]
        }
      ]
    },
    {
      "cell_type": "markdown",
      "source": [
        "siblings of King \"George IV\""
      ],
      "metadata": {
        "id": "yYzAfINfyYw0"
      }
    },
    {
      "cell_type": "code",
      "source": [
        "URL=\"https://en.wikipedia.org/wiki/George_III\" \n",
        "page = requests.get(URL)\n",
        "soup = BeautifulSoup(page.content, \"html.parser\")\n",
        "title_wikipedia = soup.find('table')\n",
        "c=\"Issue\"\n",
        "for data in title_wikipedia.find_all('tr'):\n",
        "      if c in data.get_text():\n",
        "        a=data.get_text()\n",
        "        x = a.replace(c, \"\", 2)\n",
        "        print(x)"
      ],
      "metadata": {
        "colab": {
          "base_uri": "https://localhost:8080/"
        },
        "id": "no0Y4wAlyLZw",
        "outputId": "3633bf3b-32e7-4d71-eede-f8d97cf48fcf"
      },
      "execution_count": null,
      "outputs": [
        {
          "output_type": "stream",
          "name": "stdout",
          "text": [
            "George IV, King of the United KingdomPrince Frederick, Duke of York and AlbanyWilliam IV, King of the United KingdomCharlotte, Queen of WürttembergPrince Edward, Duke of Kent and StrathearnPrincess Augusta SophiaElizabeth, Landgravine of Hesse-HomburgErnest Augustus, King of HanoverPrince Augustus Frederick, Duke of SussexPrince Adolphus, Duke of CambridgePrincess Mary, Duchess of Gloucester and EdinburghPrincess SophiaPrince OctaviusPrince AlfredPrincess Amelia\n"
          ]
        }
      ]
    },
    {
      "cell_type": "markdown",
      "source": [
        "Descendants of \"Queen Victoria\""
      ],
      "metadata": {
        "id": "535VZOXazGyr"
      }
    },
    {
      "cell_type": "code",
      "source": [
        "URL=\"https://en.wikipedia.org/wiki/Queen_Victoria\" \n",
        "page = requests.get(URL)\n",
        "soup = BeautifulSoup(page.content, \"html.parser\")\n",
        "title_wikipedia = soup.find('table')\n",
        "c=\"Issue\"\n",
        "for data in title_wikipedia.find_all('tr'):\n",
        "      if c in data.get_text():\n",
        "        a=data.get_text()\n",
        "        x = a.replace(c, \"\", 2)\n",
        "        print(x)\n",
        "\n"
      ],
      "metadata": {
        "colab": {
          "base_uri": "https://localhost:8080/"
        },
        "id": "NhqMQ-WGj80o",
        "outputId": "36aaffcd-4037-47b0-81e7-e228cc617318"
      },
      "execution_count": null,
      "outputs": [
        {
          "output_type": "stream",
          "name": "stdout",
          "text": [
            "\n",
            "Victoria, German Empress\n",
            "Edward VII, King of the United Kingdom\n",
            "Alice, Grand Duchess of Hesse and by Rhine\n",
            "Alfred, Duke of Saxe-Coburg and Gotha\n",
            "Helena, Princess Christian of Schleswig-Holstein\n",
            "Princess Louise, Duchess of Argyll\n",
            "Prince Arthur, Duke of Connaught and Strathearn\n",
            "Prince Leopold, Duke of Albany\n",
            "Beatrice, Princess Henry of Battenberg\n",
            "\n"
          ]
        }
      ]
    }
  ]
}